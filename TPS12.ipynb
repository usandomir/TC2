{
 "cells": [
  {
   "cell_type": "markdown",
   "id": "5b194e63",
   "metadata": {},
   "source": [
    "# Trabajo Práctico Semanal 12\n",
    "Teoria de circuitos II\n",
    "\n",
    "### Sandomir L Uriel"
   ]
  },
  {
   "cell_type": "markdown",
   "id": "3fb46c92",
   "metadata": {},
   "source": [
    "### Consigna 1\n",
    "<br><br>\n",
    "Se pide sintetizar un cuadripolo que cumpla con los siguientes parámetros:\n",
    "<img src=\"https://i.gyazo.com/047d1b53b98550971aabfed498b12d81.png\"/>"
   ]
  },
  {
   "cell_type": "markdown",
   "id": "3c28910a",
   "metadata": {},
   "source": [
    "#### Sintesis grafica:\n",
    "<br>\n",
    "<img src=\"https://i.gyazo.com/965c1cbb0bee3ffccd6f2909a78699db.png\"/>"
   ]
  },
  {
   "cell_type": "markdown",
   "id": "54af607c",
   "metadata": {},
   "source": [
    "#### Sintesis analitica\n",
    "<br>\n",
    "El primer componente a remover vemos que es un capacitor en serie:\n",
    "<img src=\"https://i.gyazo.com/9d95c16b112f67ba26b61092012ecd49.png\"/>"
   ]
  },
  {
   "cell_type": "markdown",
   "id": "f0194b72",
   "metadata": {},
   "source": [
    "<br>\n",
    "La segunda remocion, sera entonces un LC serie en derivacion:\n",
    "<img src=\"https://i.gyazo.com/a23a234cf4be23c49d708b78804afa45.png\"/>"
   ]
  },
  {
   "cell_type": "markdown",
   "id": "486aeaaa",
   "metadata": {},
   "source": [
    "Por ultimo, resta remover un tanque LC serie:\n",
    "<img src=\"https://i.gyazo.com/c9708d7e6bbed7f96d4e546374a2dd13.png\"/>"
   ]
  },
  {
   "cell_type": "markdown",
   "id": "5dd31aa2",
   "metadata": {},
   "source": [
    "<br><br>Nos quedamos entonces con un circuito como el siguiente:\n",
    "<img src=\"https://i.gyazo.com/0c3387510b9f537b1c6431f4b1085178.png\"/>\n",
    "<br>\n"
   ]
  },
  {
   "cell_type": "markdown",
   "id": "b66aebe2",
   "metadata": {},
   "source": [
    "#### Simulacion circuital:\n",
    "<br>\n",
    "Reemplazando por los valores obtenidos:\n",
    "<br>\n",
    "<img src=\"https://i.gyazo.com/8aa8998eb7055dcb4e43e835a2fecc40.png\"/>"
   ]
  },
  {
   "cell_type": "markdown",
   "id": "421aaa9b",
   "metadata": {},
   "source": [
    "### Consigna 2\n",
    "<br><br>\n",
    "Se pide dada la siguiente transferencia, obtener la topologia circuital, valores de componentes y parametro K:\n",
    "<img src=\"https://i.gyazo.com/df3b37b0820fa4db8fcc72866b7e53cf.png\"/>"
   ]
  },
  {
   "cell_type": "markdown",
   "id": "3b5a0832",
   "metadata": {},
   "source": [
    "Para sintetizar la tranferencia, sabemos que:\n",
    "<br><br>\n",
    "$\\frac{V_2}{V_1} = \\frac{1}{A} = -\\frac{Y_{21}}{Y_{11}}$\n",
    "<br><br>\n",
    "Con: $Y_{21} = \\frac{K(s+1)}{(s+3)}$ y $Y_{11} = \\frac{(s+2)(s+4)}{(s+3)}$\n",
    "<br><br>\n",
    "Dividimos por $(s+3)$ los polinomios de la trasnferencia para mantener la alternancia de $Y_{11}$"
   ]
  },
  {
   "cell_type": "markdown",
   "id": "1841d25d",
   "metadata": {},
   "source": [
    "#### Sintesis grafica\n",
    "<br>\n",
    "<img src=\"https://i.gyazo.com/847d1134a05cdb57870dcf8c9277e135.png\"/>\n",
    "<br><br>\n",
    "Buscamos entonces un circuito con la siguiente topologia:\n",
    "<img src=\"https://i.gyazo.com/308066e6972f54121fd950ec668e565f.png\"/>"
   ]
  },
  {
   "cell_type": "markdown",
   "id": "9844ff8e",
   "metadata": {},
   "source": [
    "#### Sintesis analitica\n",
    "<br>Removemos parcialmente una resistencia en $\\sigma = 0$ para colocar un cero en $\\sigma = -1$:\n",
    "<img src=\"https://i.gyazo.com/d3cb062915b04c1f753665b547318bf1.png\"/>\n",
    "<br>\n",
    "<br>\n",
    "Ahora removemos el tanque parelelo RC en $\\sigma = -1$:\n",
    "<img src=\"https://i.gyazo.com/a0880e79e33041e532a71828d896526e.png\"/>\n",
    "<br><br>\n",
    "Luego removemos el polo en $\\sigma\\rightarrow-\\infty$:\n",
    "<img src=\"https://i.gyazo.com/ff2c869c5162edfbf1383839bd19eeec.png\"/>"
   ]
  },
  {
   "cell_type": "markdown",
   "id": "ec832c09",
   "metadata": {},
   "source": [
    "<br>Resta obtener el valor del parametro K, para ello, evaluamos a la transferencia pedida en continua y la comparamos al circuito equivalente para tal frecuencia:\n",
    "<img src=\"https://i.gyazo.com/165c4e548323faf01798725e13a82b1c.png\"/>"
   ]
  },
  {
   "cell_type": "markdown",
   "id": "2aeafe5d",
   "metadata": {},
   "source": [
    "#### Simulacion circuital:\n",
    "<br>\n",
    "Reemplazando por los valores obtenidos:\n",
    "<br>\n",
    "<img src=\"https://i.gyazo.com/4b5122ef5cceed9d068a1c88f0691c5a.png\"/>"
   ]
  }
 ],
 "metadata": {
  "kernelspec": {
   "display_name": "Python 3 (ipykernel)",
   "language": "python",
   "name": "python3"
  },
  "language_info": {
   "codemirror_mode": {
    "name": "ipython",
    "version": 3
   },
   "file_extension": ".py",
   "mimetype": "text/x-python",
   "name": "python",
   "nbconvert_exporter": "python",
   "pygments_lexer": "ipython3",
   "version": "3.9.7"
  }
 },
 "nbformat": 4,
 "nbformat_minor": 5
}
