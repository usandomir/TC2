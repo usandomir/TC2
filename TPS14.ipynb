{
 "cells": [
  {
   "cell_type": "markdown",
   "id": "48a49cd9",
   "metadata": {},
   "source": [
    "# Trabajo Práctico Semanal 14\n",
    "Teoria de circuitos II\n",
    "\n",
    "### Sandomir L Uriel"
   ]
  },
  {
   "cell_type": "markdown",
   "id": "9eb2de1c",
   "metadata": {},
   "source": [
    "<br>Se pide obtener los parametros S de la red y analizar su comportamiento segun estos parametros y como se comportan para distintas pulsaciones.\n",
    "<img src=\"https://i.gyazo.com/d7c5ff995efcf04edec1f04fe86b09ab.png\"/>\n",
    "<br><br>\n"
   ]
  },
  {
   "cell_type": "markdown",
   "id": "a7efd336",
   "metadata": {},
   "source": [
    "### Parametros S:"
   ]
  },
  {
   "cell_type": "markdown",
   "id": "d8ca42b0",
   "metadata": {},
   "source": [
    "<img src=\"https://i.gyazo.com/209a8151bf86da67668c46c98e81626d.png\"/>\n",
    "<img src=\"https://i.gyazo.com/d998b024330af9bceb21ba01ef1d751d.png\"/>\n",
    "<img src=\"https://i.gyazo.com/00783272ff753f17433166b19eba32d9.png\"/>\n",
    "<br><br>"
   ]
  },
  {
   "cell_type": "markdown",
   "id": "172068a3",
   "metadata": {},
   "source": [
    "Sabemos que por simetria y pasividad: $S_{11} = S_{22}$ y $S_{12} = S_{21}$\n",
    "<br><br>\n",
    "En el analisis anterior obtuvimos:\n",
    "<br><br>\n",
    "$S_{11} = \\frac{s^3}{s^3 + 2s^2 + 2s + 1}$\n",
    "<br><br>\n",
    "$S_{12} = \\frac{1}{s^3 + 2s^2 + 2s + 1}$"
   ]
  },
  {
   "cell_type": "markdown",
   "id": "d1c7be4b",
   "metadata": {},
   "source": [
    "El parametro $S_{12}$ representa la transmicion directa de tension $\\frac{V_2}{V_1}$, la cual tiene forma de funcion transferencia pasabajos butterworth de orden 3."
   ]
  },
  {
   "cell_type": "markdown",
   "id": "9c8f3294",
   "metadata": {},
   "source": [
    "#### Analisis del comportamiento en frecuencia de los parametros S y sus implicancias"
   ]
  },
  {
   "cell_type": "markdown",
   "id": "c0b53e5f",
   "metadata": {},
   "source": [
    " $S_{12}$:\n",
    "<br><br>\n",
    "$\\omega\\rightarrow0: S_{12} = 1 \\Rightarrow$ Se da la condicion de maxima transmision de potencia para el centro de la banda de paso.\n",
    "<br><br>\n",
    "$\\omega\\rightarrow\\infty: S_{12} = 0 \\Rightarrow$ No hay transmision de potencia en el centro de la banda de detencion.\n",
    "<br><br>\n",
    "$\\omega = 1: S_{12} = \\frac{1}{6} \\Rightarrow$ Evaluando la red en la frecuencia de corte, existe una perdida por insercion."
   ]
  },
  {
   "cell_type": "markdown",
   "id": "c8df099b",
   "metadata": {},
   "source": [
    " $S_{11}$:\n",
    "<br><br>\n",
    "$\\omega\\rightarrow0: S_{11} = 1 \\Rightarrow$ Para el centro de la banda de paso, no hay onda reflejada $\\Rightarrow$ La red esta completamente adaptada.\n",
    "<br><br>\n",
    "$\\omega\\rightarrow\\infty: S_{11} = 0 \\Rightarrow$ Para el centro de la banda de detencion, la onda reflejada es igual a la onda incidente $\\Rightarrow$ La red esta completamente desadaptada.\n",
    "<br><br>\n",
    "$\\omega = 1: S_{11} = \\frac{1}{6} \\Rightarrow$ Evaluando la red en la frecuencia de corte, hay onda reflejada y onda transmitida $\\Rightarrow$ Hay perdidas por retorno."
   ]
  },
  {
   "cell_type": "markdown",
   "id": "6041a600",
   "metadata": {},
   "source": [
    "<img src=\"https://i.gyazo.com/400b1df314c605b73a443b5d31d125b4.png\"/>"
   ]
  }
 ],
 "metadata": {
  "kernelspec": {
   "display_name": "Python 3 (ipykernel)",
   "language": "python",
   "name": "python3"
  },
  "language_info": {
   "codemirror_mode": {
    "name": "ipython",
    "version": 3
   },
   "file_extension": ".py",
   "mimetype": "text/x-python",
   "name": "python",
   "nbconvert_exporter": "python",
   "pygments_lexer": "ipython3",
   "version": "3.9.7"
  }
 },
 "nbformat": 4,
 "nbformat_minor": 5
}
