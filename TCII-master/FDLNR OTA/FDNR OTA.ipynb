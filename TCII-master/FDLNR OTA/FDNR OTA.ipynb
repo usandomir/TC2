{
 "cells": [
  {
   "cell_type": "markdown",
   "id": "92801b08",
   "metadata": {},
   "source": [
    "\n",
    "<img src=\"./logo_UTN.svg\" align=\"right\" width=\"150\" /> \n",
    " Teoría de Circuitos II\n",
    "\n",
    "# FDLNR OTA\n",
    "#### Israel Pavelek\n",
    "\n"
   ]
  },
  {
   "cell_type": "markdown",
   "id": "7260aeb7",
   "metadata": {},
   "source": [
    "Circuito propuesto:\n",
    "\n",
    "<img src=\"./circuito.png\" align=\"center\" width=\"400\" /> \n",
    "\n",
    "En el circuito anterior,tenemos\n",
    "\n",
    "$I_{o1}=V_i \\cdot gm_1$\n",
    "\n",
    "$V_{o1}=\\frac{I_{o1}}{SC1}$\n",
    "\n",
    "$V_{o1}=\\frac{V_i \\cdot gm_1}{SC1}$\n",
    "\n",
    "$I_{o2}=V_{o1}\\cdot gm_2$\n",
    "\n",
    "$I_{o2}\\frac{V_i \\cdot gm_1}{SC1}\\cdot gm_2$\n",
    "\n",
    "$V_{o2}=\\frac{I_{o2}}{SC2}$\n",
    "\n",
    "$V_{o2}=\\frac{V_i \\cdot gm_1 \\cdot gm_2}{S^2C1C2}$\n",
    "\n",
    "$I_{o3}=I{in}$\n",
    "\n",
    "$I{in}=V_{o2}\\cdot gm_3$\n",
    "\n",
    "\n",
    "$I{in}=\\frac{V_i \\cdot gm_1 \\cdot gm_2 \\cdot gm_3}{S^2C1C2}$\n",
    "\n",
    "$Z_{in}=\\frac{V_i}{I{in}}=\\frac{S^2C1C2}{gm_1 \\cdot gm_2 \\cdot gm_3}$\n",
    "\n",
    "Si llamamos $D=\\frac{C1C2}{gm_1 \\cdot gm_2 \\cdot gm_3}$\n",
    "\n",
    "$Z_{in}=\\frac{V_i}{I{in}}=S^2D$\n",
    "\n",
    "Para $S=j\\omega$\n",
    "\n",
    "$Z_{in}=-\\omega^2D$\n",
    "\n",
    "Tenemos un Resistor Negativo Dependiente Linealmente de la Frecuencia (FDLNR).\n",
    "\n",
    "<img src=\"./FDLNR.png\" align=\"center\" width=\"400\" /> \n"
   ]
  },
  {
   "cell_type": "markdown",
   "id": "97d32568",
   "metadata": {},
   "source": [
    "Uso:\n",
    "\n",
    "<img src=\"./Ejemplo.png\" align=\"center\" width=\"800\" /> \n",
    "\n",
    "\n"
   ]
  },
  {
   "cell_type": "markdown",
   "id": "f87351d1",
   "metadata": {},
   "source": [
    "En cambio si quisieramos implementar un FDNR con OTA bastaria cambiar los capacitores por inductores, pero si justamente aplicamos la transformación de Brutton para no colocar inductores, podemos activar dichas inductancias con OTAs a fin de implementar un FDNR con el siguiente circuito.\n",
    "\n",
    "<img src=\"./FDNRcircuito.png\" align=\"center\" width=\"800\" /> \n",
    "\n",
    "Ejemplo de aplicación aplicando la transformación de Brutton y utlizando el FDNR con OTAs\n",
    "\n",
    "<img src=\"./brutton.png\" align=\"center\" width=\"600\" /> \n",
    "\n",
    "Utilizando el FDNR con OTA:\n",
    "\n",
    "<img src=\"./OTA_FDNR.png\" align=\"center\" width=\"600\" /> \n",
    "\n",
    "\n",
    "\n"
   ]
  },
  {
   "cell_type": "code",
   "execution_count": null,
   "id": "d524c010",
   "metadata": {},
   "outputs": [],
   "source": []
  }
 ],
 "metadata": {
  "kernelspec": {
   "display_name": "Python 3",
   "language": "python",
   "name": "python3"
  },
  "language_info": {
   "codemirror_mode": {
    "name": "ipython",
    "version": 3
   },
   "file_extension": ".py",
   "mimetype": "text/x-python",
   "name": "python",
   "nbconvert_exporter": "python",
   "pygments_lexer": "ipython3",
   "version": "3.8.8"
  }
 },
 "nbformat": 4,
 "nbformat_minor": 5
}
