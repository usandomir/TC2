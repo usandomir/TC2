{
 "cells": [
  {
   "cell_type": "markdown",
   "id": "fd412a47",
   "metadata": {},
   "source": [
    "### Importamos los datos\n",
    "Es importante quitar las primeras lineas del archivo y dejar los datos que queremos utilizar para que pueda tomarlos bien el notebook"
   ]
  },
  {
   "cell_type": "code",
   "execution_count": 1,
   "id": "bc7b89b0",
   "metadata": {},
   "outputs": [
    {
     "data": {
      "text/html": [
       "<div>\n",
       "<style scoped>\n",
       "    .dataframe tbody tr th:only-of-type {\n",
       "        vertical-align: middle;\n",
       "    }\n",
       "\n",
       "    .dataframe tbody tr th {\n",
       "        vertical-align: top;\n",
       "    }\n",
       "\n",
       "    .dataframe thead th {\n",
       "        text-align: right;\n",
       "    }\n",
       "</style>\n",
       "<table border=\"1\" class=\"dataframe\">\n",
       "  <thead>\n",
       "    <tr style=\"text-align: right;\">\n",
       "      <th></th>\n",
       "      <th>X (Hz),\"Ch-2 (dBV)\"</th>\n",
       "    </tr>\n",
       "  </thead>\n",
       "  <tbody>\n",
       "    <tr>\n",
       "      <th>20.000000</th>\n",
       "      <td>-0.104049</td>\n",
       "    </tr>\n",
       "    <tr>\n",
       "      <th>21.596021</th>\n",
       "      <td>-0.140773</td>\n",
       "    </tr>\n",
       "    <tr>\n",
       "      <th>23.319405</th>\n",
       "      <td>-0.121948</td>\n",
       "    </tr>\n",
       "    <tr>\n",
       "      <th>25.180318</th>\n",
       "      <td>-0.128754</td>\n",
       "    </tr>\n",
       "    <tr>\n",
       "      <th>27.189733</th>\n",
       "      <td>-0.127988</td>\n",
       "    </tr>\n",
       "  </tbody>\n",
       "</table>\n",
       "</div>"
      ],
      "text/plain": [
       "           X (Hz),\"Ch-2 (dBV)\"\n",
       "20.000000            -0.104049\n",
       "21.596021            -0.140773\n",
       "23.319405            -0.121948\n",
       "25.180318            -0.128754\n",
       "27.189733            -0.127988"
      ]
     },
     "execution_count": 1,
     "metadata": {},
     "output_type": "execute_result"
    }
   ],
   "source": [
    "import pandas as pd\n",
    "import matplotlib.pyplot as plt \n",
    "\n",
    "df=pd.read_csv('amplitud.csv')\n",
    "df.head()"
   ]
  },
  {
   "cell_type": "markdown",
   "id": "e4cd697b",
   "metadata": {},
   "source": [
    "Ahora vamos a cambiar el nombre de las columnas y a crear la columna de frecuencia que fue tomada como indice, en caso de ya haber cambiado el nombre en el archivo obviar el paso de Rename "
   ]
  },
  {
   "cell_type": "code",
   "execution_count": 2,
   "id": "0c6bcb93",
   "metadata": {},
   "outputs": [],
   "source": [
    "df.reset_index(inplace=True)\n",
    "df=df.rename(columns={'index':'Frecuencia','X (Hz),\"Ch-2 (dBV)\"':'Amplitud'})"
   ]
  },
  {
   "cell_type": "code",
   "execution_count": 3,
   "id": "5df2935b",
   "metadata": {},
   "outputs": [
    {
     "data": {
      "text/html": [
       "<div>\n",
       "<style scoped>\n",
       "    .dataframe tbody tr th:only-of-type {\n",
       "        vertical-align: middle;\n",
       "    }\n",
       "\n",
       "    .dataframe tbody tr th {\n",
       "        vertical-align: top;\n",
       "    }\n",
       "\n",
       "    .dataframe thead th {\n",
       "        text-align: right;\n",
       "    }\n",
       "</style>\n",
       "<table border=\"1\" class=\"dataframe\">\n",
       "  <thead>\n",
       "    <tr style=\"text-align: right;\">\n",
       "      <th></th>\n",
       "      <th>Frecuencia</th>\n",
       "      <th>Amplitud</th>\n",
       "    </tr>\n",
       "  </thead>\n",
       "  <tbody>\n",
       "    <tr>\n",
       "      <th>0</th>\n",
       "      <td>20.000000</td>\n",
       "      <td>-0.104049</td>\n",
       "    </tr>\n",
       "    <tr>\n",
       "      <th>1</th>\n",
       "      <td>21.596021</td>\n",
       "      <td>-0.140773</td>\n",
       "    </tr>\n",
       "    <tr>\n",
       "      <th>2</th>\n",
       "      <td>23.319405</td>\n",
       "      <td>-0.121948</td>\n",
       "    </tr>\n",
       "    <tr>\n",
       "      <th>3</th>\n",
       "      <td>25.180318</td>\n",
       "      <td>-0.128754</td>\n",
       "    </tr>\n",
       "    <tr>\n",
       "      <th>4</th>\n",
       "      <td>27.189733</td>\n",
       "      <td>-0.127988</td>\n",
       "    </tr>\n",
       "  </tbody>\n",
       "</table>\n",
       "</div>"
      ],
      "text/plain": [
       "   Frecuencia  Amplitud\n",
       "0   20.000000 -0.104049\n",
       "1   21.596021 -0.140773\n",
       "2   23.319405 -0.121948\n",
       "3   25.180318 -0.128754\n",
       "4   27.189733 -0.127988"
      ]
     },
     "execution_count": 3,
     "metadata": {},
     "output_type": "execute_result"
    }
   ],
   "source": [
    "df.head()"
   ]
  },
  {
   "cell_type": "markdown",
   "id": "70f7993d",
   "metadata": {},
   "source": [
    "Vemos el tamaño de los datos"
   ]
  },
  {
   "cell_type": "code",
   "execution_count": 4,
   "id": "2c2f3f0a",
   "metadata": {},
   "outputs": [
    {
     "data": {
      "text/plain": [
       "(100, 2)"
      ]
     },
     "execution_count": 4,
     "metadata": {},
     "output_type": "execute_result"
    }
   ],
   "source": [
    "df.shape"
   ]
  },
  {
   "cell_type": "markdown",
   "id": "d14ca9a4",
   "metadata": {},
   "source": [
    "### Respuesta de Modulo"
   ]
  },
  {
   "cell_type": "code",
   "execution_count": 14,
   "id": "04735a7c",
   "metadata": {},
   "outputs": [
    {
     "data": {
      "image/png": "[encoded data removed]",
      "text/plain": [
       "<Figure size 432x288 with 1 Axes>"
      ]
     },
     "metadata": {
      "needs_background": "light"
     },
     "output_type": "display_data"
    }
   ],
   "source": [
    "\n",
    "plt.plot(df.Frecuencia, df.Amplitud,marker='|',color='red')\n",
    "plt.xlabel(\"Frecuencia [Hz]\")\n",
    "plt.ylabel(\"Amplitud [dB]\")\n",
    "plt.title(\"Respuesta de modulo\")\n",
    "plt.xscale('log')\n",
    "plt.grid()\n",
    "plt.show()\n"
   ]
  },
  {
   "cell_type": "code",
   "execution_count": 6,
   "id": "41f87af8",
   "metadata": {},
   "outputs": [
    {
     "data": {
      "text/html": [
       "<div>\n",
       "<style scoped>\n",
       "    .dataframe tbody tr th:only-of-type {\n",
       "        vertical-align: middle;\n",
       "    }\n",
       "\n",
       "    .dataframe tbody tr th {\n",
       "        vertical-align: top;\n",
       "    }\n",
       "\n",
       "    .dataframe thead th {\n",
       "        text-align: right;\n",
       "    }\n",
       "</style>\n",
       "<table border=\"1\" class=\"dataframe\">\n",
       "  <thead>\n",
       "    <tr style=\"text-align: right;\">\n",
       "      <th></th>\n",
       "      <th>X (Hz),\"Ch-2 (deg)\"</th>\n",
       "    </tr>\n",
       "  </thead>\n",
       "  <tbody>\n",
       "    <tr>\n",
       "      <th>20.000000</th>\n",
       "      <td>-0.788719</td>\n",
       "    </tr>\n",
       "    <tr>\n",
       "      <th>21.596021</th>\n",
       "      <td>-0.668953</td>\n",
       "    </tr>\n",
       "    <tr>\n",
       "      <th>23.319405</th>\n",
       "      <td>-0.836548</td>\n",
       "    </tr>\n",
       "    <tr>\n",
       "      <th>25.180318</th>\n",
       "      <td>-0.943260</td>\n",
       "    </tr>\n",
       "    <tr>\n",
       "      <th>27.189733</th>\n",
       "      <td>-0.961029</td>\n",
       "    </tr>\n",
       "  </tbody>\n",
       "</table>\n",
       "</div>"
      ],
      "text/plain": [
       "           X (Hz),\"Ch-2 (deg)\"\n",
       "20.000000            -0.788719\n",
       "21.596021            -0.668953\n",
       "23.319405            -0.836548\n",
       "25.180318            -0.943260\n",
       "27.189733            -0.961029"
      ]
     },
     "execution_count": 6,
     "metadata": {},
     "output_type": "execute_result"
    }
   ],
   "source": [
    "df2=pd.read_csv('fase.csv')\n",
    "df2.head()"
   ]
  },
  {
   "cell_type": "code",
   "execution_count": 7,
   "id": "db4d3c05",
   "metadata": {},
   "outputs": [],
   "source": [
    "df2.reset_index(inplace=True)\n",
    "df2=df2.rename(columns={'index':'Frecuencia','X (Hz),\"Ch-2 (deg)\"':'Fase'})"
   ]
  },
  {
   "cell_type": "code",
   "execution_count": 8,
   "id": "47ffd486",
   "metadata": {},
   "outputs": [
    {
     "data": {
      "text/html": [
       "<div>\n",
       "<style scoped>\n",
       "    .dataframe tbody tr th:only-of-type {\n",
       "        vertical-align: middle;\n",
       "    }\n",
       "\n",
       "    .dataframe tbody tr th {\n",
       "        vertical-align: top;\n",
       "    }\n",
       "\n",
       "    .dataframe thead th {\n",
       "        text-align: right;\n",
       "    }\n",
       "</style>\n",
       "<table border=\"1\" class=\"dataframe\">\n",
       "  <thead>\n",
       "    <tr style=\"text-align: right;\">\n",
       "      <th></th>\n",
       "      <th>Frecuencia</th>\n",
       "      <th>Fase</th>\n",
       "    </tr>\n",
       "  </thead>\n",
       "  <tbody>\n",
       "    <tr>\n",
       "      <th>0</th>\n",
       "      <td>20.000000</td>\n",
       "      <td>-0.788719</td>\n",
       "    </tr>\n",
       "    <tr>\n",
       "      <th>1</th>\n",
       "      <td>21.596021</td>\n",
       "      <td>-0.668953</td>\n",
       "    </tr>\n",
       "    <tr>\n",
       "      <th>2</th>\n",
       "      <td>23.319405</td>\n",
       "      <td>-0.836548</td>\n",
       "    </tr>\n",
       "    <tr>\n",
       "      <th>3</th>\n",
       "      <td>25.180318</td>\n",
       "      <td>-0.943260</td>\n",
       "    </tr>\n",
       "    <tr>\n",
       "      <th>4</th>\n",
       "      <td>27.189733</td>\n",
       "      <td>-0.961029</td>\n",
       "    </tr>\n",
       "  </tbody>\n",
       "</table>\n",
       "</div>"
      ],
      "text/plain": [
       "   Frecuencia      Fase\n",
       "0   20.000000 -0.788719\n",
       "1   21.596021 -0.668953\n",
       "2   23.319405 -0.836548\n",
       "3   25.180318 -0.943260\n",
       "4   27.189733 -0.961029"
      ]
     },
     "execution_count": 8,
     "metadata": {},
     "output_type": "execute_result"
    }
   ],
   "source": [
    "df2.head()"
   ]
  },
  {
   "cell_type": "code",
   "execution_count": 9,
   "id": "5d8bfa1e",
   "metadata": {},
   "outputs": [
    {
     "data": {
      "text/plain": [
       "(100, 2)"
      ]
     },
     "execution_count": 9,
     "metadata": {},
     "output_type": "execute_result"
    }
   ],
   "source": [
    "df2.shape"
   ]
  },
  {
   "cell_type": "markdown",
   "id": "2c650c37",
   "metadata": {},
   "source": [
    "### Respuesta de Fase"
   ]
  },
  {
   "cell_type": "code",
   "execution_count": 16,
   "id": "f8623660",
   "metadata": {},
   "outputs": [
    {
     "data": {
      "image/png": "[encoded data removed]",
      "text/plain": [
       "<Figure size 432x288 with 1 Axes>"
      ]
     },
     "metadata": {
      "needs_background": "light"
     },
     "output_type": "display_data"
    }
   ],
   "source": [
    "\n",
    "plt.plot(df2.Frecuencia, df2.Fase,color='red')\n",
    "plt.xlabel(\"Frecuencia [Hz]\")\n",
    "plt.ylabel(\"Fase [º]\")\n",
    "plt.title(\"Respuesta de fase\")\n",
    "plt.xscale('log')\n",
    "plt.grid()\n",
    "plt.show()"
   ]
  },
  {
   "cell_type": "code",
   "execution_count": null,
   "id": "13822776",
   "metadata": {},
   "outputs": [],
   "source": []
  }
 ],
 "metadata": {
  "kernelspec": {
   "display_name": "Python 3 (ipykernel)",
   "language": "python",
   "name": "python3"
  },
  "language_info": {
   "codemirror_mode": {
    "name": "ipython",
    "version": 3
   },
   "file_extension": ".py",
   "mimetype": "text/x-python",
   "name": "python",
   "nbconvert_exporter": "python",
   "pygments_lexer": "ipython3",
   "version": "3.9.7"
  }
 },
 "nbformat": 4,
 "nbformat_minor": 5
}
