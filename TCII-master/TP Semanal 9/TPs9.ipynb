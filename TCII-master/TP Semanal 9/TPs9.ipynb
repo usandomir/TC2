{
 "cells": [
  {
   "cell_type": "markdown",
   "id": "92801b08",
   "metadata": {},
   "source": [
    "\n",
    "<img src=\"./logo_UTN.svg\" align=\"right\" width=\"150\" /> \n",
    " Teoría de Circuitos II\n",
    "\n",
    "# Trabajo semanal 9\n",
    "#### Israel Pavelek\n",
    "\n"
   ]
  },
  {
   "cell_type": "markdown",
   "id": "f8107519",
   "metadata": {},
   "source": [
    "Síntesis de funciones de excitación\n",
    "1) Sea la función:\n",
    "\n",
    "$$ Z(s) = \\frac{(s^2+3)(s^2+1)}{s(s^2+2)} $$\n",
    "\n",
    "Se pide hallar la topología circuital y los valores de los componentes para:\n",
    "\n",
    "a) Síntesis de \\( Z(s) \\) mediante el método de Foster en su versión  \"paralelo\" o \"derivación\".\n",
    "\n",
    "b) Idem a) mediante Cauer 1 y 2.\n",
    "\n",
    "2) Sea \n",
    "\n",
    "$$ Y(s) = \\frac{3s(s^2+7/3)} { (s^2+2) (s^2+5) } $$\n",
    "\n",
    "Obtenga los valores de los componentes de la siguiente red sabiendo que L2 y C2 resuenan a 1 r/s.\n",
    "\n",
    "<img src=\"./Circuito.png\" align=\"center\" width=\"400\" /> \n"
   ]
  },
  {
   "cell_type": "markdown",
   "id": "0ed15053",
   "metadata": {},
   "source": [
    "### Foster I\n",
    "\n",
    "$Z(s)=\\frac{K_0}{s}+\\frac{2K_1s}{s^2+2}+K_\\infty s $\n",
    "\n",
    "$K_0=sZ(s)|_{s=0}=\\frac32$\n",
    "\n",
    "$2K_1=\\frac{Z(s)}{s} (s^2+2)|_{s=j\\sqrt2}=\\frac12$\n",
    "\n",
    "$K_\\infty=\\frac{Z(s)}{s}|_{S\\rightarrow \\infty}=1$\n",
    "\n",
    "$Z(s)=\\frac{1}{s \\frac23}+\\frac{\\frac12S}{s^2+2}+s$\n",
    "\n",
    "$Z(s)=\\frac{1}{s \\frac23}+\\frac{1}{2s+\\frac{1}{s\\frac14}}+s$\n",
    "\n",
    "<img src=\"./cir1.png\" align=\"center\" width=\"400\" /> \n",
    "\n",
    "\n",
    "### Foster II\n",
    "\n",
    "$$Y(s) = \\frac{s(s^2+2)}{(s^2+3)(s^2+1)}$$\n",
    "\n",
    "$Y(s)=\\frac{2K_1s}{s^2+1}+\\frac{2K_2s}{s^2+3} $\n",
    "\n",
    "$2K_1=\\frac{Y(s)}{s} (s^2+1)|_{s=j1}=\\frac12$\n",
    "\n",
    "$2K_2=\\frac{Y(s)}{s} (s^2+3)|_{s=j\\sqrt3}=\\frac12$\n",
    "\n",
    "$Y(s)=\\frac{\\frac{1}{2}s}{s^2+1}+\\frac{\\frac{1}{2}s}{s^2+3}=\\frac{1}{2s+\\frac{2}{s}}+\\frac{1}{2s+\\frac{6}{s}}$\n",
    "\n",
    "<img src=\"./cir2.png\" align=\"center\" width=\"400\" /> \n",
    "\n",
    "### Cauer I\n",
    "\n",
    "Removemos polos en alta frecuencia y alternanamos Z  e Y.\n"
   ]
  },
  {
   "cell_type": "code",
   "execution_count": 24,
   "id": "de19d6bc",
   "metadata": {},
   "outputs": [
    {
     "name": "stdout",
     "output_type": "stream",
     "text": [
      "Se removio un inductor en serie de valor: 1\n",
      "Se removio un capacitor en derivacion de valor: 1/2\n",
      "Se removio un inductor en serie de valor: 4\n",
      "Se removio un capacitor en derivacion de valor: 1/6\n"
     ]
    }
   ],
   "source": [
    "from sympy import *\n",
    "init_printing(use_unicode=True)\n",
    "s = symbols('s')\n",
    "Z=(((s*s+1)*(s*s+3))/(s*(s*s+2)))\n",
    "def cauerI (fn):\n",
    "    Impe=True\n",
    "    while(fn!=0):\n",
    "        if(Impe==true):\n",
    "            print(\"Se removio un inductor en serie de valor: \" + str(limit(fn/s,s,oo)))\n",
    "        else:\n",
    "            print(\"Se removio un capacitor en derivacion de valor: \" + str(limit(fn/s,s,oo)))\n",
    "        Impe=not(Impe)\n",
    "        fn=fn-limit(fn/s,s,oo)*s\n",
    "        if(fn==0):\n",
    "            continue\n",
    "        fn=simplify(1/fn)\n",
    "\n",
    "cauerI(Z)"
   ]
  },
  {
   "cell_type": "markdown",
   "id": "a91b490e",
   "metadata": {},
   "source": [
    "El circuito que nos queda es:\n",
    "\n",
    "<img src=\"./cir3.png\" align=\"center\" width=\"400\" /> "
   ]
  },
  {
   "cell_type": "markdown",
   "id": "8a541a1e",
   "metadata": {},
   "source": [
    "### Cauer II\n",
    "\n",
    "Removemos polos en baja frecuencia y alternanamos Z  e Y."
   ]
  },
  {
   "cell_type": "code",
   "execution_count": 25,
   "id": "7b02e391",
   "metadata": {},
   "outputs": [
    {
     "name": "stdout",
     "output_type": "stream",
     "text": [
      "Se removio un capacitor en serie de valor: 2/3\n",
      "Se removio un inductor en derivacion de valor: 5/4\n",
      "Se removio un capacitor en serie de valor: 2/25\n",
      "Se removio un inductor en derivacion de valor: 5\n"
     ]
    }
   ],
   "source": [
    "Z=(((s*s+1)*(s*s+3))/(s*(s*s+2)))\n",
    "\n",
    "def cauerII (fn):\n",
    "    fn=Z    \n",
    "    Impe=True\n",
    "    while(fn!=0):\n",
    "        if(Impe==true):\n",
    "            print(\"Se removio un capacitor en serie de valor: \" + str(1/limit(fn*s,s,0)))\n",
    "        else:\n",
    "            print(\"Se removio un inductor en derivacion de valor: \" + str(1/limit(fn*s,s,0)))\n",
    "        Impe=not(Impe)\n",
    "        fn=fn-limit(fn*s,s,0)/s\n",
    "        if(fn==0):\n",
    "            continue\n",
    "        fn=simplify(1/fn)\n",
    "cauerII(Z)        "
   ]
  },
  {
   "cell_type": "markdown",
   "id": "349a05ab",
   "metadata": {},
   "source": [
    "El circuito que nos queda es:\n",
    "\n",
    "<img src=\"./cir4.png\" align=\"center\" width=\"400\" /> \n"
   ]
  },
  {
   "cell_type": "markdown",
   "id": "b45d5041",
   "metadata": {},
   "source": [
    "### Ejercicio 2"
   ]
  },
  {
   "cell_type": "markdown",
   "id": "f2e48237",
   "metadata": {},
   "source": [
    "$$ Y(s) = \\frac{3s(s^2+7/3)} { (s^2+2) (s^2+5) } $$\n",
    "\n",
    "Sintesis gráfica\n",
    "\n",
    "<img src=\"./sintesisgrafica.png\" align=\"center\" width=\"700\" /> \n"
   ]
  },
  {
   "cell_type": "code",
   "execution_count": 26,
   "id": "40957951",
   "metadata": {},
   "outputs": [
    {
     "data": {
      "image/png": "[encoded data removed]",
      "text/latex": [
       "$\\displaystyle \\frac{\\left(s^{2} + 2\\right) \\left(s^{2} + 5\\right)}{s \\left(3 s^{2} + 7\\right)}$"
      ],
      "text/plain": [
       "⎛ 2    ⎞ ⎛ 2    ⎞\n",
       "⎝s  + 2⎠⋅⎝s  + 5⎠\n",
       "─────────────────\n",
       "     ⎛   2    ⎞  \n",
       "   s⋅⎝3⋅s  + 7⎠  "
      ]
     },
     "execution_count": 26,
     "metadata": {},
     "output_type": "execute_result"
    }
   ],
   "source": [
    "Z=(((s*s+2)*(s*s+5))/((s)*(3*s*s+7)))\n",
    "Z"
   ]
  },
  {
   "cell_type": "markdown",
   "id": "00279042",
   "metadata": {},
   "source": [
    "Hacemos una remoción parcial del polo en continua para ubicar el cero en j1"
   ]
  },
  {
   "cell_type": "code",
   "execution_count": 27,
   "id": "e4c903cb",
   "metadata": {},
   "outputs": [
    {
     "data": {
      "image/png": "[encoded data removed]",
      "text/latex": [
       "$\\displaystyle 1$"
      ],
      "text/plain": [
       "1"
      ]
     },
     "execution_count": 27,
     "metadata": {},
     "output_type": "execute_result"
    }
   ],
   "source": [
    "K1=s*Z.subs(s*s,-1)\n",
    "K1"
   ]
  },
  {
   "cell_type": "markdown",
   "id": "414b0a3c",
   "metadata": {},
   "source": [
    "Removemos un capacitor en serie de valor 1"
   ]
  },
  {
   "cell_type": "code",
   "execution_count": 28,
   "id": "157f3a0b",
   "metadata": {},
   "outputs": [
    {
     "data": {
      "image/png": "[encoded data removed]",
      "text/latex": [
       "$\\displaystyle \\frac{s^{4} + 4 s^{2} + 3}{s \\left(3 s^{2} + 7\\right)}$"
      ],
      "text/plain": [
       " 4      2    \n",
       "s  + 4⋅s  + 3\n",
       "─────────────\n",
       "   ⎛   2    ⎞\n",
       " s⋅⎝3⋅s  + 7⎠"
      ]
     },
     "execution_count": 28,
     "metadata": {},
     "output_type": "execute_result"
    }
   ],
   "source": [
    "Z2=Z-K1/s\n",
    "simplify(Z2)"
   ]
  },
  {
   "cell_type": "markdown",
   "id": "4a0e00d4",
   "metadata": {},
   "source": [
    "Ahora invertimos y removemos el cero generado como polo de admitancia en j1"
   ]
  },
  {
   "cell_type": "code",
   "execution_count": 29,
   "id": "ac2084e4",
   "metadata": {},
   "outputs": [
    {
     "data": {
      "image/png": "[encoded data removed]",
      "text/latex": [
       "$\\displaystyle \\frac{s \\left(3 s^{2} + 7\\right)}{s^{4} + 4 s^{2} + 3}$"
      ],
      "text/plain": [
       "   ⎛   2    ⎞\n",
       " s⋅⎝3⋅s  + 7⎠\n",
       "─────────────\n",
       " 4      2    \n",
       "s  + 4⋅s  + 3"
      ]
     },
     "execution_count": 29,
     "metadata": {},
     "output_type": "execute_result"
    }
   ],
   "source": [
    "Y2=1/Z2\n",
    "simplify(Y2)"
   ]
  },
  {
   "cell_type": "code",
   "execution_count": 30,
   "id": "1c506850",
   "metadata": {},
   "outputs": [
    {
     "data": {
      "image/png": "[encoded data removed]",
      "text/latex": [
       "$\\displaystyle \\frac{3 s^{2} + 7}{s^{2} + 3}$"
      ],
      "text/plain": [
       "   2    \n",
       "3⋅s  + 7\n",
       "────────\n",
       "  2     \n",
       " s  + 3 "
      ]
     },
     "execution_count": 30,
     "metadata": {},
     "output_type": "execute_result"
    }
   ],
   "source": [
    "Y2=((Y2*(s*s+1))/s)\n",
    "simplify(Y2)"
   ]
  },
  {
   "cell_type": "markdown",
   "id": "581a000a",
   "metadata": {},
   "source": [
    "Evaluado en s=j1 vale 2\n",
    "\n",
    "Removemos una serie LC en derivación que resuena en j1\n",
    "\n",
    "El valor de L=1/2 y C= 2"
   ]
  },
  {
   "cell_type": "code",
   "execution_count": 31,
   "id": "e3395c89",
   "metadata": {},
   "outputs": [
    {
     "data": {
      "image/png": "[encoded data removed]",
      "text/latex": [
       "$\\displaystyle \\frac{3 s^{4} - 2 s^{3} + 10 s^{2} - 6 s + 7}{s^{4} + 4 s^{2} + 3}$"
      ],
      "text/plain": [
       "   4      3       2          \n",
       "3⋅s  - 2⋅s  + 10⋅s  - 6⋅s + 7\n",
       "─────────────────────────────\n",
       "         4      2            \n",
       "        s  + 4⋅s  + 3        "
      ]
     },
     "execution_count": 31,
     "metadata": {},
     "output_type": "execute_result"
    }
   ],
   "source": [
    "Y4=Y2-(s*2)/(s*s+1)\n",
    "simplify(Y4)"
   ]
  },
  {
   "cell_type": "markdown",
   "id": "0dbceacc",
   "metadata": {},
   "source": [
    "Nos queda una serie LC en derivación que resuena en $j\\sqrt3$\n",
    "\n",
    "El valor de L=1 y el de C=1/3\n",
    "\n",
    "<img src=\"./ej2.png\" align=\"center\" width=\"400\" /> \n"
   ]
  }
 ],
 "metadata": {
  "kernelspec": {
   "display_name": "Python 3 (ipykernel)",
   "language": "python",
   "name": "python3"
  },
  "language_info": {
   "codemirror_mode": {
    "name": "ipython",
    "version": 3
   },
   "file_extension": ".py",
   "mimetype": "text/x-python",
   "name": "python",
   "nbconvert_exporter": "python",
   "pygments_lexer": "ipython3",
   "version": "3.8.8"
  }
 },
 "nbformat": 4,
 "nbformat_minor": 5
}
