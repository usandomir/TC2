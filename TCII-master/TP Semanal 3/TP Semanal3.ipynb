{
 "cells": [
  {
   "cell_type": "markdown",
   "id": "fecd304c",
   "metadata": {},
   "source": [
    "\n",
    "<img src=\"./logo_UTN.svg\" align=\"right\" width=\"150\" /> \n",
    " Teoría de Circuitos II\n",
    "\n",
    "# Trabajo semanal 3\n",
    "#### Israel Pavelek"
   ]
  },
  {
   "cell_type": "markdown",
   "id": "e4219f0d",
   "metadata": {},
   "source": [
    "Se pide diseñar un filtro pasabanda que cumpla con la siguiente plantilla:\n",
    "\n",
    "$𝜔_0=2 \\pi 22 KHz$\n",
    "\n",
    "Q =5\n",
    "\n",
    "Aproximación Chebyshev con ripple de 0,5 dB\n",
    "\n",
    "También se sabe que la transferencia del filtro debe ser:\n",
    "\n",
    "$|T(f_{s1})|=-16 dB$ para $f_{s1}=16KHz $\n",
    "\n",
    "$|T(f_{s2})|=-24 dB$ para $f_{s2}=36KHz $\n",
    "\n",
    "👉  Obtener la plantilla de diseño pasabanda normalizada\n",
    "\n",
    "👉  Obtener la función transferencia normalizada del prototipo pasabajo que satisfaga el requerimiento del filtro pasabanda.\n",
    "\n",
    "👉  Obtener la transferencia pasabanda normalizada\n",
    "\n",
    "👉  Implementar mediante secciones pasivas separadas por seguidores de tensión activos.\n",
    "\n",
    "👉  Activar las redes pasivas mediante la red propuesta aquí debajo y comprobar mediante simulación el comportamiento deseado."
   ]
  },
  {
   "cell_type": "markdown",
   "id": "546a6015",
   "metadata": {},
   "source": [
    "Utilizamos $𝜔_0$ como norma de frecuencia entonces:\n",
    "\n",
    "Dado Q obtenemos el ancho del banda del filtro:\n",
    "\n",
    "$B=\\frac{1}{Q}=0,2$\n",
    "\n",
    "sabemos que \n",
    "\n",
    "$1=𝜔_{cinf}𝜔_{csup}$\n",
    " \n",
    "Siendo $𝜔_{cinf}$ y $ 𝜔_{csup}$ las frecuencias de corte inferior y superior respectivamente. \n",
    "\n",
    "Por otro lado: \n",
    "\n",
    "$𝜔_{csup}-𝜔_{cinf}=B$\n",
    "\n",
    "Reemplazando:\n",
    "\n",
    "$𝜔_{csup}-\\frac{1}{𝜔_{csup}}=0,2$\n",
    "\n",
    "Multiplicando ambas ecuacioens por $𝜔_{csup}$\n",
    "\n",
    "$𝜔_{csup}^2-1=0,2 𝜔_{csup}$\n",
    "\n",
    "Despejando:\n",
    "\n",
    "$𝜔_{csup}^2-0,2𝜔_{csup}-1=0$\n",
    "\n"
   ]
  },
  {
   "cell_type": "code",
   "execution_count": 1,
   "id": "e9c74168",
   "metadata": {},
   "outputs": [
    {
     "data": {
      "text/plain": [
       "array([ 1.1, -0.9])"
      ]
     },
     "execution_count": 1,
     "metadata": {},
     "output_type": "execute_result"
    }
   ],
   "source": [
    "import numpy as np\n",
    "\n",
    "np.roots([1,-0.2,-1]).round(2)"
   ]
  },
  {
   "cell_type": "markdown",
   "id": "acd38ec7",
   "metadata": {},
   "source": [
    "$𝜔_{cinf}=0,905$\n",
    "\n",
    "$𝜔_{csup}=1,105$\n",
    "\n",
    "Normalizamos las otras dos frecuencias:\n",
    "\n",
    "$𝜔_{s1}=0,72 $\n",
    "\n",
    "$𝜔_{s2}=1,63 $\n",
    "\n",
    "$|T(0,72)|=-16 dB$ \n",
    "\n",
    "$|T(1,63)|=-24 dB$\n",
    "\n",
    "Chequeamos ambas especificaciones para verificar la peor condicion:\n",
    "\n",
    "Plantilla 1\n",
    "\n",
    "𝜔p=1\n",
    "\n",
    "$𝜔s=Q\\frac{(𝜔_{s1}^2-1)}{𝜔_{s1}}=3,34$\n",
    "\n",
    "$\\alpha_{max}=0,5dB$\n",
    "\n",
    "$\\alpha_{min}=16dB$\n"
   ]
  },
  {
   "cell_type": "markdown",
   "id": "b881664a",
   "metadata": {},
   "source": [
    "Un filtro de Chebyshev está de definido por:\n",
    "\n",
    "$$ |T(j𝜔)| =\\frac{1}{\\sqrt{1+𝜖^2 \\cdot Cn(𝜔)^2}} $$\n",
    "\n",
    "Donde:\n",
    "\n",
    "$$ Cn(𝜔)=cosh(n \\cdot cosh^{-1}(𝜔)) $$\n",
    "\n",
    "Para $𝜔_p=1$\n",
    "\n",
    "$$ \\frac{1}{\\alpha_{max[veces]}}=\\frac{1}{\\sqrt{1+𝜖^2}} $$\n",
    "\n",
    "$$ \\frac{1}{10^{\\alpha_{max[dB]}/10}}=\\frac{1}{\\sqrt{1+𝜖^2}} $$\n",
    "\n",
    "$$ 10^{\\alpha_{max[dB]}/10}=1+𝜖^2 $$\n",
    "\n",
    "$$𝜖^2= 10^{\\alpha_{max[dB]}/10}-1 $$\n",
    "\n",
    "$$𝜖= \\sqrt{10^{\\alpha_{max[dB]}/10}-1} $$\n",
    "\n",
    "Para $𝜔_s$ tenemos:\n",
    "\n",
    "$$ \\frac{1}{\\alpha_{min[veces]}}=\\frac{1}{\\sqrt{1+𝜖^2 \\cdot cosh^2(n \\cdot cosh^{-1}(𝜔_s))}} $$\n",
    "\n",
    "$$ 10^{\\alpha_{min[dB]}/10}=1+𝜖^2\\cosh^2(n \\cdot cosh^{-1}(𝜔_s)) $$\n",
    "\n",
    "$$ \\sqrt{\\frac{10^{\\alpha_{min[dB]}/10}-1}{𝜖^2}}=cosh(n \\cdot cosh^{-1}(𝜔_s)) $$\n",
    "\n",
    "$$ cosh(\\sqrt{\\frac{10^{\\alpha_{min[dB]}/10}-1}{𝜖^2}})=n \\cdot cosh^{-1}(𝜔_s) $$\n",
    "\n",
    "$$ n= \\frac{cosh^{-1}(\\sqrt{\\frac{10^{\\alpha_{min[dB]}/10}-1}{𝜖^2}})}{cosh^{-1}(𝜔_s)} $$"
   ]
  },
  {
   "cell_type": "code",
   "execution_count": 2,
   "id": "9b2a563c",
   "metadata": {},
   "outputs": [
    {
     "name": "stdout",
     "output_type": "stream",
     "text": [
      "Episilon: 0.35\n",
      "Orden: 2.0\n"
     ]
    }
   ],
   "source": [
    "alfa_min=16 # en dB\n",
    "alfa_max=0.5 # en dB\n",
    "wp=1\n",
    "ws=3.34\n",
    "epsilon=np.sqrt(10**(alfa_max/10)-1)\n",
    "N=np.arccosh(np.sqrt((10**(alfa_min/10)-1)/epsilon**2))/np.arccosh(ws)\n",
    "N=np.ceil(N)\n",
    "print(\"Episilon:\",epsilon.round(2))\n",
    "print(\"Orden:\",N)"
   ]
  },
  {
   "cell_type": "markdown",
   "id": "8a402fe2",
   "metadata": {},
   "source": [
    "Plantilla 2\n",
    "\n",
    "𝜔p=1\n",
    "\n",
    "$𝜔s=Q\\frac{(𝜔_{s2}^2-1)}{𝜔_{s2}}=4,06$\n",
    "\n",
    "$\\alpha_{max}=0,5dB$\n",
    "\n",
    "$\\alpha_{min}=24dB$"
   ]
  },
  {
   "cell_type": "code",
   "execution_count": 3,
   "id": "472460cd",
   "metadata": {},
   "outputs": [
    {
     "name": "stdout",
     "output_type": "stream",
     "text": [
      "Episilon: 0.35\n",
      "Orden: 3.0\n"
     ]
    }
   ],
   "source": [
    "alfa_min=24 # en dB\n",
    "alfa_max=0.5 # en dB\n",
    "wp=1\n",
    "ws=4.06\n",
    "epsilon=np.sqrt(10**(alfa_max/10)-1)\n",
    "N=np.arccosh(np.sqrt((10**(alfa_min/10)-1)/epsilon**2))/np.arccosh(ws)\n",
    "N=np.ceil(N)\n",
    "print(\"Episilon:\",epsilon.round(2))\n",
    "print(\"Orden:\",N)"
   ]
  },
  {
   "cell_type": "markdown",
   "id": "200badf7",
   "metadata": {},
   "source": [
    "Dada la peor condición debemos realizar un prototipo Pasabajo de orden 3 con la plantilla 2.\n",
    "\n",
    "Sabiendo que nuestro filtro es de tercer orden obtenemos los polinomios:\n",
    "        \n",
    "$$ C_n(𝜔)=2𝜔 C_{n-1}(𝜔)-C_{n-2}(𝜔)$$\n",
    "\n",
    "$$ C_0(𝜔)=1 $$\n",
    "$$ C_1(𝜔)= 𝜔 $$\n",
    "$$ C_2(𝜔)=2𝜔^2-1 $$\n",
    "$$ C_3(𝜔)=2𝜔 (2𝜔^2-1)-𝜔 =4𝜔^3-3𝜔 $$\n",
    "\n",
    "Armando el demonimador:\n",
    "\n",
    "$Den(j𝜔)^2=1+𝜖^2 \\cdot C_3^2(𝜔) $\n",
    "\n",
    "$Den(j𝜔)^2=1+𝜖^2 \\cdot (4𝜔^3−3𝜔)^2$\n",
    "\n",
    "$𝜔^3=\\frac{s^3}{j^3}=\\frac{s^3}{-j} $\n",
    "\n",
    "$𝜔=\\frac{s}{j} $\n",
    "\n",
    "$Den(s)^2=1+𝜖^2 \\cdot (\\frac{-4s^3}{j}-\\frac{3s}{j})^2 $\n",
    "\n",
    "$Den(s)^2=1+𝜖^2 \\cdot \\frac{1}{j^2}(-4s^3-3s)^2 $\n",
    "\n",
    "$Den(s)^2=1-𝜖^2 \\cdot (-4s^3-3s)^2 $\n",
    "\n",
    "$Den(s)^2=1-𝜖^2 \\cdot (16s^6+24s^4+9s^2) $\n",
    "\n",
    "Expandimos todo y obtenemos los polos y nos quedamos con aquellos que tienen parte real negativa:"
   ]
  },
  {
   "cell_type": "code",
   "execution_count": 4,
   "id": "7fe146a1",
   "metadata": {},
   "outputs": [
    {
     "name": "stdout",
     "output_type": "stream",
     "text": [
      "[(-0.31+1.02j), (-0.31-1.02j), -0.63]\n"
     ]
    }
   ],
   "source": [
    "from sympy import *\n",
    "from sympy.solvers import solve\n",
    "import numpy as np\n",
    "from sympy import init_printing\n",
    "init_printing() \n",
    "\n",
    "epsilon=0.35\n",
    "s=Symbol('s') \n",
    "cn=(-4*s**3-3*s)**2 \n",
    "den=1-(epsilon**2)*expand(cn)\n",
    "den=poly(den)\n",
    "den=tuple(den.all_coeffs())\n",
    "polos=np.roots(den).round(2)\n",
    "polost=[]\n",
    "for polo in polos:\n",
    "    if (polo.real < 0):\n",
    "        if(polo.imag==0):\n",
    "            polost.append(polo.real)\n",
    "        else:polost.append(polo)\n",
    "print(polost)  "
   ]
  },
  {
   "cell_type": "markdown",
   "id": "2cd40861",
   "metadata": {},
   "source": [
    "Armamos el nominador sabiendo que la sección de segundo orden cuyo polo es $\\alpha±j\\beta$\n",
    "\n",
    "$$T_{sos}(s)=\\frac{\\alpha^2+\\beta^2}{s^2-2\\alpha s+\\alpha^2+\\beta^2}$$\n"
   ]
  },
  {
   "cell_type": "code",
   "execution_count": 5,
   "id": "85275abb",
   "metadata": {
    "scrolled": true
   },
   "outputs": [
    {
     "name": "stdout",
     "output_type": "stream",
     "text": [
      "[[1, 0.62, 1.14], [1, 0.63]]\n"
     ]
    }
   ],
   "source": [
    "den_2sos=[]\n",
    "polos_simply=[]\n",
    "polos_simply.append(polost[0])\n",
    "for i in range(1,len(polost)):\n",
    "    if((polost[i].real!=polost[i-1].real) or (polost[i].imag!=-polost[i-1].imag)):\n",
    "        polos_simply.append(polost[i])\n",
    "for polo in polos_simply:\n",
    "    if(polo.imag!=0):\n",
    "        den_2sos.append([1, -2*(polo.real).round(2), (polo.real**2+polo.imag**2).round(2)])\n",
    "    else:\n",
    "        den_2sos.append([1, -polo.real])\n",
    "print(den_2sos)\n",
    "    "
   ]
  },
  {
   "cell_type": "markdown",
   "id": "99bdf166",
   "metadata": {},
   "source": [
    "$$T(s)=\\frac{1,14}{s^2+0,62s+1,14} \\cdot \\frac{0,63}{s+0,63} $$"
   ]
  },
  {
   "cell_type": "markdown",
   "id": "ad0fd069",
   "metadata": {},
   "source": [
    "Para pasarlo a pasabanda aplicamos el nucleo de transformación en donde:\n",
    "\n",
    "\n",
    "$$s=Q\\frac{S^2+1}{S}$$\n",
    "\n",
    "Teniendo el filtro normalizado para 1\n",
    "\n",
    "\n",
    "$$T(s)=\\frac{1,14}{{Q^2(\\frac{S^2+1}{S})}^2+0,62{Q\\frac{S^2+1}{S}}+1,14} \\cdot \\frac{0,63}{{Q\\frac{S^2+1}{S}}+0,63} $$\n",
    "\n",
    "$$T(s)=\\frac{1,14}{{Q^2(\\frac{S^4+2S^2+1}{S^2})}+0,62{Q\\frac{S^2+1}{S}}+1,14} \\cdot \\frac{0,63}{{Q\\frac{S^2+1}{S}}+0,63} $$\n",
    "\n",
    "$$T(s)=\\frac{1,14S^2}{{Q^2(S^4+2S^2+1)}+0,62S{Q (S^2+1)}+1,14S^2} \\cdot \\frac{0,63S}{Q(S^2+1)+0,63S} $$\n",
    "\n",
    "$$T(s)=\\frac{1,14S^2}{Q^2S^4+2Q^2S^2+Q^2+0,62S(QS^2+Q)+1,14S^2} \\cdot \\frac{0,63S}{QS^2+Q+0,63S} $$\n",
    "\n",
    "$$T(s)=\\frac{1,14S^2}{Q^2S^4+2Q^2S^2+Q^2+0,62QS^3+Q0,62S+1,14S^2} \\cdot \\frac{\\frac{0,63S}{Q}}{S^2+1+\\frac{0,63S}{Q}} $$\n",
    "\n",
    "$$T(s)=\\frac{1,14S^2}{Q^2S^4+0,62QS^3+2Q^2S^2+1,14S^2+0,62QS+Q^2}  \\cdot \\frac{\\frac{0,63S}{Q}}{S^2+\\frac{0,63S}{Q}+1} $$\n",
    "\n",
    "$$T(s)=\\frac{\\frac{1,14S^2}{Q^2}}{S^4+\\frac{0,62S^3}{Q}+S^2(2+\\frac{1,14}{Q^2})+\\frac{0,62}{Q}S+1}  \\cdot \\frac{\\frac{0,63S}{Q}}{S^2+\\frac{0,63S}{Q}+1} $$\n",
    "\n",
    "Reemplazando que Q=5\n",
    "\n",
    "$$T(s)=\\frac{0,0456S^2}{S^4+0,124S^3+2,0456S^2+0,124S+1}  \\cdot \\frac{0.124S}{S^2+0,124S+1} $$\n",
    "\n",
    "Vamos a verificar todo:"
   ]
  },
  {
   "cell_type": "code",
   "execution_count": 6,
   "id": "eaf08ab0",
   "metadata": {},
   "outputs": [
    {
     "data": {
      "image/png": "[encoded data removed]",
      "text/latex": [
       "$\\displaystyle \\frac{0.7182}{s^{3} + 1.25 s^{2} + 1.5306 s + 0.7182}$"
      ],
      "text/plain": [
       "             0.7182             \n",
       "────────────────────────────────\n",
       " 3         2                    \n",
       "s  + 1.25⋅s  + 1.5306⋅s + 0.7182"
      ]
     },
     "execution_count": 6,
     "metadata": {},
     "output_type": "execute_result"
    }
   ],
   "source": [
    "#T(s)=\\frac{1,2}{s^2+0,68s+1,2} \\cdot \\frac{0,67}{s+0,67} $$\n",
    "Tpb=(1.14)/(s**2+0.62*s+1.14) * ((0.63)/(s+0.63))\n",
    "Tpb=expand(Tpb)\n",
    "Tpb"
   ]
  },
  {
   "cell_type": "code",
   "execution_count": 7,
   "id": "ea0351fa",
   "metadata": {},
   "outputs": [
    {
     "data": {
      "image/png": "[encoded data removed]",
      "text/latex": [
       "$\\displaystyle \\frac{0.0057456 s^{3}}{1.0 s^{6} + 0.25 s^{5} + 3.061224 s^{4} + 0.5057456 s^{3} + 3.061224 s^{2} + 0.25 s + 1.0}$"
      ],
      "text/plain": [
       "                                          3                               \n",
       "                               0.0057456⋅s                                \n",
       "──────────────────────────────────────────────────────────────────────────\n",
       "     6         5             4              3             2               \n",
       "1.0⋅s  + 0.25⋅s  + 3.061224⋅s  + 0.5057456⋅s  + 3.061224⋅s  + 0.25⋅s + 1.0"
      ]
     },
     "execution_count": 7,
     "metadata": {},
     "output_type": "execute_result"
    }
   ],
   "source": [
    "Q=5\n",
    "monico=true\n",
    "# si no me interesa monico\n",
    "if monico==true:\n",
    "    z=((s**2+1)/s)  #agrego el Q a mano en cada expresión para que me quede mónico\n",
    "    Tpband=(1.14/Q**2)/(z**2+0.62*z/Q+1.14/Q**2) * ((0.63/Q)/(z+0.63/Q))\n",
    "else:\n",
    "    z=(Q*(s**2+1)/s)\n",
    "    Tpband=(1.01)/(z**2+0.62*z+1.14) * ((0.63)/(z+0.63))\n",
    "    \n",
    "Tpband=cancel(Tpband)\n",
    "Tpband"
   ]
  },
  {
   "cell_type": "code",
   "execution_count": 8,
   "id": "f99929fb",
   "metadata": {},
   "outputs": [
    {
     "data": {
      "text/plain": [
       "array([-0.03+1.11j, -0.03-1.11j, -0.06+1.j  , -0.06-1.j  , -0.03+0.9j ,\n",
       "       -0.03-0.9j ])"
      ]
     },
     "execution_count": 8,
     "metadata": {},
     "output_type": "execute_result"
    }
   ],
   "source": [
    "polos=np.roots([1,0.25,3.061224,0.5057456,3.061224,0.25,1])\n",
    "polos.round(2)"
   ]
  },
  {
   "cell_type": "code",
   "execution_count": 9,
   "id": "1b4e924f",
   "metadata": {},
   "outputs": [
    {
     "name": "stdout",
     "output_type": "stream",
     "text": [
      "[-0.03+1.11j -0.03-1.11j -0.06+1.j   -0.06-1.j   -0.03+0.9j  -0.03-0.9j ]\n"
     ]
    }
   ],
   "source": [
    "np.union1d(np.roots([1,0.124,2.0456,0.124,1]),np.roots([1,0.124,1]))\n",
    "print (polos.round(2))\n"
   ]
  },
  {
   "cell_type": "markdown",
   "id": "8ffa0628",
   "metadata": {},
   "source": [
    "Obtuvimos los mismos polos por lo tanto seguimos adelante:\n",
    "\n",
    "Vamos a obtener ahora las secciones de segundo orden:"
   ]
  },
  {
   "cell_type": "code",
   "execution_count": 10,
   "id": "f3098446",
   "metadata": {},
   "outputs": [
    {
     "name": "stdout",
     "output_type": "stream",
     "text": [
      "[[1, 0.0683047892112741, 1.2264032803537173], [1, 0.12600000000000214, 1.0000000000000262], [1, 0.05569521078872298, 0.8153924700132515]]\n"
     ]
    }
   ],
   "source": [
    "den_2sos=[]\n",
    "polos_simply=[]\n",
    "polos_simply.append(polos[0])\n",
    "for i in range(1,len(polos)):\n",
    "    if((polos[i].real!=polos[i-1].real) or (polos[i].imag!=-polos[i-1].imag)):\n",
    "        polos_simply.append(polos[i])\n",
    "for polo in polos_simply:\n",
    "    if(polo.imag!=0):\n",
    "        den_2sos.append([1, -2*(polo.real), (polo.real**2+polo.imag**2)])\n",
    "    else:\n",
    "        den_2sos.append([1, -polo.real])\n",
    "print(den_2sos)"
   ]
  },
  {
   "cell_type": "code",
   "execution_count": 11,
   "id": "132bd293",
   "metadata": {},
   "outputs": [
    {
     "name": "stdout",
     "output_type": "stream",
     "text": [
      "w01: 1.107\n",
      "Q1: 16.213\n",
      "w02: 0.903\n",
      "Q2: 16.213\n",
      "w03: 1.0\n",
      "Q3: 7.937\n"
     ]
    }
   ],
   "source": [
    "w01=np.sqrt(den_2sos[0][2])\n",
    "w02=np.sqrt(den_2sos[2][2])\n",
    "w03=np.sqrt(den_2sos[1][2])\n",
    "Q1=w01/den_2sos[0][1]\n",
    "Q2=w02/den_2sos[2][1]\n",
    "Q3=w03/den_2sos[1][1]\n",
    "print(\"w01:\",w01.round(3))\n",
    "print(\"Q1:\",Q1.round(3))\n",
    "print(\"w02:\",w02.round(3))\n",
    "print(\"Q2:\",Q2.round(3))\n",
    "print(\"w03:\",w03.round(3))\n",
    "print(\"Q3:\",Q3.round(3))\n"
   ]
  },
  {
   "cell_type": "markdown",
   "id": "c8406984",
   "metadata": {},
   "source": [
    "$$T(s)= \\frac{0.068S}{S^2+0.068S+1.226} \\cdot \\frac{0.126S}{S^2+0.126S+1} \\cdot \\frac{0.056S}{S^2+0.056S+0.815} $$"
   ]
  },
  {
   "cell_type": "markdown",
   "id": "0c5ac937",
   "metadata": {},
   "source": [
    "De la relacíón de ganancia de la transferencia completa a las 3 SOS 0,068 x 0,126 x 0,056=0,000479808\n",
    "\n",
    "\n",
    "$\\frac{0,0057456}{0,000479808}=11,97$ Veces falta amplificar\n",
    "\n",
    "\n",
    "$$T(s)= 11,97 \\cdot \\frac{0.068S}{S^2+0.068S+1.226} \\cdot \\frac{0.126S}{S^2+0.126S+1} \\cdot \\frac{0.056S}{S^2+0.056S+0.815} $$\n",
    "\n"
   ]
  },
  {
   "cell_type": "markdown",
   "id": "44c950b5",
   "metadata": {},
   "source": [
    "Secciones de pasivas de segundo orden para implementar el filtro:\n",
    "    \n",
    "    \n",
    "<img src=\"./LRC.png\" align=\"center\" width=\"400\" /> \n",
    "\n",
    "Cuya transferencia viene dada por:\n",
    "\n",
    "$$T(S)= \\frac{\\frac{S}{CR}}{S^2+\\frac{S}{CR}+\\frac{1}{LC}} $$\n",
    "\n",
    "si C=1\n",
    "\n",
    "Primera sección:\n",
    "\n",
    "$0,068=\\frac{1}{R}$\n",
    "\n",
    "$1,226=\\frac{1}{L}$\n",
    "\n",
    "$R=14,7$\n",
    "\n",
    "$L=0,8156$\n",
    "\n",
    "Para la segunda sección:\n",
    "\n",
    "$0,126=\\frac{1}{R}$\n",
    "\n",
    "$1=\\frac{1}{L}$\n",
    "\n",
    "$R=7,93$\n",
    "\n",
    "$L=1$\n",
    "\n",
    "Para la tercer sección:\n",
    "\n",
    "$0,056=\\frac{1}{R}$\n",
    "\n",
    "$0,815=\\frac{1}{L}$\n",
    "\n",
    "$R=17,85$\n",
    "\n",
    "$L=1,22$\n",
    "\n",
    "\n",
    "<img src=\"./norm.png\" align=\"center\" width=\"800\" /> \n",
    "\n",
    "\n",
    "Desnormalizamos los componentes para $\\omega=2\\pi22KHz$\n",
    "\n",
    "Elegimos una norma de impedancia = $1K\\Omega$\n",
    "\n",
    "$C'=\\frac{C}{2\\pi\\cdot 22KHz\\cdot 1K\\Omega}$\n",
    "\n",
    "$L'=\\frac{L \\cdot 1K\\Omega}{2\\pi22KHz}$\n",
    "\n",
    "$R'=R 1K\\Omega$\n",
    "\n",
    "Circuito desnormalizado:\n",
    "\n",
    "<img src=\"./desnorm.png\" align=\"center\" width=\"800\" /> \n",
    "\n",
    "\n",
    "<img src=\"./simu.png\" align=\"center\" width=\"800\" /> \n",
    "\n",
    "<img src=\"./simu2.png\" align=\"center\" width=\"800\" /> \n",
    "\n",
    "\n",
    "Circuito activado en donde cada celda \"L activa\" gana 2 por lo tanto nos resta una ganancia de 1,5 final:\n",
    "\n",
    "<img src=\"./activa.png\" align=\"center\" width=\"800\" /> \n",
    "\n",
    "<img src=\"./simu3.png\" align=\"center\" width=\"800\" /> \n",
    "\n",
    "\n",
    "\n",
    "\n"
   ]
  },
  {
   "cell_type": "markdown",
   "id": "b4639ec3",
   "metadata": {},
   "source": [
    "Aclaración: Podria haberse obviado el último operacional a modo de modificar algunas de las dos resistencias últimas de la red de Antoniu pero hay que tener cuidado dado que esos valores modifican ademas el valor de la L equivalente, en cambio dejando un último operacional podemos con un resistor SOLAMENTE modificar la ganancia de en la banda de paso sin modificar otro parametro del filtro."
   ]
  },
  {
   "cell_type": "code",
   "execution_count": null,
   "id": "5057a72c",
   "metadata": {},
   "outputs": [],
   "source": []
  }
 ],
 "metadata": {
  "kernelspec": {
   "display_name": "Python 3",
   "language": "python",
   "name": "python3"
  },
  "language_info": {
   "codemirror_mode": {
    "name": "ipython",
    "version": 3
   },
   "file_extension": ".py",
   "mimetype": "text/x-python",
   "name": "python",
   "nbconvert_exporter": "python",
   "pygments_lexer": "ipython3",
   "version": "3.8.8"
  }
 },
 "nbformat": 4,
 "nbformat_minor": 5
}
