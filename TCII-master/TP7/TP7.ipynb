{
 "cells": [
  {
   "cell_type": "markdown",
   "id": "dded3c1a",
   "metadata": {},
   "source": [
    "\n",
    "<img src=\"./logo_UTN.svg\" align=\"right\" width=\"150\" /> \n",
    " Teoría de Circuitos II\n",
    "\n",
    "# TP 7\n"
   ]
  },
  {
   "cell_type": "markdown",
   "id": "93f564de",
   "metadata": {},
   "source": [
    "### Ejercicio 1\n",
    "Sintetice un cuadripolo en vacío que cumpla con:\n",
    "\n",
    "* a) $-Y_{21}=\\frac{s(s+1)}{s+2}$   $Y_{22}=\\frac{s(s+2.25)}{s+2}$\n",
    "\n",
    "\n",
    "* b) $Z_{21}=\\frac{s}{s^2+2}$    $Z_{22}=\\frac{1+2s^2}{s(s^2+2)}$\n",
    "\n",
    "\n",
    "* c) $-Y_{21}=\\frac{1}{s(s^2+4)}$   $Y_{11}=\\frac{(s^2+1)(s^2+9)}{s(s^2+4)}$\n",
    "\n",
    "\n",
    "* d) $-Y_{21}=\\frac{s(s^2+1)}{(s^2+2)(s^2+5)}$   $Y_{11}=\\frac{3s(s^2+\\frac{7}{3})}{(s^2+2)(s^2+5)}$\n"
   ]
  },
  {
   "cell_type": "markdown",
   "id": "4fd129ce",
   "metadata": {},
   "source": [
    "### Ejercicio 2\n",
    "\n",
    "Sintetice un cuadripolo Lattice simétrico en vacío que cumpla con:\n",
    "\n",
    "<img src=\"./ej2.png\" align=\"center\" width=\"400\" /> \n"
   ]
  },
  {
   "cell_type": "markdown",
   "id": "4ed954f1",
   "metadata": {},
   "source": [
    "### Ejercicio 3\n",
    "\n",
    "Conociendo la transferencia en vacío:\n",
    "\n",
    "$$\\frac{V_2}{V_1}=\\frac{s^2+1}{2s^2+1}$$\n",
    "\n",
    "* a Obtenga un circuito con 3 inductores y 1 capacitor\n",
    "\n",
    "* b Obtenga un circuito con 3 capacitores y 1 Inductor\n"
   ]
  },
  {
   "cell_type": "markdown",
   "id": "456951e6",
   "metadata": {},
   "source": [
    "### Ejercicio 4\n",
    "\n",
    "Sintetice la siguiente transferencia cargada con componentes no disipativos:  \n",
    "\n",
    "<img src=\"./ej4.png\" align=\"center\" width=\"400\" /> \n"
   ]
  },
  {
   "cell_type": "markdown",
   "id": "60db3f97",
   "metadata": {},
   "source": [
    "### Ejercicio 5\n",
    "\n",
    "Sintetice la siguiente transferencia cargada con componentes RC:  \n",
    "\n",
    "<img src=\"./ej5.png\" align=\"center\" width=\"400\" /> \n"
   ]
  },
  {
   "cell_type": "code",
   "execution_count": null,
   "id": "b95ea39b",
   "metadata": {},
   "outputs": [],
   "source": []
  },
  {
   "cell_type": "code",
   "execution_count": null,
   "id": "c9ac6472",
   "metadata": {},
   "outputs": [],
   "source": []
  }
 ],
 "metadata": {
  "kernelspec": {
   "display_name": "Python 3",
   "language": "python",
   "name": "python3"
  },
  "language_info": {
   "codemirror_mode": {
    "name": "ipython",
    "version": 3
   },
   "file_extension": ".py",
   "mimetype": "text/x-python",
   "name": "python",
   "nbconvert_exporter": "python",
   "pygments_lexer": "ipython3",
   "version": "3.8.8"
  }
 },
 "nbformat": 4,
 "nbformat_minor": 5
}
