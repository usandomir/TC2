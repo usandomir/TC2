{
 "cells": [
  {
   "cell_type": "markdown",
   "id": "92801b08",
   "metadata": {},
   "source": [
    "\n",
    "<img src=\"./logo_UTN.svg\" align=\"right\" width=\"150\" /> \n",
    " Teoría de Circuitos II\n",
    "\n",
    "# Trabajo semanal 15\n",
    "#### Israel Pavelek"
   ]
  },
  {
   "cell_type": "markdown",
   "id": "6afb3f30",
   "metadata": {},
   "source": [
    "Deseño de un filtro pasa altos normalizado en frecuencia e impedancia. Debe presentar un cero de transmisión en 0,8 rad/s.\n",
    "\n",
    "* 1 Proponga una celda K-constante que minimice el uso de inductores.\n",
    "* 2 ¿Necesitará una sección m-derivada? ¿Por qué sí o no? En caso afirmativo, compútela(s) y derive el (los) valor(es) de m.\n",
    "* 3 ¿Podría conectar un generador y una carga de 1Ω? Grafique cualitativamente la transferencia en módulo de tensión entre la carga y el generador.\n",
    "* 4 Modifique el circuito para que la frecuencia de corte sea 2 π 10⁶ rad/s y el circuito trabaje cargado a 50Ω.\n",
    "* 5 Simule circuitalmente el circuito normalizado y desnormalizado (ayuda: ¿qué tipo de generador va a colocar?).\n"
   ]
  },
  {
   "cell_type": "markdown",
   "id": "131088e0",
   "metadata": {},
   "source": [
    "## Punto 1"
   ]
  },
  {
   "cell_type": "markdown",
   "id": "abf4cc48",
   "metadata": {},
   "source": [
    "Como piden un filtro K-cte podría realizarlo con estructuras $\\pi$ o estructura T\n",
    "\n",
    "Para minimizar la cantidad de inductores utilizo una estructura T\n",
    "\n",
    "Celda Propuesta:\n",
    "\n",
    "<img src=\"./Celda.png\" align=\"center\" width=\"500\" /> \n",
    "\n",
    "Como trabajamos normalizados en frecuencia e impedancia\n",
    "\n",
    "$\\omega_c=1 \\frac{rad}{seg}$\n",
    "\n",
    "$R=1\\Omega$\n",
    "\n",
    "$\\omega_c^2=\\frac{1}{4LC}$\n",
    "\n",
    "$1=\\frac{1}{4LC}$\n",
    "\n",
    "$Z_1\\cdot Z_2=R^2$\n",
    "\n",
    "$\\frac{1}{SC} \\cdot SL =R^2$\n",
    "\n",
    "$\\frac{L}{C}=1$\n",
    "\n",
    "L=C\n",
    "\n",
    "$1=\\frac{1}{4L^2}$\n",
    "\n",
    "$L^2=\\frac{1}{4}$\n",
    "\n",
    "$L=\\frac{1}{2}$\n",
    "\n",
    "<img src=\"./Celda1.png\" align=\"center\" width=\"500\"/> "
   ]
  },
  {
   "cell_type": "markdown",
   "id": "423aef3f",
   "metadata": {},
   "source": [
    "## Punto 2"
   ]
  },
  {
   "cell_type": "markdown",
   "id": "e234e069",
   "metadata": {},
   "source": [
    "Es necesario tener una celda m-derivada para poder lograr el cero de transmisión pedido en 0.8 rad/s\n",
    "\n",
    "<img src=\"./m-derivado.png\" align=\"center\" width=\"500\"/> \n",
    "\n",
    "$Z_1'=m\\cdot Z_1$\n",
    "\n",
    "$Z_2'=\\frac{Z_2}{m}+Z_1 \\frac{1-m^2}{4m}$\n",
    "\n",
    "$\\omega_z^2=\\frac{1}{L'C'}=\\frac{1}{\\frac{L}{m}\\frac{C 4m}{(1-m^2)}}$\n",
    "\n",
    "$\\omega_z^2=\\frac{(1-m^2)}{4\\cdot LC}$\n",
    "\n",
    "Como $\\omega_c^2=\\frac{1}{4LC}$\n",
    "\n",
    "$\\omega_z^2=\\omega_c^2(1-m^2)$\n",
    "\n",
    "Recordamos que $\\omega_c^2=1$\n",
    "\n",
    "$\\sqrt{1-\\omega_z^2}=m$\n",
    "\n",
    "$m=0.6$\n",
    "\n",
    "Parametrizado:\n",
    "\n",
    "<img src=\"./m-derivado06.png\" align=\"center\" width=\"500\"/> \n",
    "\n",
    "\n",
    "<img src=\"./m-derivado06compo.png\" align=\"center\" width=\"500\"/> "
   ]
  },
  {
   "attachments": {},
   "cell_type": "markdown",
   "id": "e8af2095",
   "metadata": {},
   "source": [
    "## Punto3\n",
    "\n",
    "Dado que hemisectamos el fitro m-derivado y para eso Z2' se multiplica por dos, lo que equivale a tener un inductor el doble y un capacitor la mitad. El tanque en derivación sigue resonando a la misma frecuencia de resonancia, y al ser m=0.6 adapta.\n",
    "\n",
    "<img src=\"./enveces.png\" align=\"center\" width=\"800\"/> \n",
    "\n",
    "\n",
    "<img src=\"./endb.png\" align=\"center\" width=\"800\"/> \n"
   ]
  },
  {
   "cell_type": "markdown",
   "id": "4edfe8ee",
   "metadata": {},
   "source": [
    "## Punto 4"
   ]
  },
  {
   "cell_type": "markdown",
   "id": "c57ab64a",
   "metadata": {},
   "source": [
    "Para desnormalizar \n",
    "\n",
    "Multiplicamos los resistores por 50Ω\n",
    "\n",
    "Los capacitores los dividimos por 50Ω y por 2 π 10⁶ rad/s\n",
    "\n",
    "Y a los inductores los dividimos por 2 π 10⁶ rad/s y multiplicamos por 50Ω\n",
    "\n",
    "<img src=\"./desnormalizado.png\" align=\"center\" width=\"800\"/> "
   ]
  },
  {
   "cell_type": "markdown",
   "id": "2b1cc494",
   "metadata": {},
   "source": [
    "## Punto5\n",
    "\n",
    "Las simulaciones fueron mostradas en el punto 3 y 4"
   ]
  }
 ],
 "metadata": {
  "kernelspec": {
   "display_name": "Python 3 (ipykernel)",
   "language": "python",
   "name": "python3"
  },
  "language_info": {
   "codemirror_mode": {
    "name": "ipython",
    "version": 3
   },
   "file_extension": ".py",
   "mimetype": "text/x-python",
   "name": "python",
   "nbconvert_exporter": "python",
   "pygments_lexer": "ipython3",
   "version": "3.8.8"
  }
 },
 "nbformat": 4,
 "nbformat_minor": 5
}
