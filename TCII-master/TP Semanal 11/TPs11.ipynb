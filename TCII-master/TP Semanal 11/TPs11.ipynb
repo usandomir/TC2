{
 "cells": [
  {
   "cell_type": "markdown",
   "id": "92801b08",
   "metadata": {},
   "source": [
    "\n",
    "<img src=\"./logo_UTN.svg\" align=\"right\" width=\"150\" /> \n",
    " Teoría de Circuitos II\n",
    "\n",
    "# Trabajo semanal 11\n",
    "#### Israel Pavelek\n",
    "\n"
   ]
  },
  {
   "cell_type": "markdown",
   "id": "f8107519",
   "metadata": {},
   "source": [
    "Dada la siguiente estructura activa:\n",
    "\n",
    "<img src=\"./estructura.png\" align=\"center\" width=\"400\" /> \n",
    "\n",
    "1) Donde el conversor de impedancia negativa corresponde a un VNIC, y las redes (a) y (b) a sendas redes pasivas de tipo RC, se pide:\n",
    "\n",
    "a) Demostrar que la transimpedancia total $\\frac{V_2}{I_1}$ del circuito en vacío es igual a:\n",
    "\n",
    "\n",
    "$$\\frac{V_2}{I_1}∣_{I_2=0}=\\frac{Z_{21A}.Z_{21B}}{Z_{22A}−Z_{11B}}$$\n",
    "\n",
    "\n",
    "b) Separando en fracciones simples y aplicando conceptos del método de Yanagisawa, proponer dos redes RC pasivas (a) y (b) tal que la transimpedancia del sistema se corresponda a una respuesta de tipo Butterworth pasabajos normalizada de orden 3.\n",
    "\n",
    "Algunas pistas:\n",
    "\n",
    "* El VNIC es un conversor de impedancia negativo, donde la corriente de entrada y salida coinciden, pero se invierte la tensión\n",
    "\n"
   ]
  },
  {
   "cell_type": "code",
   "execution_count": 13,
   "id": "5d01a0bf",
   "metadata": {},
   "outputs": [
    {
     "data": {
      "image/png": "[encoded data removed]",
      "text/latex": [
       "$\\displaystyle - \\frac{Z21A Z21B}{Z11B + Z22A}$"
      ],
      "text/plain": [
       "-Z21A⋅Z21B \n",
       "───────────\n",
       "Z11B + Z22A"
      ]
     },
     "execution_count": 13,
     "metadata": {},
     "output_type": "execute_result"
    }
   ],
   "source": [
    "from sympy import *\n",
    "init_printing(use_unicode=True)\n",
    "Z11A,Z12A,Z21A,Z22A,AZA,K,Z11B,Z12B,Z21B,Z22B,AZB = symbols('Z11A Z12A Z21A Z22A AZA K Z11B Z12B Z21B Z22B AZB')\n",
    "\n",
    "TA=Matrix([[Z11A/Z21A, AZA/Z21A], [1/Z21A,-Z22A/Z21A]])\n",
    "TA\n",
    "TVNI=Matrix([[-K, 0], [0,1]])\n",
    "TVNI\n",
    "TB=Matrix([[Z11B/Z21B, AZB/Z21B], [1/Z21B,-Z22B/Z21B]])\n",
    "TT=TA*TVNI*TB\n",
    "simplify(1/TT[2])\n",
    "simplify(1/TT[2].subs(K,1))"
   ]
  },
  {
   "cell_type": "code",
   "execution_count": null,
   "id": "f0170685",
   "metadata": {},
   "outputs": [],
   "source": []
  }
 ],
 "metadata": {
  "kernelspec": {
   "display_name": "Python 3 (ipykernel)",
   "language": "python",
   "name": "python3"
  },
  "language_info": {
   "codemirror_mode": {
    "name": "ipython",
    "version": 3
   },
   "file_extension": ".py",
   "mimetype": "text/x-python",
   "name": "python",
   "nbconvert_exporter": "python",
   "pygments_lexer": "ipython3",
   "version": "3.8.8"
  }
 },
 "nbformat": 4,
 "nbformat_minor": 5
}
