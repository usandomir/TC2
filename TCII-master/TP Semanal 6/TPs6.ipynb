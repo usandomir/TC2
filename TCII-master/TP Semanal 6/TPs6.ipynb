{
 "cells": [
  {
   "cell_type": "markdown",
   "id": "92801b08",
   "metadata": {},
   "source": [
    "\n",
    "<img src=\"./logo_UTN.svg\" align=\"right\" width=\"150\" /> \n",
    " Teoría de Circuitos II\n",
    "\n",
    "# Trabajo semanal 6\n",
    "#### Israel Pavelek\n",
    "\n"
   ]
  },
  {
   "cell_type": "markdown",
   "id": "f8107519",
   "metadata": {},
   "source": [
    "1) Para el siguiente cuadripolo se pide calcular los parámetros Z.\n",
    "\n",
    "<img src=\"./enunciado1.png\" align=\"center\" width=\"400\" /> \n",
    "\n"
   ]
  },
  {
   "cell_type": "markdown",
   "id": "1c0ec9ed",
   "metadata": {},
   "source": [
    "Vamos a suponer el caso más genérico en donde las resistencias las tomamos como admintancias Y1,Y2 e Y3 respectivamente. \n",
    "\n",
    "Vemos que:\n",
    "\n",
    "$V_2=-aV_1$\n",
    "\n",
    "$I_C=\\frac1{a} I_B$\n",
    "\n",
    "$I_1=V_1Y_1+(V_1-V_2)Y_2+I_B$\n",
    "\n",
    "$I_1=V_1Y_1+(V_1+\\frac{V1}{a})Y_2+I_B$\n",
    "\n",
    "$I_1=V_1(Y_1+Y_2(1+\\frac1a))+I_B$\n",
    "\n",
    "$I_2=V_2Y_3+(V_2-V_1)Y_2+I_C$\n",
    "\n",
    "$I_2=V_2Y_3+(V_2+aV_2)Y_2+I_C$\n",
    "\n",
    "$I_2=V_2(Y_3+Y_2(1+a))+I_C$\n",
    "\n",
    "Ecuaciones del cuadripolo:\n",
    "\n",
    "$V_2=-aV_1$\n",
    "\n",
    "$I_C=\\frac1{a} I_B$\n",
    "\n",
    "$I_1=V_1(Y_1+Y_2(1+\\frac1a))+I_B$\n",
    "\n",
    "$I_2=V_2(Y_3+Y_2(1+a))+I_C$\n",
    "\n"
   ]
  },
  {
   "cell_type": "markdown",
   "id": "f43153fe",
   "metadata": {},
   "source": [
    "$Z_{11}=\\frac{V_1}{I_1}|_{I_2=0}$\n",
    "\n",
    "$-V_2(Y_3+Y2(1+a))=I_C$\n",
    "\n",
    "$-aV_2(Y_3+Y_2(1+a)=I_B$\n",
    "\n",
    "$I_1=V_1(Y_1+Y_2(1+\\frac1a)+V_1(Y_3+Y_2(1+a))$\n",
    "\n",
    "$I_1=V_1(Y_1+Y_2(2+\\frac1a+a)+Y_3)$\n",
    "\n",
    "$I_1=V_1(Y_1+Y_2(\\frac{a^2+2a+1}{a}+Y_3)$\n",
    "\n",
    "$Z_{11}=\\frac{V_1}{I_1}|_{I_2=0}=\\frac{a}{aY_1+Y_2(a^2+2a+1)+aY_3}$\n",
    "\n",
    "$Z_{22}=\\frac{V_2}{I_2}|_{I_1=0}$\n",
    "\n",
    "$-V_1(Y_1+Y_2(1+\\frac1a))=I_B$\n",
    "\n",
    "$-\\frac{V_1}{a}(Y_1+Y_2(1+\\frac1a))=I_C$\n",
    "\n",
    "$I_2=V_2(Y_3+Y_2(1+a)+V_2(Y_1+Y_2(1+\\frac1a))$\n",
    "\n",
    "$I_2=V_2(Y_3+Y_2(\\frac{a^2+2a+1}{a})+Y_1)$\n",
    "\n",
    "$Z_{22}=\\frac{V_2}{I_2}|_{I_1=0}=\\frac{a}{(aY_1+Y_2(a^2+2a+1)+aY_3)}$\n",
    "\n",
    "$Z_{12}=\\frac{V_1}{I_2}|_{I_1=0}$\n",
    "\n",
    "$-\\frac{V_1}{a}(Y_1+Y_2(1+\\frac1a))=I_C$\n",
    "\n",
    "$I_2=-\\frac{V_1}{a}(Y_3+Y_2(\\frac{(a^2+2a+1)}{a})+Y_1)$\n",
    "\n",
    "$Z_{12}=\\frac{V_1}{I_2}|_{I_1=0}=-\\frac{a^2}{(aY_1+Y_2(a^2+2a+1)+aY_3)}$\n",
    "\n",
    "$Z_{21}=\\frac{V_2}{I_1}|_{I_2=0}$\n",
    "\n",
    "$-aV_2(Y_3+Y_2(1+a)=I_B$\n",
    "\n",
    "$I_1=-V_2a(Y_1+Y_2(\\frac{a^2+2a+1}{a})+Y_3)$\n",
    "\n",
    "$Z_{21}=\\frac{V_2}{I_1}|_{I_2=0}=-\\frac{1}{(aY_1+Y_2(a^2+2a+1)+aY_3)}$\n",
    "\n",
    "Para que sea reciproco\n",
    "\n",
    "$Z_{12}=Z_{21}$\n",
    "\n",
    "si $(aY_1+Y_2(a^2+2a+1)+aY_3)=K$\n",
    "\n",
    "$-\\frac{1}{K}=-\\frac{a^2}{K}$\n",
    "\n",
    "$a^2=1$ $a=1$ o $a=-1$ dado que no podemos tener una relación de transformacion negativa\n",
    "\n",
    "$$a=1$$\n",
    "\n",
    "Como $Z_{11}=Z_{22}$ si a=1 es reciproco y simetrico\n",
    "\n",
    "\n",
    "\n",
    "\n",
    "\n",
    "\n"
   ]
  },
  {
   "cell_type": "markdown",
   "id": "cc1f3ee7",
   "metadata": {},
   "source": [
    "En este caso si $Y_1=1$ $Y_2=\\frac{1}{2}$ e $Y_3=\\frac{1}{3}$\n",
    "y a=1\n",
    "\n",
    "$Z_{11}=Z_{22}=0.3$\n",
    "\n",
    "$Z_{12}=Z_{21}=-0.3$\n",
    "\n",
    "El ejercicio 2 pedia el caso genérico que fue realizado en el inciso 1"
   ]
  },
  {
   "cell_type": "code",
   "execution_count": null,
   "id": "d50d1d8d",
   "metadata": {},
   "outputs": [],
   "source": []
  }
 ],
 "metadata": {
  "kernelspec": {
   "display_name": "Python 3 (ipykernel)",
   "language": "python",
   "name": "python3"
  },
  "language_info": {
   "codemirror_mode": {
    "name": "ipython",
    "version": 3
   },
   "file_extension": ".py",
   "mimetype": "text/x-python",
   "name": "python",
   "nbconvert_exporter": "python",
   "pygments_lexer": "ipython3",
   "version": "3.8.8"
  }
 },
 "nbformat": 4,
 "nbformat_minor": 5
}
