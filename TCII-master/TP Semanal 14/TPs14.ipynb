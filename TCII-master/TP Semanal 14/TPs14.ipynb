{
 "cells": [
  {
   "cell_type": "markdown",
   "id": "92801b08",
   "metadata": {},
   "source": [
    "\n",
    "<img src=\"./logo_UTN.svg\" align=\"right\" width=\"150\" /> \n",
    " Teoría de Circuitos II\n",
    "\n",
    "# Trabajo semanal 14\n",
    "#### Israel Pavelek"
   ]
  },
  {
   "cell_type": "markdown",
   "id": "6afb3f30",
   "metadata": {},
   "source": [
    "### 1) Ej. 11 TP Filtrado Clásico\n",
    "\n",
    "Diseñe un atenuador de banda ancha que permita atenuar 30 dB intercalado en un cable coaxial de 75 ohms. \n",
    "\n",
    "\n",
    "* a) Obtenga una red que satisfaga los requerimientos.\n",
    "\n",
    "* b) Verifique que el atenuador cumpla con la impedancia y atenuación prescrita. "
   ]
  },
  {
   "cell_type": "markdown",
   "id": "a905c766",
   "metadata": {},
   "source": [
    "Dado que necesitamos una atencuanción de 30dB, son equivalente a 1000 veces:\n",
    "\n",
    "$\\frac{P2}{P1}=1000 veces$\n",
    "\n",
    "$\\gamma=\\alpha+j\\beta$\n",
    "\n",
    "Como solo tenemos atenuación $\\beta=0$\n",
    "\n",
    "$e^{2\\alpha}=1000$\n",
    "\n",
    "$\\alpha=\\frac{ln(1000)}{2}=3.45$\n",
    "\n",
    "Sabiendo que la matriz T de los parametros imagen solo teniendo en cuenta la atenuación corresponde a:\n",
    "\n",
    "\n",
    "$\\begin{pmatrix}\n",
    "\\sqrt{\\frac{Z_{o1}}{Z_{o2}}}cosh (\\alpha) & \\sqrt{Z_{o1}\\cdot Z_{o2}}sinh (\\alpha) \\\\\n",
    "\\frac{sinh (\\alpha)}{ \\sqrt{Z_{o1}\\cdot Z_{o2}}} & \\sqrt{\\frac{Z_{o2}}{Z_{o1}}}cosh (\\alpha)\n",
    "\\end{pmatrix}$\n",
    "\n",
    "En el caso particular en donde $Z_{o1}=Z_{o1}=Z_o$\n",
    "\n",
    "\n",
    "$\\begin{pmatrix}\n",
    "cosh (\\alpha) & Z_o \\cdot sinh (\\alpha) \\\\\n",
    "\\frac{sinh (\\alpha)}{Z_o} & cosh (\\alpha)\n",
    "\\end{pmatrix}$\n",
    "\n",
    "En nuestro caso $Z_o=75\\Omega$\n",
    "\n",
    "La matriz queda:\n",
    "\n",
    "$\\begin{pmatrix}\n",
    "cosh (3.45) & 75\\Omega \\cdot sinh (3.45) \\\\\n",
    "\\frac{sinh (3.45)}{75\\Omega} & cosh (3.45)\n",
    "\\end{pmatrix}$\n",
    "\n",
    "$\\begin{pmatrix}\n",
    "15.76 & 1180.07 \\\\\n",
    "0.209 & 15.76\n",
    "\\end{pmatrix}$"
   ]
  },
  {
   "cell_type": "markdown",
   "id": "b11adc0e",
   "metadata": {},
   "source": [
    "La red T la podemos pensar a partir de:\n",
    "\n",
    "$T=\\begin{pmatrix}\n",
    "A & B \\\\\n",
    "C & D\n",
    "\\end{pmatrix}$\n",
    "\n",
    "\n",
    "\n",
    "<img src=\"./Z.png\" align=\"left\" width=\"100\" />\n",
    "\n",
    "$\\begin{bmatrix}\n",
    "1 & Z\\\\\n",
    "0 & 1\n",
    "\\end{bmatrix}$\n",
    "\n",
    ".\n",
    "\n",
    ".\n",
    "\n",
    "\n",
    "\n",
    "<img src=\"./Y.png\" align=\"left\" width=\"75\" /> \n",
    "\n",
    "$\\begin{bmatrix}\n",
    "1 & 0\\\\\n",
    "Y & 1\n",
    "\\end{bmatrix}$\n",
    "\n",
    ".\n",
    "\n",
    ".\n",
    "\n",
    "\n",
    "Nuestra red la podemos entender como la interconexión de estos cuadripolos:\n",
    "\n",
    "<img src=\"./red.png\" align=\"center\" width=\"400\" /> \n",
    "\n",
    "\n",
    "$T=T_1 \\cdot T_2 \\cdot T_3$\n",
    "\n",
    "$T=\\begin{bmatrix}\n",
    "1 & Z_1\\\\\n",
    "0 & 1\n",
    "\\end{bmatrix}$ \n",
    "$\\begin{bmatrix}\n",
    "1 & 0\\\\\n",
    "Y_2 & 1\n",
    "\\end{bmatrix}$\n",
    "$\\begin{bmatrix}\n",
    "1 & Z_3\\\\\n",
    "0 & 1\n",
    "\\end{bmatrix}$ \n",
    "\n",
    "\n",
    "$T=\\begin{bmatrix}\n",
    "1+Z_1Y_2 & Z_1\\\\\n",
    "Y_2 & 1\n",
    "\\end{bmatrix}$ \n",
    "$\\begin{bmatrix}\n",
    "1 & Z_3\\\\\n",
    "0 & 1\n",
    "\\end{bmatrix}$ \n",
    "\n",
    "$T=\\begin{bmatrix}\n",
    "1+Z_1Y_2 & Z_3+Z_1Z_3Y_2+Z_1\\\\\n",
    "Y_2 & Y_1Z_3+1\n",
    "\\end{bmatrix}$ \n",
    "\n",
    "Entonces:\n",
    "\n",
    "\n",
    "$\\begin{pmatrix}\n",
    "\\sqrt{\\frac{Z_{o1}}{Z_{o2}}}cosh (\\alpha) & \\sqrt{Z_{o1}\\cdot Z_{o2}}sinh (\\alpha) \\\\\n",
    "\\frac{sinh (\\alpha)}{ \\sqrt{Z_{o1}\\cdot Z_{o2}}} & \\sqrt{\\frac{Z_{o2}}{Z_{o1}}}cosh (\\alpha)\n",
    "\\end{pmatrix}=\\begin{bmatrix}\n",
    "1+Z_1Y_2 & Z_3+Z_1Z_3Y_2+Z_1\\\\\n",
    "Y_2 & Y_1Z_3+1\n",
    "\\end{bmatrix}$ \n",
    "\n"
   ]
  },
  {
   "cell_type": "markdown",
   "id": "1b3eb1b1",
   "metadata": {},
   "source": [
    "$Z_2=\\frac{1}{Y_2}=\\frac{ \\sqrt{Z_{o1}\\cdot Z_{o2}}}{sinh (\\alpha)}$\n",
    "\n",
    "$1+Z_1Y_2=\\sqrt{\\frac{Z_{o1}}{Z_{o2}}}cosh (\\alpha)$\n",
    "\n",
    "$Z_1=Z_2(\\sqrt{\\frac{Z_{o1}}{Z_{o2}}}cosh (\\alpha)) -Z_2$\n",
    "\n",
    "Reemplanzando:\n",
    "\n",
    "$Z_1=\\frac{ \\sqrt{Z_{o1}\\cdot Z_{o2}}}{sinh (\\alpha)}[\\sqrt{\\frac{Z_{o1}}{Z_{o2}}}cosh (\\alpha)] -\\frac{ \\sqrt{Z_{o1}\\cdot Z_{o2}}}{sinh (\\alpha)}$\n",
    "\n",
    "Simplificando:\n",
    "\n",
    "$Z_1=\\frac{Z_{o1} cosh (\\alpha)-\\sqrt{Z_{o1}Z_{o2}}}{sinh (\\alpha)}$\n",
    "\n",
    "\n",
    "$Y_1Z_3+1=\\sqrt{\\frac{Z_{o2}}{Z_{o1}}}cosh (\\alpha)$\n",
    "\n",
    "Despejando obtenemos:\n",
    "\n",
    "$Z_3=\\frac{Z_{o2} cosh (\\alpha)-\\sqrt{Z_{o1}Z_{o2}}}{sinh (\\alpha)}$\n",
    "\n",
    "\n",
    "Nos queda entonces:\n",
    "\n",
    "$$Z_1=\\frac{Z_{o1} cosh (\\alpha)-\\sqrt{Z_{o1}Z_{o2}}}{sinh (\\alpha)}$$\n",
    "\n",
    "$$Z_2=\\frac{ \\sqrt{Z_{o1}\\cdot Z_{o2}}}{sinh (\\alpha)}$$\n",
    "\n",
    "$$Z_3=\\frac{Z_{o2} cosh (\\alpha)-\\sqrt{Z_{o1}Z_{o2}}}{sinh (\\alpha)}$$\n",
    "\n",
    "En nuestro caso como $Zo1=Zo2$ $Z_1=Z_3$"
   ]
  },
  {
   "cell_type": "code",
   "execution_count": 92,
   "id": "7be4e7c8",
   "metadata": {},
   "outputs": [
    {
     "name": "stdout",
     "output_type": "stream",
     "text": [
      "La red es simetrica por lo tanto Z1=Z3\n",
      "Alpha= 3.45\n",
      "Z1 70.4 Ω\n",
      "Z2 4.75 Ω\n",
      "Z3 70.4 Ω\n"
     ]
    },
    {
     "data": {
      "text/plain": [
       "(3.4538776394910684, 70.40198549524268, 4.748164654907477, 70.40198549524268)"
      ]
     },
     "execution_count": 92,
     "metadata": {},
     "output_type": "execute_result"
    }
   ],
   "source": [
    "###Calculamos\n",
    "\n",
    "import numpy as np\n",
    "\n",
    "def calculo_att(att,Zo1,Zo2,mostrar):\n",
    "    alpha=np.log(10**(att/10))/2\n",
    "    if(Zo1==Zo2):\n",
    "        print(\"La red es simetrica por lo tanto Z1=Z3\")\n",
    "    Z1=(Zo1*np.cosh(alpha)-np.sqrt(Zo1*Zo2))/(np.sinh(alpha))\n",
    "    Z3=(Zo2*np.cosh(alpha)-np.sqrt(Zo1*Zo2))/(np.sinh(alpha))\n",
    "    Z2=np.sqrt(Zo1*Zo2)/np.sinh(alpha)\n",
    "    if(mostrar==1):\n",
    "        print(\"Alpha=\",alpha.round(2))\n",
    "        print(\"Z1\",Z1.round(2),\"Ω\")\n",
    "        print(\"Z2\",Z2.round(2),\"Ω\")\n",
    "        print(\"Z3\",Z3.round(2),\"Ω\")\n",
    "        \n",
    "    return(alpha,Z1,Z2,Z3)\n",
    "    \n",
    "calculo_att(30,75,75,mostrar=1)\n"
   ]
  },
  {
   "cell_type": "markdown",
   "id": "aa1cf002",
   "metadata": {},
   "source": [
    "### Simulaciones:\n",
    "\n",
    "Impedancia de entrada:\n",
    "\n",
    "<img src=\"./Zin1.png\" align=\"center\" width=\"400\" /> \n",
    "\n",
    "Transferencia de potencia:\n",
    "\n",
    "<img src=\"./potencia1.png\" align=\"center\" width=\"400\" /> \n",
    "\n",
    "\n"
   ]
  },
  {
   "cell_type": "markdown",
   "id": "ce8b88b6",
   "metadata": {},
   "source": [
    "### 2) Ej. 12 TP Filtrado Clásico (Ampliado)\n",
    "\n",
    "Diseñe un acoplador/atenuador de banda ancha que permita interconectar un cable coaxil de 75 Ω a otro de 50 Ω. Es decir, la red en su entrada deberá permitir la conexión una ZI1=75Ω y en su salida ZI2=50Ω de impedancia característica.\n",
    "\n",
    "* a) Obtenga una red que satisfaga los requerimientos y atenúe 5.72 dB en potencia.\n",
    "\n",
    "* b) Verifique que el atenuador cumpla con la impedancia y atenuación prescrita. \n",
    "\n",
    "* c) ¿Podría dicha red acoplar sin atenuar? \n",
    "\n",
    "* d) Si la atenuación requerida fuera de 80 dB, ¿cómo cambiaría la red calculada en a)? Proponga una solución en caso que no se pueda implementar.\n",
    "\n"
   ]
  },
  {
   "cell_type": "markdown",
   "id": "d2671748",
   "metadata": {},
   "source": [
    "Utilizando los mismos conceptos que en el ejercicio anterior: Sabemos que:\n",
    "        \n",
    "        "
   ]
  },
  {
   "cell_type": "code",
   "execution_count": 93,
   "id": "a9379ca4",
   "metadata": {},
   "outputs": [
    {
     "name": "stdout",
     "output_type": "stream",
     "text": [
      "Alpha= 0.66\n",
      "Z1 43.3 Ω\n",
      "Z2 86.08 Ω\n",
      "Z3 0.18 Ω\n"
     ]
    },
    {
     "data": {
      "text/plain": [
       "(0.661993214235788, 43.30180172454294, 86.0780603492549, 0.17518103327698684)"
      ]
     },
     "execution_count": 93,
     "metadata": {},
     "output_type": "execute_result"
    }
   ],
   "source": [
    "calculo_att(5.75,75,50,mostrar=1)\n"
   ]
  },
  {
   "cell_type": "markdown",
   "id": "401422e9",
   "metadata": {},
   "source": [
    "Vemos que $Z_3$ es muuy chico por lo tanto vamos a simular con $Z_3=0$\n",
    "\n",
    "### Simulaciones:\n",
    "\n",
    "Impedancia de entrada:\n",
    "\n",
    "<img src=\"./Zin2.png\" align=\"center\" width=\"400\" /> \n",
    "\n",
    "Transferencia de potencia:\n",
    "\n",
    "<img src=\"./potencia2.png\" align=\"center\" width=\"400\" /> \n"
   ]
  },
  {
   "cell_type": "markdown",
   "id": "cbf56ed4",
   "metadata": {},
   "source": [
    "Esta red no podria adaptar sin atenuar, exceptuando que lo haga para una sola frecuencia, dado que para no atenuar no deberia estar compuestos por elementos con resistores, deberian ser todos tanques resonantes, en donde su comportamiento y condición de adaptación funcionaria a una sola frecuencio, y no seria más de banda ancha.\n",
    "\n",
    "\n",
    "### Para lograr atenuar 80dB con la misma red"
   ]
  },
  {
   "cell_type": "code",
   "execution_count": 94,
   "id": "8398fa4c",
   "metadata": {},
   "outputs": [
    {
     "name": "stdout",
     "output_type": "stream",
     "text": [
      "Alpha= 9.21\n",
      "Z1 74.99 Ω\n",
      "Z2 0.01 Ω\n",
      "Z3 49.99 Ω\n"
     ]
    },
    {
     "data": {
      "text/plain": [
       "(9.210340371976184, 74.98775405116363, 0.01224744883639037, 49.98775355116362)"
      ]
     },
     "execution_count": 94,
     "metadata": {},
     "output_type": "execute_result"
    }
   ],
   "source": [
    "calculo_att(80,75,50,mostrar=1)\n"
   ]
  },
  {
   "cell_type": "markdown",
   "id": "c5f7f918",
   "metadata": {},
   "source": [
    "En este caso al quedar la impendancia Z2 igual a cero, no nos queda una red que carece de sentido.\n",
    "\n",
    "Para solucionar este problema, en lugar de lograr con una sola red los 80 dB de atenuación podemos colocar N celdas en casacada. \n",
    "\n",
    "Ya que tenemos calculado todo para la atenuación de 5.72dB:\n",
    "\n",
    "Como \n",
    "$(\\frac{P2}{P1})^N=10^8$ \n",
    "\n",
    "Si tomo que $\\frac{P2}{P1}=5.72dB=>3.73veces$\n",
    "\n",
    "$N=\\frac{log(10^8)}{log(3.73)}=\\frac{8\\cdot log(10)}{log(3.73)}=14$ etapas\n",
    "\n",
    "Sabemos que con 14 celdas logramos los 80 dB\n",
    "\n",
    "Pero vamos a analizar si podemos tener un poco más de atenuación en cada etapa, y lograr tener menos etapas en cascada. Para eso analizamos las expresiones de las impedancias a ver cuando Z2 comienza a acercarse a 0.\n",
    "\n"
   ]
  },
  {
   "cell_type": "code",
   "execution_count": 95,
   "id": "adb6352d",
   "metadata": {},
   "outputs": [
    {
     "data": {
      "image/png": "[encoded data removed]",
      "text/plain": [
       "<Figure size 432x288 with 4 Axes>"
      ]
     },
     "metadata": {
      "needs_background": "light"
     },
     "output_type": "display_data"
    }
   ],
   "source": [
    "\n",
    "Alpha=[]\n",
    "Z1=[]\n",
    "Z2=[]\n",
    "Z3=[]\n",
    "mayor_att=50\n",
    "min_att=10\n",
    "for att in range(min_att,mayor_att):\n",
    "    alpha,z1,z2,z3=calculo_att(att,75,50,mostrar=0)\n",
    "    Alpha.append(alpha)\n",
    "    Z1.append(z1)\n",
    "    Z2.append(z2)\n",
    "    Z3.append(z3)\n",
    "    \n",
    "\n",
    "# importing package\n",
    "import matplotlib.pyplot as plt\n",
    "import numpy as np\n",
    "  \n",
    "# create data\n",
    "x = range(min_att,mayor_att)\n",
    "\n",
    "fig, axs = plt.subplots(2,2)\n",
    "# plot lines\n",
    "axs[0, 0].set_title('Alpha')\n",
    "axs[0, 0].plot(x, Alpha,)\n",
    "axs[0, 1].set_title('Z1')\n",
    "axs[0, 1].plot(x, Z1, label = \"Z1\")\n",
    "axs[1, 0].set_title('Z2')\n",
    "axs[1, 0].plot(x, Z2, label = \"Z2\")\n",
    "axs[1, 1].set_title('Z3')\n",
    "axs[1, 1].plot(x, Z3, label = \"Z3\")\n",
    "\n",
    "for ax in axs.flat:\n",
    "    ax.label_outer()"
   ]
  },
  {
   "cell_type": "code",
   "execution_count": 96,
   "id": "2b3f4c92",
   "metadata": {},
   "outputs": [
    {
     "name": "stdout",
     "output_type": "stream",
     "text": [
      "Alpha= 2.3\n",
      "Z1 64.14 Ω\n",
      "Z2 12.37 Ω\n",
      "Z3 38.64 Ω\n"
     ]
    },
    {
     "data": {
      "text/plain": [
       "(2.302585092994046, 64.14399119806475, 12.371160317086757, 38.63894069301425)"
      ]
     },
     "execution_count": 96,
     "metadata": {},
     "output_type": "execute_result"
    }
   ],
   "source": [
    "calculo_att(20,75,50,mostrar=1)"
   ]
  },
  {
   "attachments": {},
   "cell_type": "markdown",
   "id": "38e6e552",
   "metadata": {},
   "source": [
    "En este caso al tomar los 20dB\n",
    "\n",
    "Como \n",
    "$(\\frac{P2}{P1})^N=10^8$ \n",
    "\n",
    "Si tomo que $\\frac{P2}{P1}=20dB=>100veces$\n",
    "\n",
    "$N=\\frac{log(10^8)}{log(100)}=\\frac{8\\cdot log(10)}{2\\cdot log(10)}=4$ etapas\n",
    "\n",
    "<img src=\"./potencia3.png\" align=\"center\" width=\"800\" /> \n",
    "\n",
    "<img src=\"./Zin3.png\" align=\"center\" width=\"800\" /> "
   ]
  },
  {
   "cell_type": "code",
   "execution_count": null,
   "id": "db6309b8",
   "metadata": {},
   "outputs": [],
   "source": []
  }
 ],
 "metadata": {
  "kernelspec": {
   "display_name": "Python 3 (ipykernel)",
   "language": "python",
   "name": "python3"
  },
  "language_info": {
   "codemirror_mode": {
    "name": "ipython",
    "version": 3
   },
   "file_extension": ".py",
   "mimetype": "text/x-python",
   "name": "python",
   "nbconvert_exporter": "python",
   "pygments_lexer": "ipython3",
   "version": "3.8.8"
  }
 },
 "nbformat": 4,
 "nbformat_minor": 5
}
