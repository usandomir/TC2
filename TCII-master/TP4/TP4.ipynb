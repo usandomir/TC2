{
 "cells": [
  {
   "cell_type": "markdown",
   "id": "dded3c1a",
   "metadata": {},
   "source": [
    "\n",
    "<img src=\"./logo_UTN.svg\" align=\"right\" width=\"150\" /> \n",
    " Teoría de Circuitos II\n",
    "\n",
    "# TP 4"
   ]
  },
  {
   "cell_type": "markdown",
   "id": "b2694e5e",
   "metadata": {},
   "source": [
    "#### Ejercicio 4\n",
    "\n",
    "\n"
   ]
  },
  {
   "cell_type": "code",
   "execution_count": 7,
   "id": "fd277546",
   "metadata": {
    "scrolled": true
   },
   "outputs": [
    {
     "data": {
      "image/png": "[encoded data removed]",
      "text/latex": [
       "$\\displaystyle \\frac{4 s}{2 s^{2} + 1}$"
      ],
      "text/plain": [
       "  4⋅s   \n",
       "────────\n",
       "   2    \n",
       "2⋅s  + 1"
      ]
     },
     "execution_count": 7,
     "metadata": {},
     "output_type": "execute_result"
    }
   ],
   "source": [
    "from sympy import *\n",
    "init_printing(use_unicode=True)\n",
    "s = symbols('s')\n",
    "Z1=2*s\n",
    "Z2=1/s\n",
    "Z3=3*s\n",
    "Z4=2*s\n",
    "Z5=1/s\n",
    "\n",
    "Za=(Z1*Z2)/(Z1+Z2+Z3)\n",
    "Zb=(Z2*Z3)/(Z1+Z2+Z3)\n",
    "Zc=(Z1*Z3)/(Z1+Z2+Z3)\n",
    "\n",
    "Zp1=Zc+Z4\n",
    "Zp2=Zb+Z5\n",
    "Zt=Za+((Zp1*Zp2)/(Zp1+Zp2))\n",
    "simplify(Zt)\n"
   ]
  },
  {
   "cell_type": "markdown",
   "id": "86f14eb8",
   "metadata": {},
   "source": [
    "#### Ejercicio 5\n",
    "Dado el siguiente cuadripolo cargado con R  y cumpliendo con la condición de diseño $ZA.ZB = R^2$ La red se conoce como Red de Resistencia constante. \n",
    "Aplique MAI para obtener  $\\frac{V_2}{V_1}$ y $Z_{in}$\n"
   ]
  },
  {
   "cell_type": "markdown",
   "id": "e3097b94",
   "metadata": {},
   "source": [
    "\n",
    "Numeramos a los nodos:\n",
    "\n",
    "<img src=\"./Circuito4.png\" align=\"center\" width=\"400\" /> \n",
    "\n",
    "Nombramos a los nodos:\n",
    "\n",
    "<img src=\"./nodos.png\" align=\"center\" width=\"400\" /> \n",
    "\n",
    "\n",
    "MAI:\n",
    "\n",
    "$\\begin{bmatrix}\n",
    "G+Y_A & -G  & -Y_A & 0\\\\\n",
    "-G & 2G+Y_B & -G & -Y_B \\\\\n",
    "-Y_A & -G & 2G+Y_A & -G\\\\\n",
    "0 & -YB & -G & G+Y_B \\\\\n",
    "\\end{bmatrix}$\n",
    "\n",
    "$\\frac{V_0}{V_1}=\\frac{V_{34}}{V_{14}}=sgn(3-4)sgn(1-4)\\frac{Y^{34}_{14}}{Y^{14}_{14}}$\n",
    "\n",
    "$\\frac{V_0}{V_1}=\\frac{\n",
    "\\begin{bmatrix}\n",
    "-G & 2G+Y_B &\\\\\n",
    "-Y_A & -G &\n",
    "\\end{bmatrix}\n",
    "}{\n",
    "\\begin{bmatrix}\n",
    " 2G+Y_B & -G \\\\\n",
    "-G & 2G+Y_A\\\\\n",
    "\\end{bmatrix}\n",
    "}=\\frac{G^2+Y_A(2G+Y_B)}{(2G+Y_B)(2G+Y_A)-G^2}=\\frac{G^2+2Y_AG+Y_AY_B}{4G^2+2GY_A+2GY_B+Y_AY_B-G^2}$\n",
    "\n",
    "Reemplazando que:\n",
    "\n",
    "$Y_AY_B=G^2$\n",
    "\n",
    "$\\frac{V_0}{V_1}=\\frac{G^2+2Y_AG+G^2}{4G^2+2GY_A+2GY_B+G^2-G^2}$\n",
    "\n",
    "$\\frac{V_0}{V_1}=\\frac{2G^2+2Y_AG}{4G^2+2GY_A+2GY_B}$\n",
    "\n",
    "$\\frac{V_0}{V_1}=\\frac{G+Y_A}{2G+Y_A+Y_B}$\n",
    "\n",
    "$Z_{in}=\\frac{V_{14}}{I_{14}}=sgn(1-4)sgn(1-4)\\frac{Y^{14}_{14}}{Y^{4}_{4}}$\n",
    "\n",
    "$Z_{in}=\\frac{\n",
    "\\begin{bmatrix}\n",
    " 2G+Y_B & -G \\\\\n",
    "-G & 2G+Y_A\\\\\n",
    "\\end{bmatrix}\n",
    "}{\n",
    "\\begin{bmatrix}\n",
    "G+Y_A & -G  & -Y_A \\\\\n",
    "-G & 2G+Y_B & -G  \\\\\n",
    "-Y_A & -G & 2G+Y_A \\\\\n",
    "\\end{bmatrix}\n",
    "}=\\frac{4G^2+2GY_A+2GY_B+Y_AY_B-G^2}{[(G+Y_A)(2G+Y_B)(2G+Y_A)-G^2Y_A-G^2Y_A]-[Y_A^2(2G+Y_B)-G^2(G+Y_A)-G^2(2G+Y_A)]}$\n",
    "\n",
    "\n",
    "$Z_{in}=\\frac{4G^2+2GY_A+2GY_B}{[(G+Y_A)(2G+Y_B)(2G+Y_A)-2G^2Y_A]-[Y_A^2(2G+Y_B)-G^2(G+Y_A)-G^2(2G+Y_A)]}$\n",
    "\n",
    "Vamos al codigo para simplificar los calculos..."
   ]
  },
  {
   "cell_type": "code",
   "execution_count": 141,
   "id": "c58d671b",
   "metadata": {},
   "outputs": [],
   "source": [
    "from sympy import *\n",
    "init_printing(use_unicode=True)\n",
    "G, YA,YB = symbols('G YA YB')"
   ]
  },
  {
   "cell_type": "markdown",
   "id": "5a1a8af9",
   "metadata": {},
   "source": [
    "## Calculo de la Transferencia de tensión"
   ]
  },
  {
   "cell_type": "code",
   "execution_count": 142,
   "id": "c6371a88",
   "metadata": {},
   "outputs": [
    {
     "data": {
      "text/latex": [
       "$\\displaystyle \\left[\\begin{matrix}2 G + YB & - G\\\\- G & 2 G + YA\\end{matrix}\\right]$"
      ],
      "text/plain": [
       "⎡2⋅G + YB     -G   ⎤\n",
       "⎢                  ⎥\n",
       "⎣   -G     2⋅G + YA⎦"
      ]
     },
     "execution_count": 142,
     "metadata": {},
     "output_type": "execute_result"
    }
   ],
   "source": [
    "Y14=Matrix([[2*G+YB, -G], [-G, 2*G+YA]])\n",
    "Y14"
   ]
  },
  {
   "cell_type": "code",
   "execution_count": 143,
   "id": "ae3ccff8",
   "metadata": {},
   "outputs": [
    {
     "data": {
      "image/png": "[encoded data removed]",
      "text/latex": [
       "$\\displaystyle 3 G^{2} + 2 G YA + 2 G YB + YA YB$"
      ],
      "text/plain": [
       "   2                          \n",
       "3⋅G  + 2⋅G⋅YA + 2⋅G⋅YB + YA⋅YB"
      ]
     },
     "execution_count": 143,
     "metadata": {},
     "output_type": "execute_result"
    }
   ],
   "source": [
    "Y14.det()"
   ]
  },
  {
   "cell_type": "code",
   "execution_count": 144,
   "id": "1802542c",
   "metadata": {},
   "outputs": [
    {
     "data": {
      "text/latex": [
       "$\\displaystyle \\left[\\begin{matrix}G + YA & - G & - YA\\\\- G & 2 G + YB & - G\\\\- YA & - G & 2 G + YA\\end{matrix}\\right]$"
      ],
      "text/plain": [
       "⎡G + YA     -G       -YA   ⎤\n",
       "⎢                          ⎥\n",
       "⎢  -G    2⋅G + YB     -G   ⎥\n",
       "⎢                          ⎥\n",
       "⎣ -YA       -G     2⋅G + YA⎦"
      ]
     },
     "execution_count": 144,
     "metadata": {},
     "output_type": "execute_result"
    }
   ],
   "source": [
    "Y4=Matrix([[G+YA, -G,-YA], [-G, 2*G+YB,-G], [-YA, -G,2*G+YA]])\n",
    "Y4"
   ]
  },
  {
   "cell_type": "code",
   "execution_count": 145,
   "id": "44a42779",
   "metadata": {},
   "outputs": [
    {
     "data": {
      "text/latex": [
       "$\\displaystyle \\left[\\begin{matrix}- G & 2 G + YB\\\\- YA & - G\\end{matrix}\\right]$"
      ],
      "text/plain": [
       "⎡-G   2⋅G + YB⎤\n",
       "⎢             ⎥\n",
       "⎣-YA     -G   ⎦"
      ]
     },
     "execution_count": 145,
     "metadata": {},
     "output_type": "execute_result"
    }
   ],
   "source": [
    "Y34=Matrix([[-G,2*G+YB], [-YA,-G]])\n",
    "Y34"
   ]
  },
  {
   "cell_type": "code",
   "execution_count": 146,
   "id": "fc98dd42",
   "metadata": {},
   "outputs": [
    {
     "data": {
      "image/png": "[encoded data removed]",
      "text/latex": [
       "$\\displaystyle \\frac{G^{2} + 2 G YA + YA YB}{3 G^{2} + 2 G YA + 2 G YB + YA YB}$"
      ],
      "text/plain": [
       "      2                       \n",
       "     G  + 2⋅G⋅YA + YA⋅YB      \n",
       "──────────────────────────────\n",
       "   2                          \n",
       "3⋅G  + 2⋅G⋅YA + 2⋅G⋅YB + YA⋅YB"
      ]
     },
     "execution_count": 146,
     "metadata": {},
     "output_type": "execute_result"
    }
   ],
   "source": [
    "T=Y34.det()/Y14.det()\n",
    "simplify(T)"
   ]
  },
  {
   "cell_type": "code",
   "execution_count": 147,
   "id": "a0354e7c",
   "metadata": {},
   "outputs": [
    {
     "data": {
      "image/png": "[encoded data removed]",
      "text/latex": [
       "$\\displaystyle \\frac{G + YA}{2 G + YA + YB}$"
      ],
      "text/plain": [
       "    G + YA   \n",
       "─────────────\n",
       "2⋅G + YA + YB"
      ]
     },
     "execution_count": 147,
     "metadata": {},
     "output_type": "execute_result"
    }
   ],
   "source": [
    "T=simplify(T.subs(YA*YB,G*G))\n",
    "T"
   ]
  },
  {
   "cell_type": "code",
   "execution_count": 148,
   "id": "e9d483e4",
   "metadata": {},
   "outputs": [
    {
     "data": {
      "image/png": "[encoded data removed]",
      "text/latex": [
       "$\\displaystyle \\frac{YA}{G + YA}$"
      ],
      "text/plain": [
       "  YA  \n",
       "──────\n",
       "G + YA"
      ]
     },
     "execution_count": 148,
     "metadata": {},
     "output_type": "execute_result"
    }
   ],
   "source": [
    "T=simplify(T.subs(YB,((G*G)/(YA))))\n",
    "T        "
   ]
  },
  {
   "cell_type": "markdown",
   "id": "483340fc",
   "metadata": {},
   "source": [
    "o"
   ]
  },
  {
   "cell_type": "code",
   "execution_count": 149,
   "id": "67b5025a",
   "metadata": {},
   "outputs": [
    {
     "data": {
      "image/png": "[encoded data removed]",
      "text/latex": [
       "$\\displaystyle \\frac{G}{G + YB}$"
      ],
      "text/plain": [
       "  G   \n",
       "──────\n",
       "G + YB"
      ]
     },
     "execution_count": 149,
     "metadata": {},
     "output_type": "execute_result"
    }
   ],
   "source": [
    "T=simplify(T.subs(YA,((G*G)/(YB))))\n",
    "T        "
   ]
  },
  {
   "cell_type": "markdown",
   "id": "2295b6e4",
   "metadata": {},
   "source": [
    "## Calculo de la impedancia de entrada"
   ]
  },
  {
   "cell_type": "code",
   "execution_count": 150,
   "id": "2e875dd5",
   "metadata": {},
   "outputs": [
    {
     "data": {
      "image/png": "[encoded data removed]",
      "text/latex": [
       "$\\displaystyle G^{3} + 2 G^{2} YA + 2 G^{2} YB + 3 G YA YB$"
      ],
      "text/plain": [
       " 3      2         2               \n",
       "G  + 2⋅G ⋅YA + 2⋅G ⋅YB + 3⋅G⋅YA⋅YB"
      ]
     },
     "execution_count": 150,
     "metadata": {},
     "output_type": "execute_result"
    }
   ],
   "source": [
    "Y4.det()"
   ]
  },
  {
   "cell_type": "code",
   "execution_count": 151,
   "id": "efec4493",
   "metadata": {},
   "outputs": [
    {
     "data": {
      "image/png": "[encoded data removed]",
      "text/latex": [
       "$\\displaystyle \\frac{3 G^{2} + 2 G YA + 2 G YB + YA YB}{G \\left(G^{2} + 2 G YA + 2 G YB + 3 YA YB\\right)}$"
      ],
      "text/plain": [
       "     2                            \n",
       "  3⋅G  + 2⋅G⋅YA + 2⋅G⋅YB + YA⋅YB  \n",
       "──────────────────────────────────\n",
       "  ⎛ 2                            ⎞\n",
       "G⋅⎝G  + 2⋅G⋅YA + 2⋅G⋅YB + 3⋅YA⋅YB⎠"
      ]
     },
     "execution_count": 151,
     "metadata": {},
     "output_type": "execute_result"
    }
   ],
   "source": [
    "Z=Y14.det()/Y4.det()\n",
    "simplify(Z)"
   ]
  },
  {
   "cell_type": "code",
   "execution_count": 152,
   "id": "99ed6d09",
   "metadata": {},
   "outputs": [
    {
     "data": {
      "image/png": "[encoded data removed]",
      "text/latex": [
       "$\\displaystyle \\frac{1}{G}$"
      ],
      "text/plain": [
       "1\n",
       "─\n",
       "G"
      ]
     },
     "execution_count": 152,
     "metadata": {},
     "output_type": "execute_result"
    }
   ],
   "source": [
    "simplify(Z.subs(YA*YB,G*G))"
   ]
  },
  {
   "cell_type": "markdown",
   "id": "d0261bf1",
   "metadata": {},
   "source": [
    "Zin=R"
   ]
  },
  {
   "cell_type": "markdown",
   "id": "5a3fb40f",
   "metadata": {},
   "source": [
    "Otra forma de ver el circuito, es como un puente, en las condiciones donde le producto de las ramas cruzadas es igual, el puente está compenzado por lo tanto no hay circuilación de corriente por el elemento cruzando las ramas, lo que significa que el potencial es el mismo, con esta premisa podemos quitar el elemento, y calcular la tensión como un divisor de tensión.\n",
    "\n",
    "<img src=\"./nodos.png\" align=\"center\" width=\"400\" /> \n",
    "\n",
    "Cuya transferencia de tensión pueden ser calculadas de la misma forma que lo que obtuvimos anteriormente:\n",
    "\n",
    "$\\frac{V_o}{V_i}=\\frac{G}{G+YB}$\n",
    "\n",
    "o\n",
    "\n",
    "$\\frac{V_o}{V_i}=\\frac{YA}{G+YA}$"
   ]
  },
  {
   "cell_type": "markdown",
   "id": "5a7adf58",
   "metadata": {},
   "source": [
    "### Ejercicio 6\n",
    "\n",
    "\n"
   ]
  },
  {
   "cell_type": "markdown",
   "id": "44f73744",
   "metadata": {},
   "source": [
    "Obtenga un circuito lattice equivalente al siguiente cuadripolo. Utilice la constante del girador $K=\\sqrt2$\n",
    "\n",
    "\n",
    "<img src=\"./ej6.png\" align=\"center\" width=\"400\" /> \n",
    "\n",
    "Por interconexión de cuadripolos veamos a que representa los giradores con el tanque serie LC\n"
   ]
  },
  {
   "cell_type": "code",
   "execution_count": 153,
   "id": "43c60cb4",
   "metadata": {},
   "outputs": [],
   "source": [
    "import math \n",
    "S = symbols('S')"
   ]
  },
  {
   "cell_type": "code",
   "execution_count": 154,
   "id": "0fc7c1bb",
   "metadata": {},
   "outputs": [
    {
     "data": {
      "text/latex": [
       "$\\displaystyle \\left[\\begin{matrix}0 & \\frac{\\sqrt{2}}{2}\\\\\\sqrt{2} & 0\\end{matrix}\\right]$"
      ],
      "text/plain": [
       "⎡    √2⎤\n",
       "⎢0   ──⎥\n",
       "⎢    2 ⎥\n",
       "⎢      ⎥\n",
       "⎣√2  0 ⎦"
      ]
     },
     "execution_count": 154,
     "metadata": {},
     "output_type": "execute_result"
    }
   ],
   "source": [
    "Gir=Matrix([[0,1/sqrt(2)], [sqrt(2),0]])\n",
    "Gir"
   ]
  },
  {
   "cell_type": "code",
   "execution_count": 155,
   "id": "5f6dc364",
   "metadata": {},
   "outputs": [
    {
     "data": {
      "text/latex": [
       "$\\displaystyle \\left[\\begin{matrix}1 & \\frac{2 S}{S^{2} + 1}\\\\0 & 1\\end{matrix}\\right]$"
      ],
      "text/plain": [
       "⎡    2⋅S  ⎤\n",
       "⎢1  ──────⎥\n",
       "⎢    2    ⎥\n",
       "⎢   S  + 1⎥\n",
       "⎢         ⎥\n",
       "⎣0    1   ⎦"
      ]
     },
     "execution_count": 155,
     "metadata": {},
     "output_type": "execute_result"
    }
   ],
   "source": [
    "Zs=Matrix([[1,(2*S)/(S*S+1)], [0,1]])\n",
    "Zs"
   ]
  },
  {
   "cell_type": "code",
   "execution_count": 156,
   "id": "101b5509",
   "metadata": {},
   "outputs": [
    {
     "data": {
      "text/latex": [
       "$\\displaystyle \\left[\\begin{matrix}1 & 0\\\\\\frac{4 S}{S^{2} + 1} & 1\\end{matrix}\\right]$"
      ],
      "text/plain": [
       "⎡  1     0⎤\n",
       "⎢         ⎥\n",
       "⎢ 4⋅S     ⎥\n",
       "⎢──────  1⎥\n",
       "⎢ 2       ⎥\n",
       "⎣S  + 1   ⎦"
      ]
     },
     "execution_count": 156,
     "metadata": {},
     "output_type": "execute_result"
    }
   ],
   "source": [
    "Tt=Gir*Zs*Gir\n",
    "simplify(Tt)"
   ]
  },
  {
   "cell_type": "markdown",
   "id": "5903c300",
   "metadata": {},
   "source": [
    "El girador y la impedancia central compuesta por el tanque paralelo, terminan conformando una admitancia en derivación de valor $Y=\\frac{4S}{S^2+1}$\n",
    "\n",
    "El valor de ZA del lattice corresponde con el del capacitor en serie tanto a la entrada como a la salida. \n",
    "Queda a determinar el valor de ZB del lattice. Dividimos por dos la admitancia para obtener la bisecciòn del circuito \n",
    "\n",
    "<img src=\"./transformado.png\" align=\"center\" width=\"400\" /> \n",
    "\n",
    "Para llevarlo a Lattice \n",
    "<img src=\"./alattice.png\" align=\"center\" width=\"400\" /> \n"
   ]
  },
  {
   "cell_type": "code",
   "execution_count": 157,
   "id": "38fdcf65",
   "metadata": {},
   "outputs": [
    {
     "data": {
      "image/png": "[encoded data removed]",
      "text/latex": [
       "$\\displaystyle \\frac{S}{2} + \\frac{5}{2 S}$"
      ],
      "text/plain": [
       "S    5 \n",
       "─ + ───\n",
       "2   2⋅S"
      ]
     },
     "execution_count": 157,
     "metadata": {},
     "output_type": "execute_result"
    }
   ],
   "source": [
    "ZB=2/Tt[2]+2/S\n",
    "expand(ZB)"
   ]
  },
  {
   "cell_type": "markdown",
   "id": "1a959445",
   "metadata": {},
   "source": [
    "<img src=\"./final.png\" align=\"center\" width=\"400\" /> \n"
   ]
  },
  {
   "cell_type": "code",
   "execution_count": null,
   "id": "ed7589e0",
   "metadata": {},
   "outputs": [],
   "source": []
  },
  {
   "cell_type": "code",
   "execution_count": null,
   "id": "f7393b73",
   "metadata": {},
   "outputs": [],
   "source": []
  }
 ],
 "metadata": {
  "kernelspec": {
   "display_name": "Python 3",
   "language": "python",
   "name": "python3"
  },
  "language_info": {
   "codemirror_mode": {
    "name": "ipython",
    "version": 3
   },
   "file_extension": ".py",
   "mimetype": "text/x-python",
   "name": "python",
   "nbconvert_exporter": "python",
   "pygments_lexer": "ipython3",
   "version": "3.8.8"
  }
 },
 "nbformat": 4,
 "nbformat_minor": 5
}
