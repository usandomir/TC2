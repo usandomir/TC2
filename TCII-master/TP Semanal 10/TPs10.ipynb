{
 "cells": [
  {
   "cell_type": "markdown",
   "id": "92801b08",
   "metadata": {},
   "source": [
    "\n",
    "<img src=\"./logo_UTN.svg\" align=\"right\" width=\"150\" /> \n",
    " Teoría de Circuitos II\n",
    "\n",
    "# Trabajo semanal 10\n",
    "#### Israel Pavelek\n",
    "\n"
   ]
  },
  {
   "cell_type": "markdown",
   "id": "f8107519",
   "metadata": {},
   "source": [
    "1) Encuentre el valor de los componentes del siguiente circuito:\n",
    "\n",
    "<img src=\"./enun1.jpg\" align=\"center\" width=\"400\" /> \n",
    "\n",
    "Sabiendo que está caracterizado por la siguiente función de excitación y constantes de tiempo:\n",
    "\n",
    "$R_1 \\cdot C_1=\\frac16$\n",
    "   \n",
    "$R_2\\cdot C_2=\\frac27$\n",
    "\n",
    "$Z(s)=\\frac{(s^2+6s+8)}{(s^2+4s+3)}$\n",
    "\n",
    "2) Determine el valor de los componentes que integran el siguiente dipolo, sabiendo que satisface la impedancia propuesta:\n",
    "\n",
    "<img src=\"./enun2.jpg\" align=\"center\" width=\"400\" /> \n",
    "\n",
    "$Z(s)=\\frac{(s2+s+1)}{(s2+2s+5)(s+1)}$"
   ]
  },
  {
   "cell_type": "markdown",
   "id": "594d9782",
   "metadata": {},
   "source": [
    "#### Ejercicio 1\n",
    "\n",
    "$Z(s)=\\frac{(s+2)(s+4)}{(s+1)(s+3)}$\n",
    "\n",
    "$Z_2(s)=Z(s)-Z(-6)$\n",
    "\n",
    "$Z(-6)=\\frac{(-6+2)(-6+4)}{(-6+1)(-6+3)}=\\frac{8}{15}$\n",
    "\n",
    "$Z_2(s)=\\frac{15s^2+90s+120-8s^2-32s-24}{15(s^s+4s+3)}$\n",
    "\n",
    "$Z_2(s)=\\frac{7s^2+58s+96}{15(s^s+4s+3)}=\\frac{7(s+6)(s+2,28)}{15(s+1)(s+3)}$\n",
    "\n",
    "$Y_2(s)=\\frac{15(s+1)(s+3)}{7(s+6)(s+2,28)}$\n",
    "\n",
    "$Y_4(s)=Y_2(s)-\\frac{sK_1}{s+6}$\n",
    "\n",
    "$K_1=\\lim_{s \\to -6}(\\frac{Y_2(s)}{s} \\cdot (s+6))$\n",
    "\n",
    "$K_1=\\lim_{s \\to -6}(\\frac{15(s+1)(s+3)}{7(s+2,28)})$\n",
    "\n",
    "$K_1=\\frac{225}{156,24}=1,44$\n",
    "\n",
    "$Y_4(s)=\\frac{15s^2+60s+45}{7(s+6)(s+2,28)}-\\frac{1,44s}{(s+6)}=\\frac{15s^2+60s+45-10,085s^2-22,98s}{7(s+6)(s+2,28)}$\n",
    "\n",
    "$Y_4(s)=\\frac{5s^2+37s+45}{7(s+6)(s+2,28)}=\\frac{5(s+1,53)}{7(s+2,28)}$\n",
    "\n",
    "$Z_4(s)=\\frac{7(s+2,28)}{5(s+1,53)}$\n",
    "\n",
    "$Z_6(s)=Z_4(s)-Z_4(-\\frac72)$\n",
    "\n",
    "$Z_4(-\\frac72)=\\frac{-8,54}{-9,85}=0,867$\n",
    "\n",
    "$Z_6(s)=\\frac{7s+16}{5(s+1,53)}-0,867$\n",
    "\n",
    "$Z_6(s)=\\frac{7s+16-4,335,-6,63255}{5(s+1,53)}$\n",
    "\n",
    "$Z_6(s)=\\frac{2,66(s+\\frac72)}{5(s+1,53)}$\n",
    "\n",
    "$Y_6(s)=\\frac{5(s+1,53)}{2,66(s+\\frac72)}$\n",
    "\n",
    "$Y_8(s)=Y_6(s)-\\frac{sK2}{s+\\frac72}$\n",
    "\n",
    "$K_2=\\lim_{s \\to \\frac72}(\\frac{Y_8(s)}{s} \\cdot (s+\\frac72))$\n",
    "\n",
    "$K_2=\\lim_{s \\to \\frac72}(\\frac{s(s+1,53)}{2,66s})$\n",
    "\n",
    "$K_2=\\frac{-9,85}{-9,31}=1,085$\n",
    "\n",
    "$Y_8(s)=\\frac{5(s+1,53)}{(s,66(s+\\frac72))}-\\frac{s 1,058}{(s+\\frac72)}=\\frac{5s+7,65-2,81428s}{2,66(s+\\frac72)}$\n",
    "\n",
    "$Y_8(s)=\\frac{2,18572,+7,65}{2,66(s+\\frac72)}$\n",
    "\n",
    "$Y_8(s)=\\frac{2,18572}{2,66}=0,821$\n",
    "\n",
    "$Z_8(s)=1,22$\n",
    "\n",
    "\n",
    "Con $K_1$ Buscamos el valor de $R_1$ y $C_1$\n",
    "\n",
    "$K_1=\\frac{1}{R_1}=0,694$\n",
    "\n",
    "$C_1 R_1=\\frac16$ \n",
    "\n",
    "$C_1=0,24$\n",
    "\n",
    "\n",
    "Con $K_2$ Buscamos el valor de $R_2$ y $C_2$\n",
    "\n",
    "$K_2=\\frac{1}{R_2}=0,9451$\n",
    "\n",
    "$C_2 R_2=\\frac27$ \n",
    "\n",
    "$C_2=0,3$\n",
    "\n",
    "Verificamos en extremos de frec \n",
    " \n",
    "Si s=0\n",
    "\n",
    "$Zin=\\frac{8}{15}+0,867+1,22=2,62$\n",
    "\n",
    "Si $s=\\infty$\n",
    "\n",
    "$Zin=\\frac{8}{15}+(((1,22//0,9451)+0,867)//0,694)=1$\n",
    "\n",
    "La red nos queda:\n",
    "\n",
    "<img src=\"./cir1.png\" align=\"center\" width=\"400\" /> \n"
   ]
  },
  {
   "cell_type": "code",
   "execution_count": 33,
   "id": "5c65a879",
   "metadata": {},
   "outputs": [
    {
     "data": {
      "image/png": "[encoded data removed]",
      "text/latex": [
       "$\\displaystyle 0.819672131147541 + \\frac{1}{0.9451 + \\frac{3.33333333333333}{s}}$"
      ],
      "text/plain": [
       "                                1            \n",
       "0.819672131147541 + ─────────────────────────\n",
       "                             3.33333333333333\n",
       "                    0.9451 + ────────────────\n",
       "                                    s        "
      ]
     },
     "execution_count": 33,
     "metadata": {},
     "output_type": "execute_result"
    }
   ],
   "source": [
    "from sympy import *\n",
    "init_printing(use_unicode=True)\n",
    "s = symbols('s')\n",
    "Y1=(1/1.22)+(1/(1/(s*0.3)+0.9451))\n",
    "Y1\n",
    "#simplify(Y1)"
   ]
  },
  {
   "cell_type": "code",
   "execution_count": 34,
   "id": "3ac5ce4e",
   "metadata": {},
   "outputs": [
    {
     "data": {
      "image/png": "[encoded data removed]",
      "text/latex": [
       "$\\displaystyle 0.867 + \\frac{1}{0.819672131147541 + \\frac{1}{0.9451 + \\frac{3.33333333333333}{s}}}$"
      ],
      "text/plain": [
       "                              1                      \n",
       "0.867 + ─────────────────────────────────────────────\n",
       "                                        1            \n",
       "        0.819672131147541 + ─────────────────────────\n",
       "                                     3.33333333333333\n",
       "                            0.9451 + ────────────────\n",
       "                                            s        "
      ]
     },
     "execution_count": 34,
     "metadata": {},
     "output_type": "execute_result"
    }
   ],
   "source": [
    "Za=0.867+(1/Y1)\n",
    "Za"
   ]
  },
  {
   "cell_type": "code",
   "execution_count": 35,
   "id": "256bf6cb",
   "metadata": {},
   "outputs": [
    {
     "data": {
      "image/png": "[encoded data removed]",
      "text/latex": [
       "$\\displaystyle \\frac{1}{0.694 + \\frac{4.16666666666667}{s}}$"
      ],
      "text/plain": [
       "           1            \n",
       "────────────────────────\n",
       "        4.16666666666667\n",
       "0.694 + ────────────────\n",
       "               s        "
      ]
     },
     "execution_count": 35,
     "metadata": {},
     "output_type": "execute_result"
    }
   ],
   "source": [
    "Y2=1/((1/(s*0.24))+0.694)\n",
    "Y2"
   ]
  },
  {
   "cell_type": "code",
   "execution_count": 36,
   "id": "17ea7920",
   "metadata": {},
   "outputs": [
    {
     "data": {
      "image/png": "[encoded data removed]",
      "text/latex": [
       "$\\displaystyle \\frac{3.70524311021858 s^{2} + 22.3024115437158 s + 29.8307528840316}{3.71536319672131 s^{2} + 14.9928278688525 s + 11.384335154827}$"
      ],
      "text/plain": [
       "                  2                                        \n",
       "3.70524311021858⋅s  + 22.3024115437158⋅s + 29.8307528840316\n",
       "───────────────────────────────────────────────────────────\n",
       "                   2                                       \n",
       " 3.71536319672131⋅s  + 14.9928278688525⋅s + 11.384335154827"
      ]
     },
     "execution_count": 36,
     "metadata": {},
     "output_type": "execute_result"
    }
   ],
   "source": [
    "Zin=(8/15)+(1/(Y2+1/Za))\n",
    "simplify(Zin)"
   ]
  },
  {
   "cell_type": "markdown",
   "id": "58f43a2a",
   "metadata": {},
   "source": [
    "Expresión que extrayendo 3.7 y redondiando llegamos a lo la impedancia de nuestro sistema"
   ]
  },
  {
   "cell_type": "markdown",
   "id": "1b18fdea",
   "metadata": {},
   "source": [
    "### Ejercicio 2\n",
    "\n",
    "$Z_(s)=\\frac{s^2+s+1}{(s^2+2s+5)(s+1)}$\n",
    "\n",
    "Como tengo que remover un capacitor y un resistor en derivación lo paso a admitancia\n",
    "\n",
    "$Y(s)=\\frac{(s^2+2s+5)(s+1)}{s^2+s+1}$\n",
    "\n",
    "$Y_2(s)=Y(s)-s\\cdot K\\infty$\n",
    "\n",
    "$K\\infty=\\lim_{s \\to \\infty }(\\frac{Y(s)}{s})$\n",
    "\n",
    "$K\\infty=\\lim_{s \\to \\infty }(\\frac{(s^2+2s+5)(s+1)}{s^3+s^2+s})$\n",
    "\n",
    "$K\\infty=1$\n",
    "\n",
    "Removemos un capacitor en derivación de valor 1\n",
    "\n",
    "$Y_2(s)=\\frac{s^3+2s^2+5s+s^2+2s+5}{s^2+s+1}-5$\n",
    "\n",
    "$Y_2(s)=\\frac{s^3+3s^2+7s+5}{s^2+s+1}-5$\n",
    "\n",
    "$Y_2(s)=\\frac{2s^2+6s+5}{s^2+s+1}-5$\n",
    "\n",
    "Remuevo el valor de continua $Y_2(0)=5$\n",
    "\n",
    "$Y_4(s)=Y_2(s)-Y_2(0)$\n",
    "\n",
    "$Y_5(s)=\\frac{2s^2+6s+5}{s^2+s+1}-5=frac{2s^2+6s+5-5s^2-5s-5}{s^2+s+1}$\n",
    "\n",
    "Vemos que al realizar las simplificaciones nos queda el terrmino cuadratico negativo, lo que hace que la admitanacia no sea FRP, por lo tanto me fijo cuanto es lo máximo que le puedo remover.\n",
    "\n",
    "$2S^2-KS^2=0$\n",
    "\n",
    "K=2\n",
    "\n",
    "Removemos un resistor en derivación de valor 0.5\n",
    "\n",
    "$Y_4(s)=Y_2(s)-2$\n",
    "\n",
    "$Y_4(s)=\\frac{2s^2+6s+5}{s^2+s+1}-2=\\frac{2s^2+6s+5-2s^2-2s-2}{s^2+s+1}$\n",
    "\n",
    "$Y_4(s)=\\frac{4s+3}{s^2+s+1}$\n",
    "\n",
    "Paso a Z para queitar el inductor y el resistor en serie.\n",
    "\n",
    "Primero remuevo el inductor\n",
    "\n",
    "$Z_4(s)=\\frac{s^2+s+1}{4(s+\\frac34)}$\n",
    "\n",
    "$Z_6(s)=\\frac{s^2+s+1}{4(s+\\frac34)}-s \\cdot K'\\infty$\n",
    "\n",
    "$K'\\infty=\\lim_{s \\to \\infty }(\\frac{Z_6(s)}{s})$\n",
    "\n",
    "$K'\\infty=\\lim_{s \\to \\infty }(\\frac{s^2+s+1}{4s^2+3s})=\\frac14$\n",
    "\n",
    "Removemos un inductor en serie de valor $\\frac14$\n",
    "\n",
    "$Z_6(s)=\\frac{s^2+s+1}{4(s+\\frac34)}-\\frac{s}{4}=\\frac{s^2+s+1-s^2-\\frac34 s}{4(s+\\frac34)}$\n",
    "\n",
    "$Z_6(s)=\\frac{\\frac14 s+1}{4(s+\\frac34)}$\n",
    "\n",
    "Ahora removemos el resistor \n",
    "\n",
    "$Z_6(0)=\\frac13$\n",
    "\n",
    "El valor del resistor es de $\\frac13$\n",
    "\n",
    "$Z_8(s)=Z_6(s)-Z6(0)=\\frac{\\frac14 s+1}{4(s+\\frac34)}-\\frac13=\\frac{\\frac34 s+3-4s-3}{12(s+\\frac34)}$\n",
    "\n",
    "No es FRP por lo tanto lo màximo que puedo extraer es $\\frac{1}{16}$ dado que $\\frac{sK}{4}-4s=0$ \n",
    "\n",
    "El valor de K que hace 0 es 16\n",
    "\n",
    "$Z_8(s)=Z_6(s)-\\frac{1}{16}$\n",
    "\n",
    "$Z_8(s)=\\frac{\\frac34 s+3-4s-3}{12(s+\\frac34)}-\\frac{1}{16}=\\frac{s+4-s-\\frac34}{16(s+\\frac34)}$\n",
    "\n",
    "$Z_8(s)=\\frac{13}{64(s+\\frac34)}$\n",
    "\n",
    "$Y_8(s)=\\frac{64(s+\\frac34)}{13}=\\frac{64s}{13}+\\frac{48}{13}$\n",
    "\n",
    "Nos queda una resistencia en derivación de valor $\\frac{13}{48}$ y un capacitor en derivación de valor $\\frac{64}{13}$\n",
    "\n",
    "Red final:\n",
    "\n",
    "<img src=\"./cir2.png\" align=\"center\" width=\"400\" /> \n"
   ]
  },
  {
   "cell_type": "markdown",
   "id": "9d1549ca",
   "metadata": {},
   "source": [
    "Verificación:"
   ]
  },
  {
   "cell_type": "code",
   "execution_count": 37,
   "id": "ab0b46a1",
   "metadata": {},
   "outputs": [
    {
     "data": {
      "image/png": "[encoded data removed]",
      "text/latex": [
       "$\\displaystyle 4.92307692307692 s + 3.69230769230769$"
      ],
      "text/plain": [
       "4.92307692307692⋅s + 3.69230769230769"
      ]
     },
     "execution_count": 37,
     "metadata": {},
     "output_type": "execute_result"
    }
   ],
   "source": [
    "Y1=(48/13)+s*(64/13)\n",
    "simplify(Y1)"
   ]
  },
  {
   "cell_type": "code",
   "execution_count": 38,
   "id": "aa5c7d9c",
   "metadata": {},
   "outputs": [
    {
     "data": {
      "image/png": "[encoded data removed]",
      "text/latex": [
       "$\\displaystyle \\frac{1.23076923076923 \\left(s^{2} + s + 1\\right)}{4.92307692307692 s + 3.69230769230769}$"
      ],
      "text/plain": [
       "                     ⎛ 2        ⎞    \n",
       "    1.23076923076923⋅⎝s  + s + 1⎠    \n",
       "─────────────────────────────────────\n",
       "4.92307692307692⋅s + 3.69230769230769"
      ]
     },
     "execution_count": 38,
     "metadata": {},
     "output_type": "execute_result"
    }
   ],
   "source": [
    "Z1=1/Y1\n",
    "Z2=((1/4)*s+1/16)+Z1\n",
    "simplify(Z2)"
   ]
  },
  {
   "cell_type": "code",
   "execution_count": 39,
   "id": "3f43158a",
   "metadata": {},
   "outputs": [
    {
     "data": {
      "image/png": "[encoded data removed]",
      "text/latex": [
       "$\\displaystyle \\frac{1}{s + 2 + \\frac{1}{0.25 s + 0.0625 + \\frac{1}{4.92307692307692 s + 3.69230769230769}}}$"
      ],
      "text/plain": [
       "                               1                               \n",
       "───────────────────────────────────────────────────────────────\n",
       "                                   1                           \n",
       "s + 2 + ───────────────────────────────────────────────────────\n",
       "                                            1                  \n",
       "        0.25⋅s + 0.0625 + ─────────────────────────────────────\n",
       "                          4.92307692307692⋅s + 3.69230769230769"
      ]
     },
     "execution_count": 39,
     "metadata": {},
     "output_type": "execute_result"
    }
   ],
   "source": [
    "Y2=1/Z2\n",
    "Y3=(2)+s*1\n",
    "Zin=1/(Y3+Y2)\n",
    "expand(Zin)\n"
   ]
  },
  {
   "cell_type": "code",
   "execution_count": 40,
   "id": "68b575f2",
   "metadata": {},
   "outputs": [
    {
     "data": {
      "image/png": "[encoded data removed]",
      "text/latex": [
       "$\\displaystyle \\frac{1.23076923076923 \\left(s^{2} + s + 1\\right)}{1.23076923076923 s^{3} + 3.69230769230769 s^{2} + 8.61538461538462 s + 6.15384615384615}$"
      ],
      "text/plain": [
       "                                           ⎛ 2        ⎞                       \n",
       "                          1.23076923076923⋅⎝s  + s + 1⎠                       \n",
       "──────────────────────────────────────────────────────────────────────────────\n",
       "                  3                     2                                     \n",
       "1.23076923076923⋅s  + 3.69230769230769⋅s  + 8.61538461538462⋅s + 6.15384615384\n",
       "\n",
       "   \n",
       "   \n",
       "───\n",
       "   \n",
       "615"
      ]
     },
     "execution_count": 40,
     "metadata": {},
     "output_type": "execute_result"
    }
   ],
   "source": [
    "simplify(Zin)"
   ]
  },
  {
   "cell_type": "markdown",
   "id": "40920ed7",
   "metadata": {},
   "source": [
    "Que extrayendo factor común 1.2307... en el denominador nos da lo mismo que nos pedia.\n",
    "\n",
    "Aunque ne la expresión en fraciones continuas queda más claro.\n",
    "\n"
   ]
  },
  {
   "cell_type": "code",
   "execution_count": null,
   "id": "c98e5281",
   "metadata": {},
   "outputs": [],
   "source": []
  }
 ],
 "metadata": {
  "kernelspec": {
   "display_name": "Python 3 (ipykernel)",
   "language": "python",
   "name": "python3"
  },
  "language_info": {
   "codemirror_mode": {
    "name": "ipython",
    "version": 3
   },
   "file_extension": ".py",
   "mimetype": "text/x-python",
   "name": "python",
   "nbconvert_exporter": "python",
   "pygments_lexer": "ipython3",
   "version": "3.8.8"
  }
 },
 "nbformat": 4,
 "nbformat_minor": 5
}
