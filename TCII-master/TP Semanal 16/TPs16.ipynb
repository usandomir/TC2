{
 "cells": [
  {
   "cell_type": "markdown",
   "id": "92801b08",
   "metadata": {},
   "source": [
    "\n",
    "<img src=\"./logo_UTN.svg\" align=\"right\" width=\"150\" /> \n",
    " Teoría de Circuitos II\n",
    "\n",
    "# Trabajo semanal 16\n",
    "#### Israel Pavelek"
   ]
  },
  {
   "cell_type": "markdown",
   "id": "6afb3f30",
   "metadata": {},
   "source": [
    "Diseñe el cuadripolo A para que se comporte como:\n",
    "\n",
    "* Filtro pasa bajos Bessel de 3er. orden \n",
    "* No disipativo\n",
    "* Normalizado en frecuencia e impedancia\n",
    "\n",
    "* Respetando la siguiente topología:\n",
    "\n",
    "<img src=\"./topologia.png\" align=\"center\" width=\"500\" /> \n",
    "\n",
    "\n",
    "* Obtenga la impedancia de entrada al cuadripolo A, cargado con un resistor de 1Ω a la salida.\n",
    "* Sintetice A como un cuadripolo escalera.\n",
    "* Simule el comportamiento de la red en LTspice graficando S21 y S11 en función de la frecuencia. \n",
    "* Explique el comportamiento de A a partir de los valores de S11 en las siguientes frecuencias:\n",
    "\n",
    "    ** centro de la banda de paso\n",
    "    \n",
    "    ** frecuencia de corte\n",
    "    \n",
    "    ** transición y centro de la banda de detenida\n",
    "\n",
    "* Modifique el circuito para que la frecuencia de corte sea 2 π 10⁶ rad/s y la resistencia del generador sea 50Ω.\n"
   ]
  },
  {
   "cell_type": "markdown",
   "id": "131088e0",
   "metadata": {},
   "source": [
    "## Punto 1\n",
    "\n",
    "Un filtro de Bessel normalizado pasabajo de 3er orden tiene la siguiente expresion:\n",
    "\n",
    "$$H(s)=\\frac{15}{s^3+6s^2+15s+15}$$"
   ]
  },
  {
   "cell_type": "markdown",
   "id": "e7343797",
   "metadata": {},
   "source": [
    "$H(-s)=\\frac{15}{-s^3+6s^2-15s+15}$\n",
    "\n",
    "$|H(s)|^2=H(s)\\cdot H(-s)$"
   ]
  },
  {
   "cell_type": "code",
   "execution_count": 1,
   "id": "ca794a18",
   "metadata": {},
   "outputs": [
    {
     "data": {
      "image/png": "[encoded data removed]",
      "text/latex": [
       "$\\displaystyle \\frac{15}{s^{3} + 6 s^{2} + 15 s + 15}$"
      ],
      "text/plain": [
       "          15         \n",
       "─────────────────────\n",
       " 3      2            \n",
       "s  + 6⋅s  + 15⋅s + 15"
      ]
     },
     "execution_count": 1,
     "metadata": {},
     "output_type": "execute_result"
    }
   ],
   "source": [
    "from sympy import *\n",
    "import numpy as np\n",
    "from scipy.signal import tf2sos\n",
    "\n",
    "init_printing(use_unicode=True)\n",
    "s = symbols('s',relational=True)\n",
    "\n",
    "H=15/(s*s*s+6*s*s+15*s+15)\n",
    "H"
   ]
  },
  {
   "cell_type": "code",
   "execution_count": 2,
   "id": "fea82c65",
   "metadata": {},
   "outputs": [
    {
     "data": {
      "image/png": "[encoded data removed]",
      "text/latex": [
       "$\\displaystyle \\frac{15}{- s^{3} + 6 s^{2} - 15 s + 15}$"
      ],
      "text/plain": [
       "           15          \n",
       "───────────────────────\n",
       "   3      2            \n",
       "- s  + 6⋅s  - 15⋅s + 15"
      ]
     },
     "execution_count": 2,
     "metadata": {},
     "output_type": "execute_result"
    }
   ],
   "source": [
    "Hi=H.subs(s,-s)\n",
    "Hi"
   ]
  },
  {
   "cell_type": "code",
   "execution_count": 3,
   "id": "f00a57b2",
   "metadata": {},
   "outputs": [
    {
     "data": {
      "image/png": "[encoded data removed]",
      "text/latex": [
       "$\\displaystyle - \\frac{225}{s^{6} - 6 s^{4} + 45 s^{2} - 225}$"
      ],
      "text/plain": [
       "         -225          \n",
       "───────────────────────\n",
       " 6      4       2      \n",
       "s  - 6⋅s  + 45⋅s  - 225"
      ]
     },
     "execution_count": 3,
     "metadata": {},
     "output_type": "execute_result"
    }
   ],
   "source": [
    "Hmod=H*Hi\n",
    "simplify(Hmod)"
   ]
  },
  {
   "cell_type": "markdown",
   "id": "aee191e7",
   "metadata": {},
   "source": [
    "Sabemos que:\n",
    "\n",
    "$|S_{21}|^2=|H(s)|^2$\n",
    "\n",
    "$|S_{21}|^2=-\\frac{225}{s^6-6s^4+45s^2-225}$\n",
    "\n",
    "$|S_{21}|^2+|S_{11}|^2=1$\n",
    "\n",
    "$|S_{11}|^2=1-|S_{21}|^2$\n",
    "\n",
    "Entonces:"
   ]
  },
  {
   "cell_type": "code",
   "execution_count": 4,
   "id": "df725bea",
   "metadata": {},
   "outputs": [
    {
     "data": {
      "image/png": "[encoded data removed]",
      "text/latex": [
       "$\\displaystyle \\frac{s^{2} \\left(s^{4} - 6 s^{2} + 45\\right)}{s^{6} - 6 s^{4} + 45 s^{2} - 225}$"
      ],
      "text/plain": [
       "   2 ⎛ 4      2     ⎞  \n",
       "  s ⋅⎝s  - 6⋅s  + 45⎠  \n",
       "───────────────────────\n",
       " 6      4       2      \n",
       "s  - 6⋅s  + 45⋅s  - 225"
      ]
     },
     "execution_count": 4,
     "metadata": {},
     "output_type": "execute_result"
    }
   ],
   "source": [
    "S11m=1-Hmod\n",
    "simplify(S11m)"
   ]
  },
  {
   "cell_type": "markdown",
   "id": "69ae3d40",
   "metadata": {},
   "source": [
    "$|S_{11}|^2=S_{11}(s)\\cdot S_{11}(-s)$"
   ]
  },
  {
   "cell_type": "code",
   "execution_count": 5,
   "id": "aaaa5970",
   "metadata": {},
   "outputs": [
    {
     "name": "stdout",
     "output_type": "stream",
     "text": [
      "[(-2.2+1.36j), (-2.2-1.36j), 0j, 0j]\n"
     ]
    }
   ],
   "source": [
    "ceros=[]\n",
    "num=np.roots([1,0,-6,0,45,0,0])\n",
    "num.round(2)\n",
    "for cero in num:\n",
    "    if (cero.real <= 0):\n",
    "        ceros.append(cero.round(2))\n",
    "print(ceros)   "
   ]
  },
  {
   "cell_type": "code",
   "execution_count": 6,
   "id": "7d206248",
   "metadata": {},
   "outputs": [
    {
     "name": "stdout",
     "output_type": "stream",
     "text": [
      "[(-2.32+0j), (-1.84+1.75j), (-1.84-1.75j)]\n"
     ]
    }
   ],
   "source": [
    "polos=[]\n",
    "\n",
    "den=np.roots([1,0,-6,0,45,0,-225])\n",
    "den.round(2)\n",
    "for polo in den:\n",
    "    if (polo.real <= 0):\n",
    "        polos.append(polo.round(2))\n",
    "print(polos) "
   ]
  },
  {
   "cell_type": "code",
   "execution_count": 7,
   "id": "6987ec5d",
   "metadata": {},
   "outputs": [
    {
     "name": "stdout",
     "output_type": "stream",
     "text": [
      "[[1, 2.32], [1, 3.68, 6.448]]\n"
     ]
    }
   ],
   "source": [
    "den_2sos=[]\n",
    "polos_simply=[]\n",
    "polos_simply.append(polos[0])\n",
    "for i in range(1,len(polos)):\n",
    "    if((polos[i].real!=polos[i-1].real) or (polos[i].imag!=-polos[i-1].imag)):\n",
    "        polos_simply.append(polos[i])\n",
    "for polo in polos_simply:\n",
    "    if(polo.imag!=0):\n",
    "        den_2sos.append([1, -2*(polo.real.round(3)), (polo.real**2+polo.imag**2).round(3)])\n",
    "    else:\n",
    "        den_2sos.append([1, -polo.real])\n",
    "print(den_2sos)"
   ]
  },
  {
   "cell_type": "code",
   "execution_count": 8,
   "id": "03b63fb0",
   "metadata": {},
   "outputs": [
    {
     "name": "stdout",
     "output_type": "stream",
     "text": [
      "[[1, 4.4, 6.69], [1, -0.0]]\n"
     ]
    }
   ],
   "source": [
    "den_2sos=[]\n",
    "ceros_simply=[]\n",
    "ceros_simply.append(ceros[0])\n",
    "for i in range(1,len(ceros)):\n",
    "    if((ceros[i].real!=ceros[i-1].real) or (ceros[i].imag!=-ceros[i-1].imag)):\n",
    "        ceros_simply.append(ceros[i])\n",
    "for cero in ceros_simply:\n",
    "    if(cero.imag!=0):\n",
    "        den_2sos.append([1, -2*(cero.real.round(3)), (cero.real**2+cero.imag**2).round(3)])\n",
    "    else:\n",
    "        den_2sos.append([1, -cero.real])\n",
    "print(den_2sos)"
   ]
  },
  {
   "cell_type": "code",
   "execution_count": 9,
   "id": "1d3295d0",
   "metadata": {},
   "outputs": [
    {
     "data": {
      "image/png": "[encoded data removed]",
      "text/latex": [
       "$\\displaystyle s^{3} + 4.4 s^{2} + 6.69 s$"
      ],
      "text/plain": [
       " 3        2         \n",
       "s  + 4.4⋅s  + 6.69⋅s"
      ]
     },
     "execution_count": 9,
     "metadata": {},
     "output_type": "execute_result"
    }
   ],
   "source": [
    "numS11=s*(s*s+4.4*s+6.69)\n",
    "expand(numS11)"
   ]
  },
  {
   "cell_type": "code",
   "execution_count": 10,
   "id": "3b57347b",
   "metadata": {},
   "outputs": [
    {
     "data": {
      "image/png": "[encoded data removed]",
      "text/latex": [
       "$\\displaystyle s^{3} + 5.98 s^{2} + 14.904 s + 14.812$"
      ],
      "text/plain": [
       " 3         2                    \n",
       "s  + 5.98⋅s  + 14.904⋅s + 14.812"
      ]
     },
     "execution_count": 10,
     "metadata": {},
     "output_type": "execute_result"
    }
   ],
   "source": [
    "denS11=(s+2.3)*(s*s+3.68*s+6.44)\n",
    "expand(denS11)"
   ]
  },
  {
   "cell_type": "code",
   "execution_count": 11,
   "id": "23566c28",
   "metadata": {},
   "outputs": [
    {
     "data": {
      "image/png": "[encoded data removed]",
      "text/latex": [
       "$\\displaystyle \\frac{s^{3} + 4.4 s^{2} + 6.69 s}{s^{3} + 5.98 s^{2} + 14.904 s + 14.812}$"
      ],
      "text/plain": [
       "       3        2               \n",
       "      s  + 4.4⋅s  + 6.69⋅s      \n",
       "────────────────────────────────\n",
       " 3         2                    \n",
       "s  + 5.98⋅s  + 14.904⋅s + 14.812"
      ]
     },
     "execution_count": 11,
     "metadata": {},
     "output_type": "execute_result"
    }
   ],
   "source": [
    "S11=(s*s*s+4.4*s*s+6.69*s)/(s*s*s+5.98*s*s+14.904*s+14.812)\n",
    "S11"
   ]
  },
  {
   "cell_type": "code",
   "execution_count": 12,
   "id": "3115e66f",
   "metadata": {},
   "outputs": [
    {
     "data": {
      "image/png": "[encoded data removed]",
      "text/latex": [
       "$\\displaystyle \\frac{2.0 s^{3} + 10.38 s^{2} + 21.594 s + 14.812}{1.58 s^{2} + 8.214 s + 14.812}$"
      ],
      "text/plain": [
       "     3          2                    \n",
       "2.0⋅s  + 10.38⋅s  + 21.594⋅s + 14.812\n",
       "─────────────────────────────────────\n",
       "            2                        \n",
       "      1.58⋅s  + 8.214⋅s + 14.812     "
      ]
     },
     "execution_count": 12,
     "metadata": {},
     "output_type": "execute_result"
    }
   ],
   "source": [
    "Z1=(1+S11)/(1-S11)\n",
    "simplify(Z1)"
   ]
  },
  {
   "cell_type": "markdown",
   "id": "60dea7b9",
   "metadata": {},
   "source": [
    "<img src=\"./sintesis.png\" align=\"center\" width=\"500\" /> \n",
    "\n",
    "En la siguiente simulación vemos la respuesta de modulo y en linea punteada el retardo de grupo, que lo vemos constante en la banda de paso:\n",
    "\n",
    "<img src=\"./Simu.png\" align=\"center\" width=\"500\" /> \n"
   ]
  },
  {
   "cell_type": "markdown",
   "id": "8cddc25b",
   "metadata": {},
   "source": [
    "Desnormalizando el circuito para $\\omega_n= 2\\pi\\cdot 10^6 \\frac{rad}{seg}$ y $Rn=50\\Omega$\n",
    "\n",
    "$C'=\\frac{C}{\\omega_n \\cdot Rn}$\n",
    "\n",
    "$R'=R \\cdot Rn$\n",
    "\n",
    "$L'=L \\cdot \\frac{Rn}{\\omega_n}$\n",
    "\n",
    "\n",
    "<img src=\"./Simudesnorm.png\" align=\"center\" width=\"500\" /> \n",
    "\n",
    "\n"
   ]
  },
  {
   "cell_type": "markdown",
   "id": "056eede5",
   "metadata": {},
   "source": [
    "Análisis de S11, vemos podemos ver en el gráfico para continua, S11 tiende a cero, lo que significa que se encuentra adaptado el circuito, a medida que nos acercamos a la banda de rechazo tenemos 0dB lo que significa que el circuito está desadaptado, ya en la frecuencia de corte tenemos bastante desadaptado el filtro."
   ]
  },
  {
   "cell_type": "code",
   "execution_count": null,
   "id": "678f206b",
   "metadata": {},
   "outputs": [],
   "source": []
  }
 ],
 "metadata": {
  "kernelspec": {
   "display_name": "Python 3 (ipykernel)",
   "language": "python",
   "name": "python3"
  },
  "language_info": {
   "codemirror_mode": {
    "name": "ipython",
    "version": 3
   },
   "file_extension": ".py",
   "mimetype": "text/x-python",
   "name": "python",
   "nbconvert_exporter": "python",
   "pygments_lexer": "ipython3",
   "version": "3.8.8"
  }
 },
 "nbformat": 4,
 "nbformat_minor": 5
}
