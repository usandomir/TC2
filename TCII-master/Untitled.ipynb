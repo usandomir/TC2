{
 "cells": [
  {
   "cell_type": "code",
   "execution_count": 1,
   "id": "afd90997",
   "metadata": {},
   "outputs": [
    {
     "data": {
      "image/png": "[encoded data removed]",
      "text/latex": [
       "$\\displaystyle \\frac{16.2 s + 25.0}{s \\left(87.48 s + 150.0\\right)}$"
      ],
      "text/plain": [
       "   16.2⋅s + 25.0   \n",
       "───────────────────\n",
       "s⋅(87.48⋅s + 150.0)"
      ]
     },
     "execution_count": 1,
     "metadata": {},
     "output_type": "execute_result"
    }
   ],
   "source": [
    "from sympy import *\n",
    "init_printing(use_unicode=True)\n",
    "s = symbols('s')\n",
    "Z11=1/((1/(27/25+(5/(s*3))))+((27*s)/5))\n",
    "simplify(Z11)"
   ]
  },
  {
   "cell_type": "code",
   "execution_count": 8,
   "id": "d65e67b7",
   "metadata": {},
   "outputs": [
    {
     "data": {
      "image/png": "[encoded data removed]",
      "text/latex": [
       "$\\displaystyle \\frac{75.0 s^{2} + 275.0 s + 25.0}{s \\left(75.0 s + 150.0\\right)}$"
      ],
      "text/plain": [
       "      2                 \n",
       "75.0⋅s  + 275.0⋅s + 25.0\n",
       "────────────────────────\n",
       "   s⋅(75.0⋅s + 150.0)   "
      ]
     },
     "execution_count": 8,
     "metadata": {},
     "output_type": "execute_result"
    }
   ],
   "source": [
    "Zs=(5/(27*s))+25/27\n",
    "Yp=(1/Zs)+((3*s)/5)\n",
    "Z22=1+1/Yp\n",
    "simplify(Z22)"
   ]
  },
  {
   "cell_type": "code",
   "execution_count": 9,
   "id": "4f8ae368",
   "metadata": {},
   "outputs": [
    {
     "data": {
      "image/png": "[encoded data removed]",
      "text/latex": [
       "$\\displaystyle \\frac{27.0}{81.0 s^{2} + 162.0 s + 26.3344186046512}$"
      ],
      "text/plain": [
       "                27.0                \n",
       "────────────────────────────────────\n",
       "      2                             \n",
       "81.0⋅s  + 162.0⋅s + 26.3344186046512"
      ]
     },
     "execution_count": 9,
     "metadata": {},
     "output_type": "execute_result"
    }
   ],
   "source": [
    "Z21=(27/25)/((((27*s)/5)+27/25)*(((3*s)/5)+27/25)-((27/25)*(27/258)))\n",
    "simplify(Z21)"
   ]
  },
  {
   "cell_type": "code",
   "execution_count": 11,
   "id": "245f1fb4",
   "metadata": {},
   "outputs": [
    {
     "data": {
      "image/png": "[encoded data removed]",
      "text/latex": [
       "$\\displaystyle \\frac{27.0}{s \\left(81.0 s + 162.0\\right)}$"
      ],
      "text/plain": [
       "       27.0       \n",
       "──────────────────\n",
       "s⋅(81.0⋅s + 162.0)"
      ]
     },
     "execution_count": 11,
     "metadata": {},
     "output_type": "execute_result"
    }
   ],
   "source": [
    "YA=(27*s)/5\n",
    "YB=27/25\n",
    "YC=(3*s)/5\n",
    "Z21=YB/((YA+YB)*(YC+YB)-(YB*YB))\n",
    "simplify(Z21)"
   ]
  },
  {
   "cell_type": "code",
   "execution_count": null,
   "id": "71f0a256",
   "metadata": {},
   "outputs": [],
   "source": []
  }
 ],
 "metadata": {
  "kernelspec": {
   "display_name": "Python 3",
   "language": "python",
   "name": "python3"
  },
  "language_info": {
   "codemirror_mode": {
    "name": "ipython",
    "version": 3
   },
   "file_extension": ".py",
   "mimetype": "text/x-python",
   "name": "python",
   "nbconvert_exporter": "python",
   "pygments_lexer": "ipython3",
   "version": "3.8.8"
  }
 },
 "nbformat": 4,
 "nbformat_minor": 5
}
