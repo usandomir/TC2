{
 "cells": [
  {
   "cell_type": "markdown",
   "id": "4b887bcc",
   "metadata": {},
   "source": [
    "\n",
    "<img src=\"./logo_UTN.svg\" align=\"right\" width=\"150\" /> \n",
    " Teoría de Circuitos II\n",
    "\n",
    "# Trabajo semanal 7\n",
    "#### Israel Pavelek\n",
    "\n"
   ]
  },
  {
   "cell_type": "markdown",
   "id": "16e86453",
   "metadata": {},
   "source": [
    "Ejercicio de MAI, continuantes y transformación de Bruton\n",
    "Suponga el siguiente circuito:\n",
    "\n",
    "Parte I - análisis de cuadripolos\n",
    "\n",
    "* Obtener la transferencia de tensión fracción $\\frac{V_o}{V_i}$ por método de cuadripolos (se sugiere referirse a alguno de los métodos de interconexión ya vistos). Ayuda: si $C_2$ igual $\\frac43$ (se utilizó 1.333 para la simulación), los polos de la transferencia están ubicados sobre una circunferencia de radio unitario.\n",
    "* Valide la transferencia con simulación circuital.\n",
    "\n",
    "Part II - análisis matricial\n",
    "\n",
    "* Construya la matriz de admitancia indefinida (MAI) del circuito.\n",
    "* Compute la transferencia de tensión con la MAI.\n",
    "* Compute la transferencia de tensión mediante el método de los continuantes.\n",
    "\n",
    "Parte III - transformación de Bruton\n",
    "\n",
    "* Aplique la transformación de Bruton.\n",
    "* Valide con simulación circuital.\n",
    "* Explique el criterio de construcción de la FDNR.\n",
    "* Suponga que en el circuito original, la resistencia de carga se la utiliza para aprovechar su potencia activa de alguna forma (por ejemplo, es la resistencia equivalente de un parlante). Al aplicar la transformación de Bruton, ¿dónde se disipa esa potencia?\n",
    "\n"
   ]
  },
  {
   "cell_type": "markdown",
   "id": "bbb40d01",
   "metadata": {},
   "source": [
    "## Parte I - análisis de cuadripolos\n",
    "\n",
    "\n"
   ]
  }
 ],
 "metadata": {
  "kernelspec": {
   "display_name": "Python 3",
   "language": "python",
   "name": "python3"
  },
  "language_info": {
   "codemirror_mode": {
    "name": "ipython",
    "version": 3
   },
   "file_extension": ".py",
   "mimetype": "text/x-python",
   "name": "python",
   "nbconvert_exporter": "python",
   "pygments_lexer": "ipython3",
   "version": "3.8.8"
  }
 },
 "nbformat": 4,
 "nbformat_minor": 5
}
