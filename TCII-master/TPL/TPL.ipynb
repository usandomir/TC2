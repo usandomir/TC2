{
 "cells": [
  {
   "cell_type": "markdown",
   "metadata": {},
   "source": [
    "\n",
    "<img src=\"./logo_UTN.svg\" align=\"right\" width=\"150\" /> \n",
    " Teoría de Circuitos II\n",
    "\n",
    "# TPL Grupo 1\n",
    "####  Boirazian Juan - Brunella Nicolas - Pavelek Israel  - Santana Federico - Sureda Nicolas - "
   ]
  },
  {
   "cell_type": "markdown",
   "metadata": {},
   "source": [
    "### Objetivos\n",
    "\n",
    "A partir de un plantilla de filtro, analizar, simular, implementar y medir un circuito que responda a dicha plantilla.\n",
    "\n",
    "Consolidar los conceptos de teoría moderna de filtrado mediante la implementación circuital.\n",
    "\n",
    "Medir la respuesta en frecuencia del filtro con un osciloscopio para frecuencias menores entre 20 Hz y 100 kHz.\n",
    "\n",
    "Descripción\n",
    "\n",
    "El trabajo práctico consiste en la realización de tres partes que conforman el diseño, análisis, medición y discusión de un filtro activo a partir de una plantilla. Implica la implementación de una función transferencia con un circuito integrado especial, el UAF42 que posee una característica especial: capacitores de muy baja tolerancia (1%) integrados. Esto permite obtener respuestas en frecuencia del filtro sumamente similares a las simulaciones.\n",
    "\n",
    "La construcción del filtro debe realizarse previo a ir al laboratorio. Las mediciones se espera que se realicen en el laboratorio. Finalmente, la construcción de las gráficas, obtención de respuestas en frecuencia e informe correspondiente a la parte II puede iniciarse en el laboratorio y entregarse hasta dos semanas posterior a la fecha pactada de laboratorio.\n",
    "\n",
    "\n",
    "Referencias del integrado UAF42:\n",
    "\n",
    "Página de Texas Instruments con material: https://www.ti.com/product/UAF42\n",
    "\n",
    "Hoja de datos: https://www.ti.com/lit/ds/symlink/uaf42.pdf \n",
    "\n",
    "<table>\n",
    "  <tr>\n",
    "    <td>Función de aproximación</td>\n",
    "    <td>Frecuencia de corte</td>\n",
    "    <td>Frecuencia de stop</td>\n",
    "    <td>Atenuación máxima en banda de paso</td>\n",
    "    <td>Atenuación mínima en banda de stop</td>\n",
    "  </tr>\n",
    "  <tr>\n",
    "    <td>Máxima Planicidad</td>\n",
    "    <td>1200Hz</td>\n",
    "    <td>3600Hz</td>\n",
    "    <td>2dB</td>\n",
    "    <td>14dB</td>\n",
    "   </tr>\n",
    "</table>\n",
    "\n",
    "Normializando todo en 1200Hz\n",
    "\n",
    "<table>\n",
    "  <tr>\n",
    "    <td>Función de aproximación</td>\n",
    "    <td>Frecuencia de corte</td>\n",
    "    <td>Frecuencia de stop</td>\n",
    "    <td>Atenuación máxima en banda de paso</td>\n",
    "    <td>Atenuación mínima en banda de stop</td>\n",
    "  </tr>\n",
    "  <tr>\n",
    "    <td>Máxima Planicidad</td>\n",
    "    <td>1</td>\n",
    "    <td>3</td>\n",
    "    <td>2dB</td>\n",
    "    <td>14dB</td>\n",
    "   </tr>\n",
    "</table>"
   ]
  },
  {
   "cell_type": "markdown",
   "metadata": {},
   "source": [
    "wp=1\n",
    "ws=3\n",
    "\n",
    "$\\alpha_{max}=2dB$\n",
    "\n",
    "$\\alpha_{min}=14dB$\n",
    "\n",
    "Caluclo de $\\epsilon $\n",
    "\n",
    "$$ \\mid T(\\omega)\\mid^2=\\frac{1}{1+\\epsilon^2\\omega^{2N}} $$\n",
    "\n",
    "$$(10^{-\\frac{\\alpha_{max}}{10}})^2=\\frac{1}{1+\\epsilon^2}\\mid_{\\omega=1} $$\n",
    "\n",
    "$$ 10^{\\frac{-\\alpha_{max}}{10}} \\cdot (1+\\epsilon^2)=1 $$ \n",
    "\n",
    "$$ \\epsilon=\\sqrt{10^{\\frac{\\alpha_{max}}{10}}-1} $$\n",
    "\n",
    "Calculo de N\n",
    "<br><br>\n",
    "$$ 10^{-\\frac{\\alpha_{min}}{10}}=\\frac{1}{1+\\epsilon^2 (\\omega_s)^{2N}} $$\n",
    "<br>\n",
    "$$ 10^{-\\frac{\\alpha_{min}}{10}} \\cdot (1+\\epsilon^2 (\\omega_s)^{2N}) $$\n",
    "<br>\n",
    "$$ (\\omega_s)^{2N}=\\frac{1-10^{-\\frac{\\alpha_{min}}{10}}}{10^{-\\frac{\\alpha_{min}}{10}}\\epsilon^2} $$\n",
    "<br>\n",
    "$$ N=\\frac{log(\\frac{10^{(\\frac{\\alpha_{min}}{10})}-1}{\\epsilon^2})}{2log(\\omega_s)} $$\n",
    "<br>\n"
   ]
  },
  {
   "cell_type": "code",
   "execution_count": null,
   "metadata": {},
   "outputs": [],
   "source": [
    "import numpy as np\n",
    "import scipy.signal as sig\n",
    "\n",
    "alfa_max = 2 # dB \\alpha_{max} \n",
    "alfa_min = 14 # dB \\alpha_{min} \n",
    "ws=3\n",
    "    \n",
    "eps=np.sqrt(10**(alfa_max/10)-1)\n",
    "N = np.log10(((10**((alfa_min/10))-1)/(eps**2)))/(2*np.log10(ws))\n",
    "N=np.ceil(N)\n",
    "eps=np.round(eps,2)    \n",
    "print('El filtro es de orden:',N,'con Epsilon:',eps)\n",
    "    "
   ]
  },
  {
   "cell_type": "markdown",
   "metadata": {},
   "source": [
    "La transferencia del filtro normalizada es:\n",
    "\n",
    "\n",
    "$$H(s)=\\frac{1}{s^2+\\sqrt2 s+1}$$\n",
    "\n"
   ]
  },
  {
   "cell_type": "markdown",
   "metadata": {},
   "source": [
    "### Desnormalizamos la transferencia:\n",
    "\n",
    "siendo la frecuencia de desnormalización:\n",
    "\n",
    "$Wb=0.76^{\\frac{-1}{2}}\\cdot 2\\cdot \\pi \\cdot 1200Hz$"
   ]
  },
  {
   "cell_type": "code",
   "execution_count": null,
   "metadata": {},
   "outputs": [],
   "source": [
    "from sympy import *\n",
    "import math \n",
    "init_printing(use_unicode=True)\n",
    "s = symbols('s')\n",
    "H=(s*s+s*1.41+1)\n",
    "wb=(1/math.sqrt(0.76))*2*math.pi*1200\n",
    "H = H.subs(s, s/wb) \n",
    "H=monic(H)\n",
    "H\n"
   ]
  },
  {
   "cell_type": "code",
   "execution_count": null,
   "metadata": {},
   "outputs": [],
   "source": [
    "H=74801212.30/(s*s+12194.76*s+74801212.30)\n",
    "H"
   ]
  },
  {
   "cell_type": "code",
   "execution_count": null,
   "metadata": {},
   "outputs": [],
   "source": [
    "from scipy import signal\n",
    "\n",
    "import matplotlib.pyplot as plt\n",
    "\n",
    "from splane import *\n",
    "\n",
    "num=[1]\n",
    "den=[1,1.41,1]\n",
    "\n",
    "all_sys=(signal.TransferFunction(num,den))\n",
    "fig_id, axes_hdl = bodePlot(all_sys, 1, ())\n",
    "analog_fig_id, analog_axes_hdl = pzmap(all_sys, \"\", 3, ())\n",
    "\n",
    "w, h = signal.freqs(num,den)\n",
    "plt.figure()\n",
    "plt.plot(w[1:], -np.diff(np.unwrap(np.angle(h)))/np.diff(w))\n",
    "plt.xscale('log')\n",
    "plt.title('Filter group delay')\n",
    "plt.xlabel('Frequency [radians / second]')\n",
    "plt.ylabel('Group delay [seconds]')\n",
    "plt.margins(0, 0.1)\n",
    "plt.grid(which='both', axis='both')\n",
    "plt.show()"
   ]
  },
  {
   "cell_type": "markdown",
   "metadata": {},
   "source": [
    "### Sintesis del filtro:"
   ]
  },
  {
   "cell_type": "markdown",
   "metadata": {},
   "source": [
    "\n",
    "<img src=\"./_UAF42.png\" align=\"center\" width=\"800\" /> \n",
    "\n",
    "Si tomamos que RF1=RF2=RF\n",
    "\n",
    "Segun la hoja de datos:\n",
    "\n",
    "$$\\omega_n^2=\\frac{1}{R_{F}^2C_1C_2}$$\n",
    "\n",
    "$$Q=\\frac{1+\\frac{50K\\cdot(R_G+R_Q)}{R_G\\cdot R_Q}}{2}$$\n",
    "\n",
    "$$A=\\frac{2}{R_G\\cdot (\\frac{1}{R_G}+\\frac{1}{R_Q}+\\frac{1}{50K})}$$"
   ]
  },
  {
   "cell_type": "code",
   "execution_count": null,
   "metadata": {},
   "outputs": [],
   "source": [
    "C=1*10**(-9)\n",
    "RF=74801212.3*(C**2)\n",
    "RF=round(1/sqrt(RF),0)\n",
    "print(f\"RF1=RF2={RF:.0f} Ω\")\n",
    "print(\"Adoptamos RF1=RF2=120KΩ\")"
   ]
  },
  {
   "cell_type": "code",
   "execution_count": null,
   "metadata": {},
   "outputs": [],
   "source": [
    "Q=sqrt(74801212.3)/12194.76\n",
    "RP=((Q*2)-1)/50000\n",
    "RP=round((2*(1/RP)),0)\n",
    "print(f\"RG=RQ={RP:.0f}Ω\")\n",
    "print(\"Adoptamos RF1=RF2=220KΩ\")\n"
   ]
  },
  {
   "cell_type": "code",
   "execution_count": null,
   "metadata": {},
   "outputs": [],
   "source": [
    "#La ganancia en continua:\n",
    "RG=RQ=220000\n",
    "A=2/(RG*(1/RG+1/RQ+1/50000))\n",
    "print(\"Ganacia en continua del filtro:\",A)\n",
    "print(\"Para que la ganancia sea de 0dB en continua utilizamos un operacional extra que nos provee el UAF42 para ganar 3.2 veces y tener 0dB de ganancia total del filtro\")\n"
   ]
  },
  {
   "cell_type": "markdown",
   "metadata": {},
   "source": [
    "### Simulación matemática y circuital\n",
    "\n",
    "<img src=\"./simu.png\" align=\"center\" width=\"600\" /> "
   ]
  }
 ],
 "metadata": {
  "kernelspec": {
   "display_name": "Python 3 (ipykernel)",
   "language": "python",
   "name": "python3"
  },
  "language_info": {
   "codemirror_mode": {
    "name": "ipython",
    "version": 3
   },
   "file_extension": ".py",
   "mimetype": "text/x-python",
   "name": "python",
   "nbconvert_exporter": "python",
   "pygments_lexer": "ipython3",
   "version": "3.8.8"
  }
 },
 "nbformat": 4,
 "nbformat_minor": 4
}
