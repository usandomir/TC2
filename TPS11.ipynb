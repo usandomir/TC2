{
 "cells": [
  {
   "cell_type": "markdown",
   "id": "6fdac3a2",
   "metadata": {},
   "source": [
    "# Trabajo Práctico Semanal 11\n",
    "Teoria de circuitos II\n",
    "\n",
    "### Sandomir L Uriel"
   ]
  },
  {
   "cell_type": "markdown",
   "id": "9f82f717",
   "metadata": {},
   "source": [
    "<br><br>\n",
    "### Consigna 1\n",
    "<br>\n",
    "Se pide encontrar el valor de los componentes del circuito sabiendo que está caracterizado por la siguiente función de excitación y constantes de tiempo:\n",
    "<br>\n",
    "<img src=\"https://i.gyazo.com/0146ca75fe72d306a3908581af18e3b7.png\"/>"
   ]
  },
  {
   "cell_type": "markdown",
   "id": "7a409ce5",
   "metadata": {},
   "source": [
    "<img src=\"https://i.gyazo.com/f8bfab069f7d6379d300ad7e1257814f.png\"/><br>\n",
    "Sabemos que la derivacion R1-C1 resuena a $\\sigma = -6$, por lo que para forzar un 0 a tal frecuencia, removemos parcialmente un resistor en $\\sigma\\rightarrow-\\infty$\n",
    "<br>"
   ]
  },
  {
   "cell_type": "markdown",
   "id": "fd6e4465",
   "metadata": {},
   "source": [
    "<img src=\"https://i.gyazo.com/fd993318657d16767885cdecfb0d6a06.png\"/>\n",
    "<br>\n",
    "Nos queda entonces, la imitancia:\n",
    "<img src=\"https://i.gyazo.com/e9ac6ffcd5ff0e27e7010a93f3429a13.png\"/>"
   ]
  },
  {
   "cell_type": "markdown",
   "id": "36b54357",
   "metadata": {},
   "source": [
    "Ahora podemos remover en admitancia, la derivacion RC que resuena en el polo de $\\sigma = -6$:\n",
    "<img src=\"https://i.gyazo.com/94be96896d8e87abb223483423359bcf.png\"/>\n",
    "<br>\n",
    "Quedandonos con la imitancia:\n",
    "<img src=\"https://i.gyazo.com/e4df5f7d62da7f66c25c0ad98011a5e2.png\"/>\n"
   ]
  },
  {
   "cell_type": "markdown",
   "id": "ca4ae9d6",
   "metadata": {},
   "source": [
    "Ahora necesitamos remover una derivacion RC serie con resonancia en $\\sigma = -\\frac{7}{2}$, para ello realizamos otra remocion parcial en $\\sigma\\rightarrow-\\infty$ para forzar el 0 en esa posicion.\n",
    "<img src=\"https://i.gyazo.com/2870bccf1e5454841153e57d432fd60d.png\"/>\n",
    "<br>\n",
    "Tenemos entonces para seguir removiendo, la imitancia:\n",
    "<img src=\"https://i.gyazo.com/c2e5a81915a13632618da2ea500f4da9.png\"/>\n",
    "<img src=\"https://i.gyazo.com/a4fa8d4349c095aae4183cebb06617f4.png\"/>"
   ]
  },
  {
   "cell_type": "markdown",
   "id": "cdf03517",
   "metadata": {},
   "source": [
    "Logrado el polo en la posicion deseada, removemos la segunda derivacion RC serie:\n",
    "<img src=\"https://i.gyazo.com/8c2b1d483042f87ddbbc5cba865b45f2.png\">\n",
    "<br>\n",
    "El elemento que nos queda, es una impedancia puramente resistiva de valor:\n",
    "<img src=\"https://i.gyazo.com/66226fe16c10c195505352337491100e.png\"/>"
   ]
  },
  {
   "cell_type": "markdown",
   "id": "3644944e",
   "metadata": {},
   "source": [
    "<br>\n",
    "Solo resta calcular el valor de los componentes:\n",
    "<br><br>\n",
    "$Z_1 = R'_\\infty = \\frac{8}{15}$\n",
    "<br><br>\n",
    "$Z_2 = R\"_\\infty = 0.867$\n",
    "<br><br>\n",
    "$Z_3 = Z_8(s) = 1.216$\n",
    "<br><br>\n",
    "$R_1 = \\frac{1}{K_1} = 0.6944$\n",
    "<br><br>\n",
    "$C_1 = \\frac{K_1}{\\sigma_1} = 0.24$\n",
    "<br><br>\n",
    "$R_2 = \\frac{1}{K_2} = 0.945$\n",
    "<br><br>\n",
    "$C_2 = \\frac{K_2}{\\sigma_2} = 0.302$\n",
    "<br>\n",
    "<img src=\"https://i.gyazo.com/33b16877f940ef845eefed368516cacd.png\"/>"
   ]
  },
  {
   "cell_type": "markdown",
   "id": "0bf130bf",
   "metadata": {},
   "source": [
    "<br><br>\n",
    "### Consigna 2\n",
    "<br>\n",
    "A continuacion se pide determinar el valor de los componentes que integran el siguiente dipolo, sabiendo que satisface la impedancia propuesta:\n",
    "<br>\n",
    "<img src=\"https://i.gyazo.com/ce6e014dafb136a8e3135b0aa74908df.png\"/>"
   ]
  },
  {
   "cell_type": "markdown",
   "id": "b05ae5cf",
   "metadata": {},
   "source": [
    "Para ello, removemos por el metodo Cauer 1, los 2 primeros componentes en derivacion:\n",
    "<img src=\"https://i.gyazo.com/4d4b9fbbb2b0d58caa32d9394f194e12.png\"/>\n",
    "<br>\n",
    "Quedandonos con la imitancia:\n",
    "<img src=\"https://i.gyazo.com/a8c2037575162bc3edfcdde933408c3f.png\"/>"
   ]
  },
  {
   "cell_type": "markdown",
   "id": "424b0429",
   "metadata": {},
   "source": [
    "Luego invertimos y removemos en serie los siguentes 2 elementos:\n",
    "<img src=\"https://i.gyazo.com/02ff16d8b3109e1adc47085d96183bcf.png\"/>\n",
    "<br>\n",
    "Nos queda entonces:\n",
    "<img src=\"https://i.gyazo.com/2941ec158771f957d2ce5756abb7bd83.png\"/>"
   ]
  },
  {
   "cell_type": "markdown",
   "id": "ffa0b240",
   "metadata": {},
   "source": [
    "Solo queda remover por Cauer 1 el ultimo capacitor, para quedarnos con la admitancia restante que debe ser una resistencia para cumplir con la consigna:\n",
    "<img src=\"https://i.gyazo.com/d2e433adf0b71cf68d59451bf60139fb.png\"/>\n",
    "<br>\n",
    "Finalmente, dibujamos el circuto y vemos que logramos encontrar los valores de todos los componentes que conforman la ecuacion de excitacion deseada, por lo que consideramos a la consigma cumplida.\n",
    "<img src=\"https://i.gyazo.com/0e936c16fa5f5a69d49a687c1ed1e9fa.png\"/>"
   ]
  }
 ],
 "metadata": {
  "kernelspec": {
   "display_name": "Python 3 (ipykernel)",
   "language": "python",
   "name": "python3"
  },
  "language_info": {
   "codemirror_mode": {
    "name": "ipython",
    "version": 3
   },
   "file_extension": ".py",
   "mimetype": "text/x-python",
   "name": "python",
   "nbconvert_exporter": "python",
   "pygments_lexer": "ipython3",
   "version": "3.9.7"
  }
 },
 "nbformat": 4,
 "nbformat_minor": 5
}
