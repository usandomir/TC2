{
 "cells": [
  {
   "cell_type": "markdown",
   "id": "1408d20a",
   "metadata": {},
   "source": [
    "# Trabajo Práctico Semanal 10\n",
    "Teoria de circuitos II\n",
    "\n",
    "### Sandomir L Uriel"
   ]
  },
  {
   "cell_type": "markdown",
   "id": "50b07ea7",
   "metadata": {},
   "source": [
    "<br>\n",
    "<img src=\"https://i.gyazo.com/1a5a076a760d7aaccfd6f4fa75181480.png\"/>\n",
    "<br><br>"
   ]
  },
  {
   "cell_type": "markdown",
   "id": "61318ff4",
   "metadata": {},
   "source": [
    "\n",
    "### Foster:"
   ]
  },
  {
   "cell_type": "markdown",
   "id": "a0a21c05",
   "metadata": {},
   "source": [
    "<br>\n",
    "<img src=\"https://i.gyazo.com/e9b7ce9e0e4370464807303f679d58dc.png\"/>\n",
    "<br><br>"
   ]
  },
  {
   "cell_type": "markdown",
   "id": "8763487c",
   "metadata": {},
   "source": [
    "<img src=\"https://i.gyazo.com/9d17f908407647755c07427287229763.png\"/>"
   ]
  },
  {
   "cell_type": "markdown",
   "id": "550d2e94",
   "metadata": {},
   "source": [
    "### Foster serie"
   ]
  },
  {
   "cell_type": "markdown",
   "id": "c16849a2",
   "metadata": {},
   "source": [
    "<br>\n",
    "<img src=\"https://i.gyazo.com/c3ae4070824ad0181c209019bb8e276d.png\"/>\n",
    "<br><br>"
   ]
  },
  {
   "cell_type": "markdown",
   "id": "90b123d4",
   "metadata": {},
   "source": [
    "### Foster derivacion"
   ]
  },
  {
   "cell_type": "markdown",
   "id": "8bcc2377",
   "metadata": {},
   "source": [
    "<br>\n",
    "<img src=\"https://i.gyazo.com/7c77507483bf4d9d6dbc685a3f6219f4.png\"/>\n",
    "<br><br>"
   ]
  },
  {
   "cell_type": "markdown",
   "id": "2215f6c2",
   "metadata": {},
   "source": [
    "### Cauer 1"
   ]
  },
  {
   "cell_type": "markdown",
   "id": "0714ba74",
   "metadata": {},
   "source": [
    "<img src=\"https://i.gyazo.com/400d784ad7ac1d500dea0cf6b165aabf.png\"/>"
   ]
  },
  {
   "cell_type": "markdown",
   "id": "f3e9a45e",
   "metadata": {},
   "source": [
    "<br>\n",
    "<img src=\"https://i.gyazo.com/5532fdab699db5c020aa10f316466c9e.png\"/>\n",
    "<br><br>"
   ]
  },
  {
   "cell_type": "markdown",
   "id": "7df3bf14",
   "metadata": {},
   "source": [
    "### Cauer 2\n"
   ]
  },
  {
   "cell_type": "markdown",
   "id": "dea84dce",
   "metadata": {},
   "source": [
    "<img src=\"https://i.gyazo.com/ba5c9feb3f3b6f7b9c338365e0eed0b6.png\"/>"
   ]
  },
  {
   "cell_type": "markdown",
   "id": "1ef3b6ff",
   "metadata": {},
   "source": [
    "<br>\n",
    "<img src=\"https://i.gyazo.com/e7565b1338205e2fc697f42e270ef0f8.png\"/>\n",
    "<br><br>"
   ]
  },
  {
   "cell_type": "markdown",
   "id": "957efb8c",
   "metadata": {},
   "source": [
    "<img src=\"https://i.gyazo.com/8f508e3631b572dab076e62456c4cb6e.png\"/>"
   ]
  },
  {
   "cell_type": "markdown",
   "id": "6d56682f",
   "metadata": {},
   "source": [
    "### Analisis grafico"
   ]
  },
  {
   "cell_type": "markdown",
   "id": "10b82b36",
   "metadata": {},
   "source": [
    "<img src=\"https://i.gyazo.com/c1246ab750b2db6b56c4abdffb117ef5.png\"/>\n"
   ]
  },
  {
   "cell_type": "markdown",
   "id": "eff7173b",
   "metadata": {},
   "source": [
    "### Remocion parcial de $K_o$"
   ]
  },
  {
   "cell_type": "markdown",
   "id": "babe597d",
   "metadata": {},
   "source": [
    "<img src=\"https://i.gyazo.com/f5a262a3693c06df75762ad597a8d476.png\"/>\n",
    "<img src=\"https://i.gyazo.com/c023328432e121ae55542d87e0a3362d.png\"/>"
   ]
  },
  {
   "cell_type": "markdown",
   "id": "d53c4990",
   "metadata": {},
   "source": [
    "### Remocion del tanque LC en j1:"
   ]
  },
  {
   "cell_type": "markdown",
   "id": "c35e6ad2",
   "metadata": {},
   "source": [
    "\n",
    "<img src=\"https://i.gyazo.com/a66bcff1919de74a95bf98b2a2dd8cc1.png\"/>\n"
   ]
  },
  {
   "cell_type": "markdown",
   "id": "6f18863c",
   "metadata": {},
   "source": [
    "### Remocion del tanque LC serie en j$\\sqrt{3}$"
   ]
  },
  {
   "cell_type": "markdown",
   "id": "df9be755",
   "metadata": {},
   "source": [
    "<img src=\"https://i.gyazo.com/984dd52a64afb204b16ed19de25d324d.png\"/>"
   ]
  },
  {
   "cell_type": "markdown",
   "id": "2dad8ca6",
   "metadata": {},
   "source": [
    "Tenemos entonces, componentes con los siguientes valores:\n",
    "<br>\n",
    "$C_1 = 1$\n",
    "<br>\n",
    "$C_2 = 2$, $L_2 = 1/2$\n",
    "<br>\n",
    "$C_3 = 1/3$, $L_3 = 1$"
   ]
  }
 ],
 "metadata": {
  "kernelspec": {
   "display_name": "Python 3 (ipykernel)",
   "language": "python",
   "name": "python3"
  },
  "language_info": {
   "codemirror_mode": {
    "name": "ipython",
    "version": 3
   },
   "file_extension": ".py",
   "mimetype": "text/x-python",
   "name": "python",
   "nbconvert_exporter": "python",
   "pygments_lexer": "ipython3",
   "version": "3.9.7"
  }
 },
 "nbformat": 4,
 "nbformat_minor": 5
}
