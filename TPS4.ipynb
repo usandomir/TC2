{
 "cells": [
  {
   "cell_type": "markdown",
   "id": "e75be416",
   "metadata": {},
   "source": [
    "# Trabajo Práctico Semanal 4\n",
    "Teoria de circuitos II\n",
    "\n",
    "### Sandomir L Uriel\n",
    "\n",
    "#### Se requiere diseñar un filtro activo siguendo las condiciones impuestas en la siguiente plantilla de diseño:\n",
    "\n",
    "<img src=\"https://i.gyazo.com/76c5cc92af657d7f7f92a63b0ebe15e8.png\"/>\n",
    "\n",
    "* Cheby con Ripple = 0.5dB\n",
    "* $\\omega_o = 2\\pi22$ kHz\n",
    "* $Q = 5$\n",
    "* $f_{S1} = 17$kHz con -16dB\n",
    "* $f_{S2} = 36$kHz con -24dB"
   ]
  },
  {
   "cell_type": "markdown",
   "id": "957b7d4f",
   "metadata": {},
   "source": [
    "#### Plantilla normalizada:\n",
    "\n",
    "$ \\Omega_{\\omega} = \\omega_0 $\n",
    "\n",
    "<img src=\"https://i.gyazo.com/ac484c15d83809083704b54bcefbfb60.png\"/>"
   ]
  },
  {
   "cell_type": "code",
   "execution_count": 1,
   "id": "d59469d0",
   "metadata": {},
   "outputs": [],
   "source": [
    "import numpy as np\n",
    "import scipy.signal as sig\n",
    "import splane as tc2\n",
    "import matplotlib.pyplot as plt\n",
    "w0 = 1\n",
    "ws1 = 17/22\n",
    "ws2 = 36/22\n",
    "qq = 5\n",
    "alpha_max = 0.5\n",
    "alpha_min1 = 16\n",
    "alpha_min2 = 24"
   ]
  },
  {
   "cell_type": "markdown",
   "id": "7a854f48",
   "metadata": {},
   "source": [
    "Diseñaremos un prototipo de Filtro Pasa-Bajos Chebyshev y aplicaremos el nucleo de transformacion para obtener un Pasa-Banda.\n",
    "<br><br>\n",
    "Podemos calcular los extremos del ancho de banda de paso, conociendo Q y $\\omega_0$:"
   ]
  },
  {
   "cell_type": "markdown",
   "id": "f33775aa",
   "metadata": {},
   "source": [
    "<img src=\"https://i.gyazo.com/a36a7ed7483cf04bea0876b4d556df9e.png\"/>"
   ]
  },
  {
   "cell_type": "markdown",
   "id": "bfeb9b63",
   "metadata": {},
   "source": [
    "### Diseño del prototipo Pasa-Bajos Chevyshev:\n",
    "\n",
    "Para obtener la pulsacion de corte de nuestro modelo Pasa-Bajos, utilizamos las siguientes expresiones:"
   ]
  },
  {
   "cell_type": "markdown",
   "id": "f7d954b5",
   "metadata": {},
   "source": [
    "<img src=\"https://i.gyazo.com/a2dfb608048f03bdf9661be497c401e7.png\"/>"
   ]
  },
  {
   "cell_type": "code",
   "execution_count": 2,
   "id": "edb5ae75",
   "metadata": {
    "scrolled": true
   },
   "outputs": [
    {
     "name": "stdout",
     "output_type": "stream",
     "text": [
      "Verificacion numerica - Frecuencia de corte del modelo Pasa-Bajos\n"
     ]
    },
    {
     "data": {
      "text/plain": [
       "(-2.606951871657754, 5.126262626262627)"
      ]
     },
     "execution_count": 2,
     "metadata": {},
     "output_type": "execute_result"
    }
   ],
   "source": [
    "print(\"Verificacion numerica - Frecuencia de corte del modelo Pasa-Bajos\")\n",
    "Ome1 = qq * (ws1**2 - 1) / ws1\n",
    "Ome2 = qq * (ws2**2 - 1) / ws2\n",
    "Ome1,Ome2"
   ]
  },
  {
   "cell_type": "markdown",
   "id": "9bfc857c",
   "metadata": {},
   "source": [
    "Obtenemos 2 posibles pulsaciones de corte, utilizaremos ambos para determinar el orden de nuestro filtro segun lo indique la condicion con mayor exigencia.\n",
    "<br>\n",
    "#### Calculo de Epsilon:"
   ]
  },
  {
   "cell_type": "markdown",
   "id": "6dd0624c",
   "metadata": {},
   "source": [
    "<img src=\"https://i.gyazo.com/cbba879e5abc567f917230598ccd2c0b.png\"/>"
   ]
  },
  {
   "cell_type": "code",
   "execution_count": 3,
   "id": "f1ee75c1",
   "metadata": {},
   "outputs": [
    {
     "name": "stdout",
     "output_type": "stream",
     "text": [
      "Verificacion numerica - Epsilon cuadrado\n"
     ]
    },
    {
     "data": {
      "text/plain": [
       "0.12201845430196336"
      ]
     },
     "execution_count": 3,
     "metadata": {},
     "output_type": "execute_result"
    }
   ],
   "source": [
    "print(\"Verificacion numerica - Epsilon cuadrado\")\n",
    "ee = np.sqrt(10**(alpha_max/10) - 1)\n",
    "ee**2"
   ]
  },
  {
   "cell_type": "markdown",
   "id": "7bfa00a9",
   "metadata": {},
   "source": [
    "#### Calculo de Epsilon:"
   ]
  },
  {
   "cell_type": "markdown",
   "id": "9e7942cb",
   "metadata": {},
   "source": [
    "<img src=\"https://i.gyazo.com/d6b085c9ef37a1db6ddab56be4a7e405.png\"/>\n",
    "<img src=\"https://i.gyazo.com/06db7cdd4c5b4b1339f95cb23069d6e4.png\"/>"
   ]
  },
  {
   "cell_type": "markdown",
   "id": "b47106bc",
   "metadata": {},
   "source": [
    "Podemos observar que un filtro de orden 3 cumple ambas condiciones impuestas las frecuencias de corte del prototipo Pasa-Banda.\n",
    "<br><br>\n",
    "Conociendo $\\xi^2$ y el orden del polinomio de Chevyshev, podemos calcular los coeficientes del denominador de nuestra funcion Pasa-Bajos:"
   ]
  },
  {
   "cell_type": "markdown",
   "id": "daeb2e40",
   "metadata": {},
   "source": [
    "<img src=\"https://i.gyazo.com/828771a29107aeac4a12bd6cefbac4d1.png\"/>"
   ]
  },
  {
   "cell_type": "code",
   "execution_count": 4,
   "id": "ffeccfe7",
   "metadata": {
    "scrolled": false
   },
   "outputs": [
    {
     "name": "stdout",
     "output_type": "stream",
     "text": [
      "Verificacion numerica - Funcion Pasa-Bajos\n"
     ]
    },
    {
     "data": {
      "text/latex": [
       "$\\displaystyle \\frac{0.7157 }{s^3 + s^2 \\,\\, 1.253 + s \\,\\, 1.535 + 0.7157 }$"
      ],
      "text/plain": [
       "<IPython.core.display.Math object>"
      ]
     },
     "metadata": {},
     "output_type": "display_data"
    }
   ],
   "source": [
    "print(\"Verificacion numerica - Funcion Pasa-Bajos\")\n",
    "nn = 3 \n",
    "z,p,k = sig.cheb1ap (nn, alpha_max)\n",
    "num_lp, den_lp = sig.zpk2tf(z,p,k)\n",
    "tc2.pretty_print_lti(num_lp, den_lp)"
   ]
  },
  {
   "cell_type": "markdown",
   "id": "8a2c59bb",
   "metadata": {},
   "source": [
    "Resta ahora, aplicar el nucleo de transformacion a nuestra funcion Pasa-Bajos para obtener nuestro prototipo Pasa-Banda:\n",
    "<br><br>\n",
    "$s \\rightarrow \\frac{Q(s^2 + 1)}{s}$"
   ]
  },
  {
   "cell_type": "markdown",
   "id": "b85fdd1d",
   "metadata": {},
   "source": [
    "<img src=\"https://i.gyazo.com/e2d59b97778cd8b961acf4215ece27a0.png\"/>"
   ]
  },
  {
   "cell_type": "code",
   "execution_count": 6,
   "id": "90da7197",
   "metadata": {
    "scrolled": true
   },
   "outputs": [
    {
     "name": "stdout",
     "output_type": "stream",
     "text": [
      "Verificacion numerica - Funcion Pasa-Banda\n"
     ]
    },
    {
     "data": {
      "text/latex": [
       "$\\displaystyle \\frac{s^3 \\,\\, 0.7157 }{s^6 + s^5 \\,\\, 1.253 + s^4 \\,\\, 4.535 + s^3 \\,\\, 3.222 + s^2 \\,\\, 4.535 + s \\,\\, 1.253 +   1 }$"
      ],
      "text/plain": [
       "<IPython.core.display.Math object>"
      ]
     },
     "metadata": {},
     "output_type": "display_data"
    }
   ],
   "source": [
    "print(\"Verificacion numerica - Funcion Pasa-Banda\")\n",
    "num_bp, den_bp = sig.lp2bp(num_lp, den_lp)\n",
    "tc2.pretty_print_lti(num_bp, den_bp)"
   ]
  },
  {
   "cell_type": "code",
   "execution_count": 7,
   "id": "cf319c03",
   "metadata": {},
   "outputs": [
    {
     "data": {
      "image/png": "[encoded data removed]",
      "text/plain": [
       "<Figure size 432x288 with 2 Axes>"
      ]
     },
     "metadata": {
      "needs_background": "light"
     },
     "output_type": "display_data"
    },
    {
     "data": {
      "image/png": "[encoded data removed]",
      "text/plain": [
       "<Figure size 432x288 with 1 Axes>"
      ]
     },
     "metadata": {
      "needs_background": "light"
     },
     "output_type": "display_data"
    },
    {
     "data": {
      "image/png": "[encoded data removed]",
      "text/plain": [
       "<Figure size 432x288 with 1 Axes>"
      ]
     },
     "metadata": {
      "needs_background": "light"
     },
     "output_type": "display_data"
    }
   ],
   "source": [
    "filter_bp = sig.TransferFunction(num_bp, den_bp)\n",
    "tc2.analyze_sys(filter_bp)"
   ]
  },
  {
   "cell_type": "markdown",
   "id": "92a797ea",
   "metadata": {},
   "source": [
    "### Implementacion pasiva\n",
    "\n",
    "Para implementar nuestra funcion transferencia de filtro Pasa-Banda, podemos hacerlo con 3 secciones correspondiendo a cada uno de las 3 SOS obtenidos.\n",
    "<br><br>\n",
    "Utilizamos el siguiente modelo de filtro Pasa-Banda pasivo:"
   ]
  },
  {
   "cell_type": "markdown",
   "id": "b1dcccba",
   "metadata": {},
   "source": [
    "<img src=\"https://i.gyazo.com/3a551056f44c08718ef61aaa0fe1f05d.png\"/>"
   ]
  },
  {
   "cell_type": "markdown",
   "id": "b31522c0",
   "metadata": {},
   "source": [
    "La funcion de transferencia de este filtro resulta:\n",
    "$\\frac{V_o}{V_i} = \\frac{\\frac{1}{RC}}{s^2 + s \\frac{1}{RC} + \\frac{1}{LC}} $\n",
    "<br>\n",
    "Si adoptamos $C_{1-2-3} = 1$:\n",
    "<br><br>\n",
    "$SOS_1$:\n",
    "<br><br>\n",
    "$\\omega_{01}^2 = 1 = \\frac{1}{C_1L_1} \\rightarrow L_1 = 1$\n",
    "<br><br>\n",
    "$\\frac{\\omega_{01}}{Q_1} = \\frac{1}{R_1C_1} \\rightarrow R_1 = Q_1 = 7.98 $\n",
    "<br><br>\n",
    "$SOS_2$:\n",
    "<br><br>\n",
    "$\\omega_{02}^2 = 1.227 = \\frac{1}{C_2L_2} \\rightarrow L_2 = 0.815$\n",
    "<br><br>\n",
    "$\\frac{\\omega_{02}}{Q_2} = \\frac{1}{R_2C_2} \\rightarrow R_2 = \\frac{Q_2}{\\omega_{02}} = 14.48 $\n",
    "<br><br>\n",
    "$SOS_3$:\n",
    "<br><br>\n",
    "$\\omega_{03}^2 = 0.8145 = \\frac{1}{C_3L_3} \\rightarrow L_3 = 0.069$\n",
    "<br><br>\n",
    "$\\frac{\\omega_{03}}{Q_3} = \\frac{1}{R_3C_3} \\rightarrow R_3 = \\frac{Q_3}{\\omega_{03}} = 19.01 $\n",
    "<br><br>"
   ]
  },
  {
   "cell_type": "markdown",
   "id": "3a126fdb",
   "metadata": {},
   "source": [
    "<img src=\"https://i.gyazo.com/081a1d5a25f51e31cd6d515a8e0b6575.png\"/>\n",
    "<img src=\"https://i.gyazo.com/0b407f660e27024cd452e9f2994e7e4d.png\"/>"
   ]
  },
  {
   "cell_type": "markdown",
   "id": "07bcf1c4",
   "metadata": {},
   "source": [
    "### Implementacion activa\n",
    "\n",
    "Podemos activar las bobinas de nuestro circuito mediante GICs de Antoniou de la siguiente manera:\n",
    "\n"
   ]
  },
  {
   "cell_type": "markdown",
   "id": "f7aa86b4",
   "metadata": {},
   "source": [
    "<img src=\"https://i.gyazo.com/f055c48cdcaff704264cb538b68d00c5.png\"/>\n",
    "<br><br>\n",
    "Las resitencias Ra y Rb aportan la ganancia $H = 12.58$ segun:\n",
    "<br>\n",
    "$R_a = \\frac{R_1}{H}$ y $R_b = \\frac{R_1}{1-H}$\n",
    "<br><br>\n",
    "Si bien cada etapa tiene una ganacia especifica, conviene implementar el total de ganancia de todos los filtros previa a la entrada de estos, con el fin de no amplificar el ruido que aportan los componentes que los conforman.\n",
    "<br><br>\n",
    "Los GICs de Antoniou entregan una señal de salida del doble de amplitud que la señal de entrada, por lo que para eliminar este efecto, colocamos un divisor capacitivo con una atenuacion de $a = 6$ veces en la salida de la tercera etapa:\n",
    "<br><br>\n",
    "<img src=\"https://i.gyazo.com/11d73befdccfbfae7295d407716c99de.png\"/>\n",
    "<br><br>\n",
    "Podemos observar sobre las frecuencias de corte: $\\omega_{s1} . \\frac{1}{2\\pi f_s} = \\frac{17}{22} . \\frac{1}{2000\\pi} = 123$mHz  y  $\\omega_{s2} . \\frac{1}{2\\pi f_s} = \\frac{36}{22} . \\frac{1}{2000\\pi} = 260$mHz donde obtenemos 26.39dB y 44.89dB respectivamente, por lo que consideramos la condicion de atenuacion minima como cumplida.\n",
    "<br><br>\n",
    "<img src=\"https://i.gyazo.com/83eff263513fda9865228a3c9daaa916.png\"/>"
   ]
  },
  {
   "cell_type": "markdown",
   "id": "19c13190",
   "metadata": {},
   "source": [
    "Para verificar el ripple, basta con medir la atenuacion sobre la banda de paso, donde observamos un ripple menor que 130mdB, por lo que la condicion de atenuacion maxima tambien esta cumplida."
   ]
  }
 ],
 "metadata": {
  "kernelspec": {
   "display_name": "Python 3 (ipykernel)",
   "language": "python",
   "name": "python3"
  },
  "language_info": {
   "codemirror_mode": {
    "name": "ipython",
    "version": 3
   },
   "file_extension": ".py",
   "mimetype": "text/x-python",
   "name": "python",
   "nbconvert_exporter": "python",
   "pygments_lexer": "ipython3",
   "version": "3.9.7"
  }
 },
 "nbformat": 4,
 "nbformat_minor": 5
}
