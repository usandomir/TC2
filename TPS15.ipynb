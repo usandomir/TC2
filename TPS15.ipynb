{
 "cells": [
  {
   "cell_type": "markdown",
   "id": "d17cf92f",
   "metadata": {},
   "source": [
    "# Trabajo Práctico Semanal Nº15\n",
    "Teoria de circuitos 2\n",
    "\n",
    "### Sandomir Laham Uriel"
   ]
  },
  {
   "cell_type": "markdown",
   "id": "f6f0dcd4",
   "metadata": {},
   "source": [
    "Diseñe el cuadripolo A para que se comporte como:\n",
    "* Filtro pasa bajos Chebyshev de 4to. orden, 1dB de ripple. \n",
    "* No disipativo.\n",
    "* Normalizado en frecuencia e impedancia.\n",
    "<img src=\"https://i.gyazo.com/4796a1755b93524a443f8dff05a10667.png\"/>"
   ]
  },
  {
   "cell_type": "markdown",
   "id": "debe2fe1",
   "metadata": {},
   "source": [
    "### Diseño del cuadripolo\n",
    "\n",
    "Para el diseño del cuadripolo, sabemos que el parametro $S_{21}$ corresponde a la transferencia directa, la cual debera coincidir con la funcion transferencia de un filtro Chebyshev Pasa-Bajos de orden 4 con 1dB de ripple:"
   ]
  },
  {
   "cell_type": "code",
   "execution_count": 8,
   "id": "e3279f6c",
   "metadata": {},
   "outputs": [
    {
     "data": {
      "image/png": "[encoded data removed]",
      "text/latex": [
       "$\\displaystyle 16.5712263548267 s^{8} - 33.1424527096534 s^{6} + 20.7140329435334 s^{4} - 4.14280658870668 s^{2} + 0.258925411794167$"
      ],
      "text/plain": [
       "                  8                     6                     4               \n",
       "16.5712263548267⋅s  - 33.1424527096534⋅s  + 20.7140329435334⋅s  - 4.1428065887\n",
       "\n",
       "      2                    \n",
       "0668⋅s  + 0.258925411794167"
      ]
     },
     "execution_count": 8,
     "metadata": {},
     "output_type": "execute_result"
    }
   ],
   "source": [
    "import numpy as np\n",
    "import scipy.signal as sig\n",
    "import splane as tc2\n",
    "import matplotlib.pyplot as plt\n",
    "from sympy import * \n",
    "\n",
    "init_printing(use_unicode = True)\n",
    "s = symbols('s', relational= True)\n",
    "\n",
    "alpha_max = 1 #dB\n",
    "\n",
    "### Epsilon para 1dB:\n",
    "ee = 10**(alpha_max/10) - 1\n",
    "\n",
    "### Polinomio de Chebyshev:\n",
    "C0 = 1\n",
    "C1 = s\n",
    "C2 = 2*s*C1 - C0\n",
    "C3 = 2*s*C2 - C1\n",
    "C4 = 2*s*C3 - C2\n",
    "\n",
    "expand(ee*C4**2)"
   ]
  },
  {
   "cell_type": "markdown",
   "id": "74915dad",
   "metadata": {},
   "source": [
    "<BR><BR>Para la sintesis del cuadripolo, necesitamos obtener el parametro $S_{11}$ sabiendo $|S_{11}|^2 = 1 - |S_{21}|^2$"
   ]
  },
  {
   "cell_type": "code",
   "execution_count": 27,
   "id": "7f18a3dd",
   "metadata": {},
   "outputs": [
    {
     "data": {
      "image/png": "[encoded data removed]",
      "text/latex": [
       "$\\displaystyle \\frac{1}{16.5712263548267 s^{8} - 33.1424527096534 s^{6} + 20.7140329435334 s^{4} - 4.14280658870668 s^{2} + 1.25892541179417}$"
      ],
      "text/plain": [
       "                                                   1                          \n",
       "──────────────────────────────────────────────────────────────────────────────\n",
       "                  8                     6                     4               \n",
       "16.5712263548267⋅s  - 33.1424527096534⋅s  + 20.7140329435334⋅s  - 4.1428065887\n",
       "\n",
       "                          \n",
       "──────────────────────────\n",
       "      2                   \n",
       "0668⋅s  + 1.25892541179417"
      ]
     },
     "execution_count": 27,
     "metadata": {},
     "output_type": "execute_result"
    }
   ],
   "source": [
    "### Armo el polinomio:\n",
    "S21_2 = 1/(1 + 16.5712263548267*s**8 - 33.1424527096534*s**6 + 20.7140329435334*s**4 - 4.14280658870668*s**2 + 0.258925411794167)\n",
    "simplify(S21_2)"
   ]
  },
  {
   "cell_type": "code",
   "execution_count": 10,
   "id": "66992bb5",
   "metadata": {},
   "outputs": [
    {
     "data": {
      "image/png": "[encoded data removed]",
      "text/latex": [
       "$\\displaystyle 1 - \\frac{1}{16.5712263548267 s^{8} - 33.1424527096534 s^{6} + 20.7140329435334 s^{4} - 4.14280658870668 s^{2} + 1.25892541179417}$"
      ],
      "text/plain": [
       "                                                       1                      \n",
       "1 - ──────────────────────────────────────────────────────────────────────────\n",
       "                      8                     6                     4           \n",
       "    16.5712263548267⋅s  - 33.1424527096534⋅s  + 20.7140329435334⋅s  - 4.142806\n",
       "\n",
       "                              \n",
       "──────────────────────────────\n",
       "          2                   \n",
       "58870668⋅s  + 1.25892541179417"
      ]
     },
     "execution_count": 10,
     "metadata": {},
     "output_type": "execute_result"
    }
   ],
   "source": [
    "S11_2 = 1 - S21_2\n",
    "simplify(S11_2)"
   ]
  },
  {
   "cell_type": "markdown",
   "id": "46db142a",
   "metadata": {},
   "source": [
    "<br><br>\n",
    "Buscamos los ceros y polos en el semiplano izquierdo de S11:"
   ]
  },
  {
   "cell_type": "code",
   "execution_count": 28,
   "id": "8d2a9adc",
   "metadata": {},
   "outputs": [
    {
     "data": {
      "text/plain": [
       "(array([-2.98555891e-08+0.92387953j, -2.98555891e-08-0.92387953j,\n",
       "         2.98555890e-08+0.92387953j,  2.98555890e-08-0.92387953j,\n",
       "        -2.33827175e-08+0.38268343j, -2.33827175e-08-0.38268343j,\n",
       "         2.33827174e-08+0.38268343j,  2.33827174e-08-0.38268343j]),\n",
       " array([-0.139536  +0.98337916j, -0.139536  -0.98337916j,\n",
       "         0.139536  +0.98337916j,  0.139536  -0.98337916j,\n",
       "        -0.33686969+0.40732899j, -0.33686969-0.40732899j,\n",
       "         0.33686969+0.40732899j,  0.33686969-0.40732899j]))"
      ]
     },
     "execution_count": 28,
     "metadata": {},
     "output_type": "execute_result"
    }
   ],
   "source": [
    "### Calculamos los ceros y polos\n",
    "\n",
    "num = np.roots([16.5712263548267, 0 , 33.1424527096534, 0, 20.7140329435334, 0, 4.14280658870668, 0, 0.25892541179417])\n",
    "den = np.roots([16.5712263548267, 0 , 33.1424527096534, 0, 20.7140329435334, 0, 4.14280658870668, 0, 1.25892541179417])\n",
    "num, den"
   ]
  },
  {
   "cell_type": "code",
   "execution_count": 30,
   "id": "b0a766d9",
   "metadata": {},
   "outputs": [
    {
     "data": {
      "text/plain": [
       "(array([1.00000000e+00, 1.06476613e-07, 9.99999994e-01, 4.86612949e-08,\n",
       "        1.24999998e-01]),\n",
       " array([1.        , 0.95281138, 1.45392476, 0.74261936, 0.27562758]))"
      ]
     },
     "execution_count": 30,
     "metadata": {},
     "output_type": "execute_result"
    }
   ],
   "source": [
    "### Descartamos los que tienen parte real positiva:\n",
    "\n",
    "zeros = np.array([-2.98555891e-08+0.92387953j, -2.98555891e-08-0.92387953j, -2.33827175e-08+0.38268343j, -2.33827175e-08-0.38268343j])\n",
    "poles = np.array([-0.139536  +0.98337916j, -0.139536  -0.98337916j, -0.33686969+0.40732899j, -0.33686969-0.40732899j])\n",
    "\n",
    "num_cheb, den_cheb = sig.zpk2tf(zeros, poles, 1)\n",
    "num_cheb, den_cheb"
   ]
  },
  {
   "cell_type": "markdown",
   "id": "c05e2040",
   "metadata": {},
   "source": [
    "<br><br>\n",
    "Despreciando los terminos de mucho menor orden tenemos:"
   ]
  },
  {
   "cell_type": "code",
   "execution_count": 31,
   "id": "c23f8753",
   "metadata": {},
   "outputs": [
    {
     "data": {
      "image/png": "[encoded data removed]",
      "text/latex": [
       "$\\displaystyle \\frac{2.0 s^{4} + 0.95281138 s^{3} + 2.453924754 s^{2} + 0.74261936 s + 0.400627578}{0.95281138 s^{3} + 0.453924766 s^{2} + 0.74261936 s + 0.150627582}$"
      ],
      "text/plain": [
       "     4               3                2                             \n",
       "2.0⋅s  + 0.95281138⋅s  + 2.453924754⋅s  + 0.74261936⋅s + 0.400627578\n",
       "────────────────────────────────────────────────────────────────────\n",
       "                3                2                                  \n",
       "    0.95281138⋅s  + 0.453924766⋅s  + 0.74261936⋅s + 0.150627582     "
      ]
     },
     "execution_count": 31,
     "metadata": {},
     "output_type": "execute_result"
    }
   ],
   "source": [
    "S11 = (s**4+s**2*9.99999994e-01+1.24999998e-01)/(s**4+s**3*0.95281138+s**2*1.45392476+s*0.74261936+0.27562758)\n",
    "Z1 = (1 + S11)/(1 - S11)\n",
    "simplify(Z1)"
   ]
  },
  {
   "cell_type": "markdown",
   "id": "0ff82659",
   "metadata": {},
   "source": [
    "<br><br>\n",
    "Obtenemos los valores de los componentes mediante remociones por el metodo Cauer:\n",
    "<br>\n",
    "<img src=\"https://i.gyazo.com/bab86cc7981b38e34b6be8faee68954b.png\"/>\n",
    "\n",
    "<br><br>\n",
    "### Simulacion circuital"
   ]
  },
  {
   "cell_type": "markdown",
   "id": "791510a9",
   "metadata": {},
   "source": [
    "<img src=\"https://i.gyazo.com/8fb6bf2562685c574b08bad4c8b6b0ce.png\"/>"
   ]
  },
  {
   "cell_type": "markdown",
   "id": "65f1e9cd",
   "metadata": {},
   "source": [
    "Viendo el parametro S11 podemos observar que el cuadripolo no esta completamente adaptado sino que la relacion entre onda incidente y reflejada varia segun la frecuencia.\n",
    "<br>\n",
    "* Se observa en la banda de paso, que el parametro tiene 2 ceros donde la transferencia es maxima y la reflexion nula. En el resto de frecuencias del ancho de banda del filtro, S21 varia entre 0 y 0.45, es decir, existe cierta onda reflejada.\n",
    "<br>\n",
    "* En la zona de transicion, el parametro en estudio aumenta considerablemente hasta llegar al valor unitario durante toda la banda de rechazo donde el cuadripolo es encuentra completamente desadaptado.\n",
    "<br>\n",
    "* Ademas, se puede observar que en la frecuencia de corte del filtro, las graficas coinciden en modulo, lo cual tiene sentido ya que es el punto para el cual se transmite la mitad de la potencia a la carga, y se refleja la otra mitad. En dicha frecuencia de corte, todos los parametros S coinciden en modulo puesto a que los fenomenos que representan, apuntan a que se transmite y se refleja potencia en iguales partes en ambos sentidos."
   ]
  },
  {
   "cell_type": "markdown",
   "id": "2a905291",
   "metadata": {},
   "source": [
    "### Desnormalizacion\n",
    "\n",
    "Utilizamos $\\Omega_Z = 50\\Omega$ ,  $\\Omega_\\omega = 2\\pi $MHz:\n",
    "<br><br>\n",
    "$L_1 = 2.099\\frac{1}{\\Omega_\\omega}.\\Omega_Z = 0.0167mHy$\n",
    "<br><br>\n",
    "$L_2 = 2.8231\\frac{1}{\\Omega_\\omega}.\\Omega_Z = 0.02253mHy$\n",
    "<br><br>\n",
    "$C_1 = 1.064\\frac{1}{\\Omega_\\omega}\\frac{1}{\\Omega_Z} = 3.387nF$\n",
    "<br><br>\n",
    "$C_2 = 2.099\\frac{1}{\\Omega_\\omega}\\frac{1}{\\Omega_Z} = 2.512nF$\n",
    "<br><br>\n",
    "$R_1 = 2.66 . \\Omega_Z = 133\\Omega$"
   ]
  },
  {
   "cell_type": "markdown",
   "id": "13cdff1e",
   "metadata": {},
   "source": [
    "<img src=\"https://i.gyazo.com/c2be57316f11dfbe38cb7d7753dfd0bd.png\"/>"
   ]
  }
 ],
 "metadata": {
  "kernelspec": {
   "display_name": "Python 3 (ipykernel)",
   "language": "python",
   "name": "python3"
  },
  "language_info": {
   "codemirror_mode": {
    "name": "ipython",
    "version": 3
   },
   "file_extension": ".py",
   "mimetype": "text/x-python",
   "name": "python",
   "nbconvert_exporter": "python",
   "pygments_lexer": "ipython3",
   "version": "3.9.7"
  }
 },
 "nbformat": 4,
 "nbformat_minor": 5
}
