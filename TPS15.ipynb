{
 "cells": [
  {
   "cell_type": "markdown",
   "id": "d17cf92f",
   "metadata": {},
   "source": [
    "# Trabajo Práctico Semanal Nº15\n",
    "Teoria de circuitos 2\n",
    "\n",
    "### Sandomir Laham Uriel"
   ]
  },
  {
   "cell_type": "markdown",
   "id": "f6f0dcd4",
   "metadata": {},
   "source": [
    "Diseñe el cuadripolo A para que se comporte como:\n",
    "* Filtro pasa bajos Chebyshev de 4to. orden, 1dB de ripple. \n",
    "* No disipativo.\n",
    "* Normalizado en frecuencia e impedancia.\n",
    "<img src=\"https://i.gyazo.com/4796a1755b93524a443f8dff05a10667.png\"/>"
   ]
  },
  {
   "cell_type": "markdown",
   "id": "debe2fe1",
   "metadata": {},
   "source": [
    "### Diseño del cuadripolo\n",
    "\n",
    "Para el diseño del cuadripolo, sabemos que el parametro $S_{21}$ corresponde a la transferencia directa, la cual debera coincidir con la funcion transferencia de un filtro Chebyshev Pasa-Bajos de orden 4 con 1dB de ripple:"
   ]
  },
  {
   "cell_type": "code",
   "execution_count": 47,
   "id": "e3279f6c",
   "metadata": {},
   "outputs": [
    {
     "data": {
      "image/png": "[encoded data removed]",
      "text/latex": [
       "$\\displaystyle 16.5712263548267 s^{8} - 33.1424527096534 s^{6} + 20.7140329435334 s^{4} - 4.14280658870668 s^{2} + 0.258925411794167$"
      ],
      "text/plain": [
       "                  8                     6                     4               \n",
       "16.5712263548267⋅s  - 33.1424527096534⋅s  + 20.7140329435334⋅s  - 4.1428065887\n",
       "\n",
       "      2                    \n",
       "0668⋅s  + 0.258925411794167"
      ]
     },
     "execution_count": 47,
     "metadata": {},
     "output_type": "execute_result"
    }
   ],
   "source": [
    "import numpy as np\n",
    "import scipy.signal as sig\n",
    "import splane as tc2\n",
    "import matplotlib.pyplot as plt\n",
    "from sympy import * \n",
    "\n",
    "init_printing(use_unicode = True)\n",
    "s = symbols('s', relational= True)\n",
    "\n",
    "alpha_max = 1 #dB\n",
    "\n",
    "### Epsilon para 1dB:\n",
    "ee = 10**(alpha_max/10) - 1\n",
    "\n",
    "### Polinomio de Chebyshev:\n",
    "C0 = 1\n",
    "C1 = s\n",
    "C2 = 2*s*C1 - C0\n",
    "C3 = 2*s*C2 - C1\n",
    "C4 = 2*s*C3 - C2\n",
    "\n",
    "expand(ee*C4**2)"
   ]
  },
  {
   "cell_type": "code",
   "execution_count": 50,
   "id": "7f18a3dd",
   "metadata": {},
   "outputs": [
    {
     "data": {
      "image/png": "[encoded data removed]",
      "text/latex": [
       "$\\displaystyle \\frac{1}{16.5712263548267 s^{8} - 33.1424527096534 s^{6} + 20.7140329435334 s^{4} - 4.14280658870668 s^{2} + 1.25892541179417}$"
      ],
      "text/plain": [
       "                                                   1                          \n",
       "──────────────────────────────────────────────────────────────────────────────\n",
       "                  8                     6                     4               \n",
       "16.5712263548267⋅s  - 33.1424527096534⋅s  + 20.7140329435334⋅s  - 4.1428065887\n",
       "\n",
       "                          \n",
       "──────────────────────────\n",
       "      2                   \n",
       "0668⋅s  + 1.25892541179417"
      ]
     },
     "execution_count": 50,
     "metadata": {},
     "output_type": "execute_result"
    }
   ],
   "source": [
    "### Armo el polinomio:\n",
    "S21_2 = 1/(1 + 16.5712263548267*s**8 - 33.1424527096534*s**6 + 20.7140329435334*s**4 - 4.14280658870668*s**2 + 0.258925411794167)\n",
    "simplify(S21_2)"
   ]
  },
  {
   "cell_type": "markdown",
   "id": "74915dad",
   "metadata": {},
   "source": [
    "<BR><BR>Para la sintesis del cuadripolo, necesitamos obtener el parametro $S_{11}$ sabiendo $|S_{11}|^2 = 1 - |S_{21}|^2$"
   ]
  },
  {
   "cell_type": "code",
   "execution_count": 68,
   "id": "66992bb5",
   "metadata": {},
   "outputs": [
    {
     "data": {
      "image/png": "[encoded data removed]",
      "text/latex": [
       "$\\displaystyle 1 - \\frac{1}{16.5712263548267 s^{8} - 33.1424527096534 s^{6} + 20.7140329435334 s^{4} - 4.14280658870668 s^{2} + 1.25892541179417}$"
      ],
      "text/plain": [
       "                                                       1                      \n",
       "1 - ──────────────────────────────────────────────────────────────────────────\n",
       "                      8                     6                     4           \n",
       "    16.5712263548267⋅s  - 33.1424527096534⋅s  + 20.7140329435334⋅s  - 4.142806\n",
       "\n",
       "                              \n",
       "──────────────────────────────\n",
       "          2                   \n",
       "58870668⋅s  + 1.25892541179417"
      ]
     },
     "execution_count": 68,
     "metadata": {},
     "output_type": "execute_result"
    }
   ],
   "source": [
    "S11_2 = 1 - S21_2\n",
    "simplify(S11_2)"
   ]
  },
  {
   "cell_type": "markdown",
   "id": "46db142a",
   "metadata": {},
   "source": [
    "<br><br>\n",
    "Buscamos los ceros y polos en el semiplano izquierdo de S11:"
   ]
  },
  {
   "cell_type": "code",
   "execution_count": 77,
   "id": "8d2a9adc",
   "metadata": {},
   "outputs": [
    {
     "data": {
      "text/plain": [
       "(array([-0.92387953+2.84599113e-08j, -0.92387953-2.84599113e-08j,\n",
       "         0.92387953+2.84919206e-08j,  0.92387953-2.84919206e-08j,\n",
       "        -0.38268343+2.29677375e-08j, -0.38268343-2.29677375e-08j,\n",
       "         0.38268343+2.29942860e-08j,  0.38268343-2.29942860e-08j]),\n",
       " array([-0.98337916+0.139536j  , -0.98337916-0.139536j  ,\n",
       "         0.98337916+0.139536j  ,  0.98337916-0.139536j  ,\n",
       "        -0.40732899+0.33686969j, -0.40732899-0.33686969j,\n",
       "         0.40732899+0.33686969j,  0.40732899-0.33686969j]))"
      ]
     },
     "execution_count": 77,
     "metadata": {},
     "output_type": "execute_result"
    }
   ],
   "source": [
    "### Calculamos los ceros y polos\n",
    "\n",
    "num = np.roots([16.5712263548267, 0 , -33.1424527096534, 0, 20.7140329435334, 0, -4.14280658870668, 0, 0.25892541179417])\n",
    "den = np.roots([16.5712263548267, 0 , -33.1424527096534, 0, 20.7140329435334, 0, -4.14280658870668, 0, 1.25892541179417])\n",
    "num, den"
   ]
  },
  {
   "cell_type": "code",
   "execution_count": 91,
   "id": "b0a766d9",
   "metadata": {},
   "outputs": [
    {
     "data": {
      "text/latex": [
       "$\\displaystyle \\frac{s^4 + s^3 \\,\\, 2.613 + s^2 \\,\\, 2.414 + s \\,\\, 0.9239 + 0.125 }{s^4 + s^3 \\,\\, 2.781 + s^2 \\,\\, 2.868 + s \\,\\, 1.353 + 0.2756 }$"
      ],
      "text/plain": [
       "<IPython.core.display.Math object>"
      ]
     },
     "metadata": {},
     "output_type": "display_data"
    }
   ],
   "source": [
    "### Descartamos los que tienen parte real positiva:\n",
    "\n",
    "zeros = np.array([-0.92387953+2.84599113e-08j, -0.92387953-2.84599113e-08j, -0.38268343+2.29677375e-08j, -0.38268343-2.29677375e-08j])\n",
    "poles = np.array([-0.98337916+0.139536j, -0.98337916-0.139536j, -0.40732899+0.33686969j, -0.40732899-0.33686969j])\n",
    "\n",
    "num_cheb, den_cheb = sig.zpk2tf(zeros, poles, 1)\n",
    "tc2.pretty_print_lti(num_cheb, den_cheb)"
   ]
  },
  {
   "cell_type": "code",
   "execution_count": 96,
   "id": "c23f8753",
   "metadata": {},
   "outputs": [
    {
     "name": "stderr",
     "output_type": "stream",
     "text": [
      "B:\\Users\\Uriel\\anaconda3\\lib\\site-packages\\IPython\\lib\\latextools.py:126: MatplotlibDeprecationWarning: \n",
      "The to_png function was deprecated in Matplotlib 3.4 and will be removed two minor releases later. Use mathtext.math_to_image instead.\n",
      "  mt.to_png(f, s, fontsize=12, dpi=dpi, color=color)\n",
      "B:\\Users\\Uriel\\anaconda3\\lib\\site-packages\\IPython\\lib\\latextools.py:126: MatplotlibDeprecationWarning: \n",
      "The to_rgba function was deprecated in Matplotlib 3.4 and will be removed two minor releases later. Use mathtext.math_to_image instead.\n",
      "  mt.to_png(f, s, fontsize=12, dpi=dpi, color=color)\n",
      "B:\\Users\\Uriel\\anaconda3\\lib\\site-packages\\IPython\\lib\\latextools.py:126: MatplotlibDeprecationWarning: \n",
      "The to_mask function was deprecated in Matplotlib 3.4 and will be removed two minor releases later. Use mathtext.math_to_image instead.\n",
      "  mt.to_png(f, s, fontsize=12, dpi=dpi, color=color)\n",
      "B:\\Users\\Uriel\\anaconda3\\lib\\site-packages\\IPython\\lib\\latextools.py:126: MatplotlibDeprecationWarning: \n",
      "The MathtextBackendBitmap class was deprecated in Matplotlib 3.4 and will be removed two minor releases later. Use mathtext.math_to_image instead.\n",
      "  mt.to_png(f, s, fontsize=12, dpi=dpi, color=color)\n"
     ]
    },
    {
     "data": {
      "image/png": "[encoded data removed]",
      "text/latex": [
       "$\\displaystyle \\frac{\\frac{s^{4} + 2.613 s^{3} + 2.414 s^{2} + 0.9239 s + 0.125}{s^{4} + 2.781 s^{3} + 2.868 s^{2} + 1.353 s + 0.2756} - 1}{\\frac{s^{4} + 2.613 s^{3} + 2.414 s^{2} + 0.9239 s + 0.125}{s^{4} + 2.781 s^{3} + 2.868 s^{2} + 1.353 s + 0.2756} + 1}$"
      ],
      "text/plain": [
       " 4          3          2                       \n",
       "s  + 2.613⋅s  + 2.414⋅s  + 0.9239⋅s + 0.125    \n",
       "─────────────────────────────────────────── - 1\n",
       " 4          3          2                       \n",
       "s  + 2.781⋅s  + 2.868⋅s  + 1.353⋅s + 0.2756    \n",
       "───────────────────────────────────────────────\n",
       " 4          3          2                       \n",
       "s  + 2.613⋅s  + 2.414⋅s  + 0.9239⋅s + 0.125    \n",
       "─────────────────────────────────────────── + 1\n",
       " 4          3          2                       \n",
       "s  + 2.781⋅s  + 2.868⋅s  + 1.353⋅s + 0.2756    "
      ]
     },
     "execution_count": 96,
     "metadata": {},
     "output_type": "execute_result"
    }
   ],
   "source": [
    "S11 = (s**4+s**3*2.613+s**2*2.414+s*0.9239+0.125)/(s**4+s**3*2.781+s**2*2.868+s*1.353+0.2756)\n",
    "Z1 = (S11 - 1)/(S11 + 1)\n",
    "Z1"
   ]
  },
  {
   "cell_type": "code",
   "execution_count": null,
   "id": "fdbfafa1",
   "metadata": {},
   "outputs": [],
   "source": []
  }
 ],
 "metadata": {
  "kernelspec": {
   "display_name": "Python 3 (ipykernel)",
   "language": "python",
   "name": "python3"
  },
  "language_info": {
   "codemirror_mode": {
    "name": "ipython",
    "version": 3
   },
   "file_extension": ".py",
   "mimetype": "text/x-python",
   "name": "python",
   "nbconvert_exporter": "python",
   "pygments_lexer": "ipython3",
   "version": "3.9.7"
  }
 },
 "nbformat": 4,
 "nbformat_minor": 5
}
