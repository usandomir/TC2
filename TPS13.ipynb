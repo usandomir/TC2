{
 "cells": [
  {
   "cell_type": "markdown",
   "id": "6b6f4535",
   "metadata": {},
   "source": [
    "# Trabajo Práctico Semanal 13\n",
    "Teoria de circuitos II\n",
    "\n",
    "### Sandomir L Uriel"
   ]
  },
  {
   "cell_type": "markdown",
   "id": "bb4f3615",
   "metadata": {},
   "source": [
    "#### Consigna 1\n",
    "<br>\n",
    "Se pide sintetizar la siguiente transferencia cargada con componentes RC:  \n",
    "<img src=\"https://i.gyazo.com/2a3d22fdd20cbfe8f26dc61947d22655.png\"/>"
   ]
  },
  {
   "cell_type": "markdown",
   "id": "d529a26f",
   "metadata": {},
   "source": [
    "Conciendo los parametros Z y sus condiciones de medicion, podemos determinar $Z_{22}$ para poderla sintetizar:\n",
    "<br>\n",
    "<img src=\"https://i.gyazo.com/2896a4d438a9d385c29e6a024dffbff0.png\"/>"
   ]
  },
  {
   "cell_type": "markdown",
   "id": "a5f4fab4",
   "metadata": {},
   "source": [
    "#### Sintesis grafica\n",
    "<br>\n",
    "<img src=\"https://i.gyazo.com/3cfd7b4da4f4f8de9288275700f8e356.png\"/>"
   ]
  },
  {
   "cell_type": "markdown",
   "id": "93f7b81e",
   "metadata": {},
   "source": [
    "#### Sintesis analitica\n",
    "<br>\n",
    "Notamos que al estar sintetizando $Z_{22}$, realizaremos las remociones de \"derecha a izquierda\" ya que estamos mirando a la impedancia de salida del cuadripolo.\n",
    "<br>\n",
    "Comenzamos realizando una remocion parcial en el origen para retirar la resistencia de carga normalizada en valor unitario.\n",
    "<img src=\"https://i.gyazo.com/b1ac5e8107f4ef2f97f74b6be1d59c62.png\"/>"
   ]
  },
  {
   "cell_type": "markdown",
   "id": "7257985f",
   "metadata": {},
   "source": [
    "Luego retiramos el primer tanque RC paralelo para remover el polo en $\\sigma = -1$\n",
    "<br>\n",
    "<img src=\"https://i.gyazo.com/a8f4e98909aef82ff5d357102029a981.png\"/>"
   ]
  },
  {
   "cell_type": "markdown",
   "id": "720e9fd1",
   "metadata": {},
   "source": [
    "Realizamos una remocion similar pero en $\\sigma = -4$ para el segundo tanque RC paralelo.\n",
    "<img src=\"https://i.gyazo.com/c180546470e42db27d0b7842a5cf44b0.png\"/>"
   ]
  },
  {
   "cell_type": "markdown",
   "id": "506c926d",
   "metadata": {},
   "source": [
    "Finalmente nos queda una admitancia de valor $Y_4 = \\frac{1}{Z_4} = \\frac{1}{5}$\n",
    "<br>\n",
    "Solo nos resta obtener el valor del parametro H. Para ello, comparamos el circuito equivalente con nuestra funcion trasnferencia evaluada en $S = 0$\n",
    "<img src=\"https://i.gyazo.com/dda497517d7e0ef4704e1f543b841cee.png\"/>"
   ]
  },
  {
   "cell_type": "markdown",
   "id": "e0987069",
   "metadata": {},
   "source": [
    "\n",
    "#### Simulacion circuital:\n",
    "<br>\n",
    "Nos queda entonces, un circuito como el siguiente:\n",
    "<br>\n",
    "<img src=\"https://i.gyazo.com/56c120c93fd909bb2bb47d15ddafc3ad.png\"/>"
   ]
  },
  {
   "cell_type": "markdown",
   "id": "c1a8ae7d",
   "metadata": {},
   "source": [
    "### Consigna 2\n",
    "<br>\n",
    "Se pide sintetizar un cuadripolo pasivo sin pérdidas, que cumpla con la transimpedancia indicada, cargado a la salida con una impedancia como se muestra en la figura.\n",
    "<img src=\"https://i.gyazo.com/0af7298c19ec86883bc90f4a40d52d13.png\"/>"
   ]
  },
  {
   "cell_type": "markdown",
   "id": "d76f9337",
   "metadata": {},
   "source": [
    "Con la transferencia pedida, conociendo los parametros Z y la condicion de carga, podemos obtener una expresion como la siguente:\n",
    "<br>\n",
    "<img src=\"https://i.gyazo.com/9b4829faf6f4a0e3b3744f8f8e67cda8.png\"/>"
   ]
  },
  {
   "cell_type": "markdown",
   "id": "79ec3946",
   "metadata": {},
   "source": [
    "Elegimos una norma de impedancia de valor $\\Omega_Z = R_L$, por ende, nos queda una transimpedancia:\n",
    "<img src=\"https://i.gyazo.com/f77dfd950c544a03a0306078a7c902d9.png\"/>"
   ]
  },
  {
   "cell_type": "markdown",
   "id": "c907faf4",
   "metadata": {},
   "source": [
    "Como sabemos que nuestro numerador es $Z_{12}$ y este corresponde a un polinomio IMPAR, podemos determinar con suficiente criterio que nuestro denominador debe ser de la forma $N(1+\\frac{M}{N})$ para que el termino $N$ se anule con el numerador impar.\n",
    "<br><br>\n",
    "Habiendo expresado nuestro parametro $Z_{22}$ de manera polinomica como cociente de polinomio par sobre impar, podemos proceder a la sintesis del mismo.\n",
    "<br>"
   ]
  },
  {
   "cell_type": "markdown",
   "id": "3f85b289",
   "metadata": {},
   "source": [
    "#### Sintesis grafica:\n",
    "<br><br>\n",
    "Al igual que en la consigna anterior, al estar trabajando con $Z_{22}$, debemos realizar las remociones de \"derecha a izquierda\".\n",
    "<img src=\"https://i.gyazo.com/3fc23dc1592cc1ab95dfbe702a48db8a.png\"/>"
   ]
  },
  {
   "cell_type": "markdown",
   "id": "176b4e16",
   "metadata": {},
   "source": [
    "#### Sintesis analitica\n",
    "Lo primero entonces será, una remocion parcial en $\\sigma\\rightarrow-\\infty$ de impedancia capacitiva:\n",
    "<img src=\"https://i.gyazo.com/3abe84e1fc81c03b549190f9dde86211.png\"/>"
   ]
  },
  {
   "cell_type": "markdown",
   "id": "b7bd4f45",
   "metadata": {},
   "source": [
    "Luego removemos un tanque LC paralelo y lo restante sera nuestro capacitor en derivacion tal como lo esperamos segun la sintesis grafica:\n",
    "<img src=\"https://i.gyazo.com/71da6660a4dddd5a90fefc9590ff6c50.png\"/>\n",
    "<br>\n"
   ]
  },
  {
   "cell_type": "markdown",
   "id": "3329b050",
   "metadata": {},
   "source": [
    "Por ultimo queda determinar el valor del parametro H, para lo cual evaluamos al circuito equivalente en continua con la transimpedancia en $S = 0$:\n",
    "<img src=\"https://i.gyazo.com/f56fd18f420329f8c9c6438941ca9c47.png\"/>"
   ]
  },
  {
   "cell_type": "markdown",
   "id": "8864158c",
   "metadata": {},
   "source": [
    "#### Simulacion circuital\n",
    "<img src=\"https://i.gyazo.com/95dbd541ac0df454ada4b2f5f53e4d54.png\"/>"
   ]
  }
 ],
 "metadata": {
  "kernelspec": {
   "display_name": "Python 3 (ipykernel)",
   "language": "python",
   "name": "python3"
  },
  "language_info": {
   "codemirror_mode": {
    "name": "ipython",
    "version": 3
   },
   "file_extension": ".py",
   "mimetype": "text/x-python",
   "name": "python",
   "nbconvert_exporter": "python",
   "pygments_lexer": "ipython3",
   "version": "3.9.7"
  }
 },
 "nbformat": 4,
 "nbformat_minor": 5
}
