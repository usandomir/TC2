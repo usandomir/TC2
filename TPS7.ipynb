{
 "cells": [
  {
   "cell_type": "markdown",
   "id": "db7f2bc2",
   "metadata": {},
   "source": [
    "# Trabajo Práctico Semanal 7\n",
    "Teoria de circuitos II\n",
    "\n",
    "### Sandomir L Uriel"
   ]
  },
  {
   "cell_type": "markdown",
   "id": "2ca90ccc",
   "metadata": {},
   "source": [
    "Se pide determinar la matriz Z del siguiente cuadripolo:\n",
    "\n",
    "<img src=\"https://i.gyazo.com/a283e906ce99508b4592b6486df8aeb4.png\"/>\n"
   ]
  },
  {
   "cell_type": "markdown",
   "id": "47e7a13f",
   "metadata": {},
   "source": [
    "Sabiendo que se trata de un Transformador Ideal, podemos plantear las ecuaciones del cuadripolo y de la relacion de transferencia en tension y corriente:\n",
    "<img src=\"https://i.gyazo.com/20c89b15885d659d512e87aa8e1e55b3.png\"/>\n",
    "<br>\n",
    "<img src=\"https://i.gyazo.com/375d6d08362603231d28cab5ae8cc0d3.png\"/>\n",
    "<br>\n",
    "<img src=\"https://i.gyazo.com/d8ef136dcba7639810e11c39890fc569.png\"/>"
   ]
  },
  {
   "cell_type": "markdown",
   "id": "3c892fed",
   "metadata": {},
   "source": [
    "<br><br><br><br><br>\n",
    "Ahora, se pide determinar los valores de las admitancias $Y_1, Y_2, Y_3$ y de $a$ para que el circuito resulte reciproco y simetrico de un circuito similar al analizado:\n",
    "<img src=\"https://i.gyazo.com/45a0808b42616e06d792310e85571880.png\"/>"
   ]
  },
  {
   "cell_type": "markdown",
   "id": "6c707854",
   "metadata": {},
   "source": [
    "Planteando simetria obtenemos:\n",
    "<img src=\"https://i.gyazo.com/6b427ffd958e25993f97a07bef6d99c5.png\"/>"
   ]
  },
  {
   "cell_type": "markdown",
   "id": "998cbde9",
   "metadata": {},
   "source": [
    "<br><br>\n",
    "Ya obtuvimos el valor de $a$ para el cual el circuito resulta simetrico, ahora procedemos a plantear las ecuaciones de $Z_{12}$ y $Z_{21}$ para igualarlas y ver para que admitancias obtenemos reciprocidad:\n",
    "<br>\n",
    "<img src=\"https://i.gyazo.com/13c1af128bef3bf8d23353db5acc5d7b.png\"/>\n",
    "<img src=\"https://i.gyazo.com/a32f6236c888de39bf01de1720142ea4.png\"/>\n",
    "<br><br>"
   ]
  },
  {
   "cell_type": "markdown",
   "id": "b5e8fc63",
   "metadata": {},
   "source": [
    "A modo conclusivo, podemos observar que esta red resulta simetrica y reciproca para cualquier admitancia que coloquemos en $Y_1$, $Y_2$ o $Y_3$ si se mantiene una relacion de transferencia unitaria en el transformador ideal."
   ]
  }
 ],
 "metadata": {
  "kernelspec": {
   "display_name": "Python 3 (ipykernel)",
   "language": "python",
   "name": "python3"
  },
  "language_info": {
   "codemirror_mode": {
    "name": "ipython",
    "version": 3
   },
   "file_extension": ".py",
   "mimetype": "text/x-python",
   "name": "python",
   "nbconvert_exporter": "python",
   "pygments_lexer": "ipython3",
   "version": "3.9.7"
  }
 },
 "nbformat": 4,
 "nbformat_minor": 5
}
